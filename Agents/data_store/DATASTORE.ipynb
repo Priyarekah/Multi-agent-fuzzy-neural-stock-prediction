{
 "cells": [
  {
   "cell_type": "code",
   "execution_count": 3,
   "id": "afcac0df",
   "metadata": {},
   "outputs": [
    {
     "name": "stdout",
     "output_type": "stream",
     "text": [
      "Saved U11.SI data to /home/priya/Desktop/fyp/Agents/data_store/U11.SI.csv\n",
      "Saved C38U.SI data to /home/priya/Desktop/fyp/Agents/data_store/C38U.SI.csv\n",
      "Saved Q0F.SI data to /home/priya/Desktop/fyp/Agents/data_store/Q0F.SI.csv\n",
      "Saved S68.SI data to /home/priya/Desktop/fyp/Agents/data_store/S68.SI.csv\n",
      "Saved S63.SI data to /home/priya/Desktop/fyp/Agents/data_store/S63.SI.csv\n",
      "Saved AJBU.SI data to /home/priya/Desktop/fyp/Agents/data_store/AJBU.SI.csv\n"
     ]
    }
   ],
   "source": [
    "\n",
    "import os\n",
    "import yfinance as yf\n",
    "\n",
    "# Define stock tickers\n",
    "# tickers = {\"Q0F.SI\", \"C38U.SI\", \"9CI.SI\", \"C07.SI\", \"G13.SI\",\"Q0F.SI\", \"C6L.SI\", \"C38U.SI\", \"9CI.SI\", \"C07.SI\", \"G13.SI\", \"O39.SI\", \"S68.SI\",  \"G07.SI\"}\n",
    "tickers ={\n",
    "    \"U11.SI\": \"UOB Bank\",\n",
    "    \"C38U.SI\": \"CapitaLand Integrated Commercial Trust\",\n",
    "    \"Q0F.SI\": \"IHH Healthcare\",\n",
    "    \"S68.SI\": \"SGX\",\n",
    "    \"S63.SI\": \"ST Engineering\",\n",
    "    \"AJBU.SI\": \"Keppel DC REIT\"\n",
    "}\n",
    "# {\n",
    "\n",
    "#     \"D05.SI\",\n",
    "#     \"O39.SI\",\n",
    "#     \"U11.SI\",\n",
    "#     \"Z74.SI\",\n",
    "#     \"F34.SI\",\n",
    "#     \"Q0F.SI\",\n",
    "#     \"S63.SI\",\n",
    "#     \"J36.SI\",\n",
    "#     \"S68.SI\",\n",
    "#     \"C38U.SI\",\n",
    "#     \"Y92.SI\",\n",
    "#     \"H78.SI\",\n",
    "#     \"9CI.SI\",\n",
    "#     \"G07.SI\",\n",
    "#     \"BN4.SI\",\n",
    "#     \"BS6.SI\",\n",
    "#     \"A17U.SI\",\n",
    "#     \"C07.SI\",\n",
    "#     \"U96.SI\",\n",
    "#     \"G13.SI\",\n",
    "#     \"5E2.SI\",\n",
    "#     \"N2IU.SI\",\n",
    "#     \"M44U.SI\",\n",
    "#     \"ME8U.SI\",\n",
    "#     \"S58.SI\",\n",
    "#     \"AJBU.SI\"\n",
    "# }\n",
    "\n",
    "\n",
    "# Create output directory\n",
    "output_dir = \"/home/priya/Desktop/fyp/Agents/data_store\"\n",
    "os.makedirs(output_dir, exist_ok=True)\n",
    "\n",
    "# Fetch and save stock data\n",
    "for ticker in tickers:\n",
    "    stock = yf.Ticker(ticker)\n",
    "    df = stock.history(period=\"10y\")  # Adjust period as needed\n",
    "\n",
    "    # Drop \"Dividends\" and \"Stock Splits\" columns\n",
    "    df = df.drop(columns=[\"Dividends\", \"Stock Splits\"], errors=\"ignore\")\n",
    "\n",
    "    csv_path = os.path.join(output_dir, f\"{ticker}.csv\")\n",
    "    df.to_csv(csv_path)\n",
    "    print(f\"Saved {ticker} data to {csv_path}\")"
   ]
  },
  {
   "cell_type": "code",
   "execution_count": null,
   "id": "73b6d404",
   "metadata": {},
   "outputs": [],
   "source": []
  }
 ],
 "metadata": {
  "kernelspec": {
   "display_name": "Python 3",
   "language": "python",
   "name": "python3"
  },
  "language_info": {
   "codemirror_mode": {
    "name": "ipython",
    "version": 3
   },
   "file_extension": ".py",
   "mimetype": "text/x-python",
   "name": "python",
   "nbconvert_exporter": "python",
   "pygments_lexer": "ipython3",
   "version": "3.10.12"
  }
 },
 "nbformat": 4,
 "nbformat_minor": 5
}
