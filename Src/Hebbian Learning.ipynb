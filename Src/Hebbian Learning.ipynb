{
 "cells": [
  {
   "cell_type": "code",
   "execution_count": 60,
   "id": "11f0042b",
   "metadata": {},
   "outputs": [],
   "source": [
    "import pandas as pd\n",
    "import numpy as np\n",
    "import pickle\n",
    "\n",
    "from datetime import datetime, date\n",
    "from tqdm.auto import tqdm\n"
   ]
  },
  {
   "cell_type": "markdown",
   "id": "1bb11ca7",
   "metadata": {},
   "source": [
    "# Setup"
   ]
  },
  {
   "cell_type": "markdown",
   "id": "59ccfbf9",
   "metadata": {},
   "source": [
    "retrieve data"
   ]
  },
  {
   "cell_type": "code",
   "execution_count": 61,
   "id": "3b50cf74",
   "metadata": {},
   "outputs": [
    {
     "name": "stdout",
     "output_type": "stream",
     "text": [
      "         Date\n",
      "0  2000-01-21\n",
      "1  2000-01-24\n",
      "2  2000-01-25\n",
      "3  2000-01-26\n",
      "4  2000-01-27\n"
     ]
    }
   ],
   "source": [
    "import pandas as pd\n",
    "import pickle\n",
    "from datetime import datetime\n",
    "\n",
    "ticker = 'U11.SI'\n",
    "plus_target = 13\n",
    "\n",
    "# Load data\n",
    "mcesdf = pd.read_csv(f'data/{ticker}/Tp{plus_target}/Tp{plus_target}_mcesdf.csv')\n",
    "ftraindf = pd.read_csv(f'data/{ticker}/ftraindf.csv')\n",
    "pred_results = pd.read_csv(f'data/{ticker}/train/Tp{plus_target}_train_clustermembership.csv')\n",
    "\n",
    "# Load cluster interpretation details\n",
    "with open(f'/home/priya/Desktop/fyp/Src alwin/Src/data/{ticker}/cluster_details.pkl', 'rb') as handle:\n",
    "    cluster_details = pickle.load(handle)\n",
    "\n",
    "# Convert 'Date' in ftraindf to datetime.date\n",
    "ftraindf['Date'] = pd.to_datetime(ftraindf['Date']).dt.date\n",
    "\n",
    "# If pred_results doesn't contain date, align using ftraindf\n",
    "if len(pred_results) <= len(ftraindf):\n",
    "    pred_results['Date'] = ftraindf['Date'].iloc[:len(pred_results)].values\n",
    "else:\n",
    "    raise ValueError(\"Mismatch in row count between ftraindf and pred_results\")\n",
    "\n",
    "# Now pred_results has a proper Date column\n",
    "print(pred_results[['Date']].head())\n"
   ]
  },
  {
   "cell_type": "markdown",
   "id": "2af585a8",
   "metadata": {},
   "source": [
    "format data"
   ]
  },
  {
   "cell_type": "code",
   "execution_count": 62,
   "id": "4973f68b",
   "metadata": {},
   "outputs": [],
   "source": [
    "ftraindf = ftraindf[ftraindf['Date'] >= date(2013, 1, 1)]\n",
    "pred_results = pred_results[pred_results['Date'] >= date(2013, 1, 1)]"
   ]
  },
  {
   "cell_type": "code",
   "execution_count": 63,
   "id": "a51afd54",
   "metadata": {},
   "outputs": [],
   "source": [
    "ftraindf = ftraindf.drop(['Date'], axis = 1).reset_index(drop = True)\n",
    "pred_results = pred_results.drop(['Date', 'pc_pred'], axis = 1).reset_index(drop = True)"
   ]
  },
  {
   "cell_type": "code",
   "execution_count": 64,
   "id": "c72dc36c",
   "metadata": {},
   "outputs": [
    {
     "data": {
      "text/html": [
       "<div>\n",
       "<style scoped>\n",
       "    .dataframe tbody tr th:only-of-type {\n",
       "        vertical-align: middle;\n",
       "    }\n",
       "\n",
       "    .dataframe tbody tr th {\n",
       "        vertical-align: top;\n",
       "    }\n",
       "\n",
       "    .dataframe thead th {\n",
       "        text-align: right;\n",
       "    }\n",
       "</style>\n",
       "<table border=\"1\" class=\"dataframe\">\n",
       "  <thead>\n",
       "    <tr style=\"text-align: right;\">\n",
       "      <th></th>\n",
       "      <th>Unnamed: 0</th>\n",
       "      <th>y_Tp13_PriceChg_c0</th>\n",
       "      <th>y_Tp13_PriceChg_c1</th>\n",
       "      <th>y_Tp13_PriceChg_c2</th>\n",
       "      <th>y_Tp13_PriceChg_c3</th>\n",
       "      <th>y_Tp13_PriceChg_c4</th>\n",
       "      <th>y_Tp13_PriceChg_c5</th>\n",
       "      <th>y_Tp13_PriceChg_c6</th>\n",
       "    </tr>\n",
       "  </thead>\n",
       "  <tbody>\n",
       "    <tr>\n",
       "      <th>0</th>\n",
       "      <td>3305</td>\n",
       "      <td>0.025752</td>\n",
       "      <td>0.015982</td>\n",
       "      <td>0.284012</td>\n",
       "      <td>0.528466</td>\n",
       "      <td>0.139746</td>\n",
       "      <td>0.009322</td>\n",
       "      <td>-0.003280</td>\n",
       "    </tr>\n",
       "    <tr>\n",
       "      <th>1</th>\n",
       "      <td>3306</td>\n",
       "      <td>0.001262</td>\n",
       "      <td>0.002500</td>\n",
       "      <td>0.225787</td>\n",
       "      <td>0.542786</td>\n",
       "      <td>0.233658</td>\n",
       "      <td>-0.005050</td>\n",
       "      <td>-0.000943</td>\n",
       "    </tr>\n",
       "    <tr>\n",
       "      <th>2</th>\n",
       "      <td>3307</td>\n",
       "      <td>0.114254</td>\n",
       "      <td>0.224235</td>\n",
       "      <td>0.353752</td>\n",
       "      <td>0.091075</td>\n",
       "      <td>0.142901</td>\n",
       "      <td>0.007501</td>\n",
       "      <td>0.066282</td>\n",
       "    </tr>\n",
       "    <tr>\n",
       "      <th>3</th>\n",
       "      <td>3308</td>\n",
       "      <td>0.036085</td>\n",
       "      <td>0.035791</td>\n",
       "      <td>0.343069</td>\n",
       "      <td>0.472719</td>\n",
       "      <td>0.137547</td>\n",
       "      <td>-0.049248</td>\n",
       "      <td>0.024038</td>\n",
       "    </tr>\n",
       "    <tr>\n",
       "      <th>4</th>\n",
       "      <td>3309</td>\n",
       "      <td>0.000050</td>\n",
       "      <td>-0.033973</td>\n",
       "      <td>0.246241</td>\n",
       "      <td>0.421255</td>\n",
       "      <td>0.314916</td>\n",
       "      <td>0.016991</td>\n",
       "      <td>0.034519</td>\n",
       "    </tr>\n",
       "    <tr>\n",
       "      <th>...</th>\n",
       "      <td>...</td>\n",
       "      <td>...</td>\n",
       "      <td>...</td>\n",
       "      <td>...</td>\n",
       "      <td>...</td>\n",
       "      <td>...</td>\n",
       "      <td>...</td>\n",
       "      <td>...</td>\n",
       "    </tr>\n",
       "    <tr>\n",
       "      <th>1248</th>\n",
       "      <td>4553</td>\n",
       "      <td>-0.014901</td>\n",
       "      <td>-0.007506</td>\n",
       "      <td>0.232095</td>\n",
       "      <td>0.616197</td>\n",
       "      <td>0.194765</td>\n",
       "      <td>-0.003984</td>\n",
       "      <td>-0.016664</td>\n",
       "    </tr>\n",
       "    <tr>\n",
       "      <th>1249</th>\n",
       "      <td>4554</td>\n",
       "      <td>0.018491</td>\n",
       "      <td>0.014299</td>\n",
       "      <td>0.318038</td>\n",
       "      <td>0.440066</td>\n",
       "      <td>0.201101</td>\n",
       "      <td>0.000745</td>\n",
       "      <td>0.007261</td>\n",
       "    </tr>\n",
       "    <tr>\n",
       "      <th>1250</th>\n",
       "      <td>4555</td>\n",
       "      <td>-0.042225</td>\n",
       "      <td>-0.074640</td>\n",
       "      <td>0.062175</td>\n",
       "      <td>-0.014042</td>\n",
       "      <td>0.171204</td>\n",
       "      <td>0.664514</td>\n",
       "      <td>0.233013</td>\n",
       "    </tr>\n",
       "    <tr>\n",
       "      <th>1251</th>\n",
       "      <td>4556</td>\n",
       "      <td>0.152115</td>\n",
       "      <td>0.135384</td>\n",
       "      <td>0.450654</td>\n",
       "      <td>0.103704</td>\n",
       "      <td>0.217214</td>\n",
       "      <td>-0.025583</td>\n",
       "      <td>-0.033488</td>\n",
       "    </tr>\n",
       "    <tr>\n",
       "      <th>1252</th>\n",
       "      <td>4557</td>\n",
       "      <td>0.057004</td>\n",
       "      <td>0.023900</td>\n",
       "      <td>0.292924</td>\n",
       "      <td>0.490355</td>\n",
       "      <td>0.133126</td>\n",
       "      <td>0.000353</td>\n",
       "      <td>0.002338</td>\n",
       "    </tr>\n",
       "  </tbody>\n",
       "</table>\n",
       "<p>1253 rows × 8 columns</p>\n",
       "</div>"
      ],
      "text/plain": [
       "      Unnamed: 0  y_Tp13_PriceChg_c0  y_Tp13_PriceChg_c1  y_Tp13_PriceChg_c2  \\\n",
       "0           3305            0.025752            0.015982            0.284012   \n",
       "1           3306            0.001262            0.002500            0.225787   \n",
       "2           3307            0.114254            0.224235            0.353752   \n",
       "3           3308            0.036085            0.035791            0.343069   \n",
       "4           3309            0.000050           -0.033973            0.246241   \n",
       "...          ...                 ...                 ...                 ...   \n",
       "1248        4553           -0.014901           -0.007506            0.232095   \n",
       "1249        4554            0.018491            0.014299            0.318038   \n",
       "1250        4555           -0.042225           -0.074640            0.062175   \n",
       "1251        4556            0.152115            0.135384            0.450654   \n",
       "1252        4557            0.057004            0.023900            0.292924   \n",
       "\n",
       "      y_Tp13_PriceChg_c3  y_Tp13_PriceChg_c4  y_Tp13_PriceChg_c5  \\\n",
       "0               0.528466            0.139746            0.009322   \n",
       "1               0.542786            0.233658           -0.005050   \n",
       "2               0.091075            0.142901            0.007501   \n",
       "3               0.472719            0.137547           -0.049248   \n",
       "4               0.421255            0.314916            0.016991   \n",
       "...                  ...                 ...                 ...   \n",
       "1248            0.616197            0.194765           -0.003984   \n",
       "1249            0.440066            0.201101            0.000745   \n",
       "1250           -0.014042            0.171204            0.664514   \n",
       "1251            0.103704            0.217214           -0.025583   \n",
       "1252            0.490355            0.133126            0.000353   \n",
       "\n",
       "      y_Tp13_PriceChg_c6  \n",
       "0              -0.003280  \n",
       "1              -0.000943  \n",
       "2               0.066282  \n",
       "3               0.024038  \n",
       "4               0.034519  \n",
       "...                  ...  \n",
       "1248           -0.016664  \n",
       "1249            0.007261  \n",
       "1250            0.233013  \n",
       "1251           -0.033488  \n",
       "1252            0.002338  \n",
       "\n",
       "[1253 rows x 8 columns]"
      ]
     },
     "execution_count": 64,
     "metadata": {},
     "output_type": "execute_result"
    }
   ],
   "source": [
    "pred_results"
   ]
  },
  {
   "cell_type": "markdown",
   "id": "692722cf",
   "metadata": {},
   "source": [
    "list of selected features"
   ]
  },
  {
   "cell_type": "code",
   "execution_count": 65,
   "id": "df9674c2",
   "metadata": {},
   "outputs": [],
   "source": [
    "selected = list(mcesdf.head(6)['cols'])"
   ]
  },
  {
   "cell_type": "markdown",
   "id": "438f1a2a",
   "metadata": {},
   "source": [
    "column dictionary per feature"
   ]
  },
  {
   "cell_type": "code",
   "execution_count": 66,
   "id": "d46c4459",
   "metadata": {},
   "outputs": [],
   "source": [
    "column_dictionary = {}\n",
    "\n",
    "for feature in selected: \n",
    "    column_dictionary[feature] = list(cluster_details[feature].keys())"
   ]
  },
  {
   "cell_type": "markdown",
   "id": "2ba906fa",
   "metadata": {},
   "source": [
    "# Main Body"
   ]
  },
  {
   "cell_type": "markdown",
   "id": "3a78ba4d",
   "metadata": {},
   "source": [
    "Variables"
   ]
  },
  {
   "cell_type": "code",
   "execution_count": 67,
   "id": "723a5039",
   "metadata": {},
   "outputs": [],
   "source": [
    "plus_target = 13\n",
    "fuzzy_rule_base = [{}] \n",
    "hebbian_weights = np.array(0)\n",
    "target = f'y_Tp{plus_target}_PriceChg'\n",
    "decaying_factor = 0.98"
   ]
  },
  {
   "cell_type": "markdown",
   "id": "67c538a5",
   "metadata": {},
   "source": [
    "Main Body"
   ]
  },
  {
   "cell_type": "code",
   "execution_count": 68,
   "id": "8ce451df",
   "metadata": {},
   "outputs": [
    {
     "data": {
      "application/vnd.jupyter.widget-view+json": {
       "model_id": "aec55681b3ca49e2b9c5addd5831b65f",
       "version_major": 2,
       "version_minor": 0
      },
      "text/plain": [
       "  0%|          | 0/1253 [00:00<?, ?it/s]"
      ]
     },
     "metadata": {},
     "output_type": "display_data"
    },
    {
     "data": {
      "text/html": [
       "<div>\n",
       "<style scoped>\n",
       "    .dataframe tbody tr th:only-of-type {\n",
       "        vertical-align: middle;\n",
       "    }\n",
       "\n",
       "    .dataframe tbody tr th {\n",
       "        vertical-align: top;\n",
       "    }\n",
       "\n",
       "    .dataframe thead th {\n",
       "        text-align: right;\n",
       "    }\n",
       "</style>\n",
       "<table border=\"1\" class=\"dataframe\">\n",
       "  <thead>\n",
       "    <tr style=\"text-align: right;\">\n",
       "      <th></th>\n",
       "      <th>rule</th>\n",
       "      <th>weight</th>\n",
       "    </tr>\n",
       "  </thead>\n",
       "  <tbody>\n",
       "    <tr>\n",
       "      <th>0</th>\n",
       "      <td>{'x_Tm1_PRoc1': 'x_Tm1_PRoc1_c2', 'x_Tm11_PRoc...</td>\n",
       "      <td>1.978627e+04</td>\n",
       "    </tr>\n",
       "    <tr>\n",
       "      <th>1</th>\n",
       "      <td>{'x_Tm1_PRoc1': 'x_Tm1_PRoc1_c2', 'x_Tm11_PRoc...</td>\n",
       "      <td>9.313416e+03</td>\n",
       "    </tr>\n",
       "    <tr>\n",
       "      <th>2</th>\n",
       "      <td>{'x_Tm1_PRoc1': 'x_Tm1_PRoc1_c2', 'x_Tm11_PRoc...</td>\n",
       "      <td>7.795837e+03</td>\n",
       "    </tr>\n",
       "    <tr>\n",
       "      <th>3</th>\n",
       "      <td>{'x_Tm1_PRoc1': 'x_Tm1_PRoc1_c2', 'x_Tm11_PRoc...</td>\n",
       "      <td>6.877351e+03</td>\n",
       "    </tr>\n",
       "    <tr>\n",
       "      <th>4</th>\n",
       "      <td>{'x_Tm1_PRoc1': 'x_Tm1_PRoc1_c2', 'x_Tm11_PRoc...</td>\n",
       "      <td>6.851234e+03</td>\n",
       "    </tr>\n",
       "    <tr>\n",
       "      <th>...</th>\n",
       "      <td>...</td>\n",
       "      <td>...</td>\n",
       "    </tr>\n",
       "    <tr>\n",
       "      <th>249</th>\n",
       "      <td>{'x_Tm1_PRoc1': 'x_Tm1_PRoc1_c3', 'x_Tm11_PRoc...</td>\n",
       "      <td>8.760749e-08</td>\n",
       "    </tr>\n",
       "    <tr>\n",
       "      <th>250</th>\n",
       "      <td>{'x_Tm1_PRoc1': 'x_Tm1_PRoc1_c2', 'x_Tm11_PRoc...</td>\n",
       "      <td>8.083163e-08</td>\n",
       "    </tr>\n",
       "    <tr>\n",
       "      <th>251</th>\n",
       "      <td>{'x_Tm1_PRoc1': 'x_Tm1_PRoc1_c2', 'x_Tm11_PRoc...</td>\n",
       "      <td>4.485817e-08</td>\n",
       "    </tr>\n",
       "    <tr>\n",
       "      <th>252</th>\n",
       "      <td>{'x_Tm1_PRoc1': 'x_Tm1_PRoc1_c3', 'x_Tm11_PRoc...</td>\n",
       "      <td>3.694018e-08</td>\n",
       "    </tr>\n",
       "    <tr>\n",
       "      <th>253</th>\n",
       "      <td>{'x_Tm1_PRoc1': 'x_Tm1_PRoc1_c2', 'x_Tm11_PRoc...</td>\n",
       "      <td>2.063266e-08</td>\n",
       "    </tr>\n",
       "  </tbody>\n",
       "</table>\n",
       "<p>254 rows × 2 columns</p>\n",
       "</div>"
      ],
      "text/plain": [
       "                                                  rule        weight\n",
       "0    {'x_Tm1_PRoc1': 'x_Tm1_PRoc1_c2', 'x_Tm11_PRoc...  1.978627e+04\n",
       "1    {'x_Tm1_PRoc1': 'x_Tm1_PRoc1_c2', 'x_Tm11_PRoc...  9.313416e+03\n",
       "2    {'x_Tm1_PRoc1': 'x_Tm1_PRoc1_c2', 'x_Tm11_PRoc...  7.795837e+03\n",
       "3    {'x_Tm1_PRoc1': 'x_Tm1_PRoc1_c2', 'x_Tm11_PRoc...  6.877351e+03\n",
       "4    {'x_Tm1_PRoc1': 'x_Tm1_PRoc1_c2', 'x_Tm11_PRoc...  6.851234e+03\n",
       "..                                                 ...           ...\n",
       "249  {'x_Tm1_PRoc1': 'x_Tm1_PRoc1_c3', 'x_Tm11_PRoc...  8.760749e-08\n",
       "250  {'x_Tm1_PRoc1': 'x_Tm1_PRoc1_c2', 'x_Tm11_PRoc...  8.083163e-08\n",
       "251  {'x_Tm1_PRoc1': 'x_Tm1_PRoc1_c2', 'x_Tm11_PRoc...  4.485817e-08\n",
       "252  {'x_Tm1_PRoc1': 'x_Tm1_PRoc1_c3', 'x_Tm11_PRoc...  3.694018e-08\n",
       "253  {'x_Tm1_PRoc1': 'x_Tm1_PRoc1_c2', 'x_Tm11_PRoc...  2.063266e-08\n",
       "\n",
       "[254 rows x 2 columns]"
      ]
     },
     "execution_count": 68,
     "metadata": {},
     "output_type": "execute_result"
    }
   ],
   "source": [
    "\n",
    "\n",
    "count = 0 \n",
    "\n",
    "for row in tqdm(range(len(ftraindf))): \n",
    "    \n",
    "    rule = {} \n",
    "    \n",
    "    instance_cols = [] \n",
    "    \n",
    "    for feature in selected: \n",
    "        cols = column_dictionary[feature]\n",
    "        max_x_cluster = ftraindf[cols].iloc[row].idxmax()\n",
    "        rule[feature] = max_x_cluster\n",
    "    \n",
    "    minA_value = ftraindf[list(rule.values())].iloc[row].min() \n",
    "    \n",
    "    # dealing with y \n",
    "    max_y_cluster = pred_results.iloc[row].idxmax() \n",
    "    maxC_value = pred_results.iloc[row].max() \n",
    "    rule[target] = max_y_cluster\n",
    "    \n",
    "    # hebbian weight\n",
    "    weight = minA_value * maxC_value\n",
    "    \n",
    "    \n",
    "    \n",
    "    # update weights (yay)\n",
    "    \n",
    "    # check if rule exists\n",
    "    if rule in fuzzy_rule_base: \n",
    "        \n",
    "        # identify index \n",
    "        index = fuzzy_rule_base.index(rule)\n",
    "        updated_weight = hebbian_weights[index] + weight\n",
    "        \n",
    "        # applying decaying factor        \n",
    "        hebbian_weights = hebbian_weights*decaying_factor\n",
    "        \n",
    "        # update instance weight \n",
    "        hebbian_weights[index] = updated_weight\n",
    "    \n",
    "    else: \n",
    "        \n",
    "        # applying decaying factor \n",
    "        hebbian_weights = hebbian_weights*decaying_factor\n",
    "        \n",
    "        # get instance weight \n",
    "        updated_weight = weight\n",
    "        \n",
    "        # append rule & respective weight \n",
    "        fuzzy_rule_base.append(rule)\n",
    "        hebbian_weights = np.append(hebbian_weights, updated_weight)\n",
    "    \n",
    "#     count += 1\n",
    "#     if count == 10: break\n",
    "\n",
    "# delete the dummy elements\n",
    "fuzzy_rule_base = fuzzy_rule_base[1:]\n",
    "hebbian_weights = np.delete(hebbian_weights, [0])\n",
    "\n",
    "hebbian_data = {\n",
    "    'rule': fuzzy_rule_base, \n",
    "    'weight': hebbian_weights\n",
    "}\n",
    "\n",
    "hebbian = pd.DataFrame(hebbian_data)\n",
    "hebbian = hebbian.sort_values(['weight'], ascending = False).reset_index(drop = True)\n",
    "hebbian\n"
   ]
  },
  {
   "cell_type": "code",
   "execution_count": 69,
   "id": "243fce77",
   "metadata": {},
   "outputs": [],
   "source": [
    "hebbian.to_csv(f'{ticker}Tp{plus_target}.csv')"
   ]
  },
  {
   "cell_type": "markdown",
   "id": "b331dca5",
   "metadata": {},
   "source": []
  },
  {
   "cell_type": "code",
   "execution_count": 70,
   "id": "7639eee4",
   "metadata": {},
   "outputs": [
    {
     "data": {
      "text/plain": [
       "{'x_Tm1_PRoc1': 'x_Tm1_PRoc1_c2',\n",
       " 'x_Tm11_PRoc1': 'x_Tm11_PRoc1_c2',\n",
       " 'x_Tm2_VolChg': 'x_Tm2_VolChg_c1',\n",
       " 'x_Tm12_VolChg': 'x_Tm12_VolChg_c0',\n",
       " 'x_Tm2_PriceChg': 'x_Tm2_PriceChg_c2',\n",
       " 'x_Tm5_PriceChg': 'x_Tm5_PriceChg_c2',\n",
       " 'y_Tp13_PriceChg': 'Unnamed: 0'}"
      ]
     },
     "execution_count": 70,
     "metadata": {},
     "output_type": "execute_result"
    }
   ],
   "source": [
    "hebbian['rule'][0]"
   ]
  },
  {
   "cell_type": "code",
   "execution_count": null,
   "id": "9fbf3ad9",
   "metadata": {},
   "outputs": [],
   "source": []
  }
 ],
 "metadata": {
  "kernelspec": {
   "display_name": "Python 3",
   "language": "python",
   "name": "python3"
  },
  "language_info": {
   "codemirror_mode": {
    "name": "ipython",
    "version": 3
   },
   "file_extension": ".py",
   "mimetype": "text/x-python",
   "name": "python",
   "nbconvert_exporter": "python",
   "pygments_lexer": "ipython3",
   "version": "3.10.12"
  }
 },
 "nbformat": 4,
 "nbformat_minor": 5
}
