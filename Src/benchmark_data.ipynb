{
 "cells": [
  {
   "cell_type": "code",
   "execution_count": 1,
   "id": "5b2ce454",
   "metadata": {},
   "outputs": [],
   "source": [
    "import warnings\n",
    "import pickle\n",
    "import sys\n",
    "import os\n",
    "import matplotlib.pyplot as plt \n",
    "import numpy as np\n",
    "import pandas as pd\n",
    "\n",
    "sys.path.append(os.path.dirname(os.getcwd()))\n",
    "\n",
    "\n",
    "from s1_data_preparation.data_preparation import retrieve_data\n"
   ]
  },
  {
   "cell_type": "code",
   "execution_count": 2,
   "id": "e8116887",
   "metadata": {},
   "outputs": [],
   "source": [
    "\n",
    "from datetime import date \n",
    "\n",
    "ZERO_REPLACEMENT = 0.0001 \n",
    "PERIOD = 14\n",
    "PRED_PERIOD = 13\n",
    "TEST_START = date(2019, 1, 1)\n",
    "TEST_END = date(2025, 1, 1)\n",
    "VAL_START = date(2018, 1, 1)"
   ]
  },
  {
   "cell_type": "markdown",
   "id": "fcb01a4b",
   "metadata": {},
   "source": []
  },
  {
   "cell_type": "code",
   "execution_count": 3,
   "id": "16528a8f",
   "metadata": {},
   "outputs": [
    {
     "name": "stdout",
     "output_type": "stream",
     "text": [
      "YF.download() has changed argument auto_adjust default to True\n"
     ]
    },
    {
     "name": "stderr",
     "output_type": "stream",
     "text": [
      "[*********************100%***********************]  1 of 1 completed\n"
     ]
    },
    {
     "name": "stdout",
     "output_type": "stream",
     "text": [
      "Columns after reset_index: Index(['Date', 'Close', 'High', 'Low', 'Open', 'Volume'], dtype='object', name='Price')\n"
     ]
    },
    {
     "name": "stderr",
     "output_type": "stream",
     "text": [
      "/home/priya/Desktop/fyp/Src alwin/Src/s1_data_preparation/data_preparation.py:17: UserWarning: Boolean Series key will be reindexed to match DataFrame index.\n",
      "  valdf = df[df['Date'] >= VAL_START][df['Date'] < TEST_START]\n",
      "/home/priya/Desktop/fyp/Src alwin/Src/s1_data_preparation/data_preparation.py:18: UserWarning: Boolean Series key will be reindexed to match DataFrame index.\n",
      "  testdf = df[df['Date'] >= TEST_START][df['Date'] < TEST_END]\n"
     ]
    }
   ],
   "source": [
    "ticker = 'C38U.SI'\n",
    "traindf, valdf, testdf = retrieve_data(ticker)"
   ]
  },
  {
   "cell_type": "code",
   "execution_count": 4,
   "id": "a81e5b84",
   "metadata": {},
   "outputs": [],
   "source": [
    "yrefs = [col for col in traindf.columns if 'yref_Tp' in col and 'Date' not in col]\n",
    "\n",
    "for yref in yrefs: \n",
    "    header = yref.replace('yref', 'y').replace('Price', 'PriceChg')\n",
    "    traindf[header] = traindf.apply(lambda x: (x[yref] - x['refPrice_Tm14'])/x['refPrice_Tm14'], axis = 1)\n",
    "    valdf[header] = valdf.apply(lambda x: (x[yref] - x['refPrice_Tm14'])/x['refPrice_Tm14'], axis = 1)\n",
    "    testdf[header] = testdf.apply(lambda x: (x[yref] - x['refPrice_Tm14'])/x['refPrice_Tm14'], axis = 1)\n"
   ]
  },
  {
   "cell_type": "code",
   "execution_count": 5,
   "id": "ca5e8b55",
   "metadata": {},
   "outputs": [],
   "source": [
    "\n",
    "traindf.to_csv('benchmark_C38U.SI_traindf.csv')\n",
    "valdf.to_csv('benchmark_C38U.SI_valdf.csv')\n",
    "testdf.to_csv('benchmark_C38U.SI_testdf.csv')"
   ]
  }
 ],
 "metadata": {
  "kernelspec": {
   "display_name": "Python 3",
   "language": "python",
   "name": "python3"
  },
  "language_info": {
   "codemirror_mode": {
    "name": "ipython",
    "version": 3
   },
   "file_extension": ".py",
   "mimetype": "text/x-python",
   "name": "python",
   "nbconvert_exporter": "python",
   "pygments_lexer": "ipython3",
   "version": "3.10.12"
  }
 },
 "nbformat": 4,
 "nbformat_minor": 5
}
