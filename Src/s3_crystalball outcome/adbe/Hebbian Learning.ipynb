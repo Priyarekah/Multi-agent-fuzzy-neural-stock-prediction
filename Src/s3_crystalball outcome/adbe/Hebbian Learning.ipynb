{
 "cells": [
  {
   "cell_type": "code",
   "execution_count": 1,
   "id": "11f0042b",
   "metadata": {},
   "outputs": [],
   "source": [
    "import pandas as pd\n",
    "import numpy as np\n",
    "import pickle\n",
    "\n",
    "from datetime import datetime, date\n",
    "from tqdm.auto import tqdm\n"
   ]
  },
  {
   "cell_type": "markdown",
   "id": "1bb11ca7",
   "metadata": {},
   "source": [
    "# Setup"
   ]
  },
  {
   "cell_type": "markdown",
   "id": "59ccfbf9",
   "metadata": {},
   "source": [
    "retrieve data"
   ]
  },
  {
   "cell_type": "code",
   "execution_count": 2,
   "id": "3b50cf74",
   "metadata": {},
   "outputs": [],
   "source": [
    "ticker = 'adbe'\n",
    "plus_target = 13\n",
    "\n",
    "mcesdf = pd.read_csv(f'data/mces/Tp{plus_target}_mcesdf.csv')\n",
    "ftraindf = pd.read_csv(f'data/ftraindf.csv')\n",
    "pred_results = pd.read_csv(f'data/train/Tp{plus_target}_train_clustermembership.csv')\n",
    "\n",
    "\n",
    "with open(f'data/cluster_details.pkl', 'rb') as handle:\n",
    "    cluster_details = pickle.load(handle)\n",
    "\n",
    "    \n",
    "ftraindf['Date'] = ftraindf.apply(lambda x: datetime.strptime(x.Date, '%Y-%m-%d').date(), axis = 1)\n",
    "pred_results['Date'] = pred_results.apply(lambda x: datetime.strptime(x.Date, '%Y-%m-%d').date(), axis = 1)"
   ]
  },
  {
   "cell_type": "markdown",
   "id": "2af585a8",
   "metadata": {},
   "source": [
    "format data"
   ]
  },
  {
   "cell_type": "code",
   "execution_count": 3,
   "id": "4973f68b",
   "metadata": {},
   "outputs": [],
   "source": [
    "ftraindf = ftraindf[ftraindf['Date'] >= date(2013, 1, 1)]\n",
    "pred_results = pred_results[pred_results['Date'] >= date(2013, 1, 1)]"
   ]
  },
  {
   "cell_type": "code",
   "execution_count": 4,
   "id": "a51afd54",
   "metadata": {},
   "outputs": [],
   "source": [
    "ftraindf = ftraindf.drop(['Date'], axis = 1).reset_index(drop = True)\n",
    "pred_results = pred_results.drop(['Date', 'pc_pred'], axis = 1).reset_index(drop = True)"
   ]
  },
  {
   "cell_type": "code",
   "execution_count": 5,
   "id": "c72dc36c",
   "metadata": {},
   "outputs": [
    {
     "data": {
      "text/html": [
       "<div>\n",
       "<style scoped>\n",
       "    .dataframe tbody tr th:only-of-type {\n",
       "        vertical-align: middle;\n",
       "    }\n",
       "\n",
       "    .dataframe tbody tr th {\n",
       "        vertical-align: top;\n",
       "    }\n",
       "\n",
       "    .dataframe thead th {\n",
       "        text-align: right;\n",
       "    }\n",
       "</style>\n",
       "<table border=\"1\" class=\"dataframe\">\n",
       "  <thead>\n",
       "    <tr style=\"text-align: right;\">\n",
       "      <th></th>\n",
       "      <th>y_Tp13_PriceChg_c0</th>\n",
       "      <th>y_Tp13_PriceChg_c1</th>\n",
       "      <th>y_Tp13_PriceChg_c2</th>\n",
       "      <th>y_Tp13_PriceChg_c3</th>\n",
       "      <th>y_Tp13_PriceChg_c4</th>\n",
       "      <th>y_Tp13_PriceChg_c5</th>\n",
       "      <th>y_Tp13_PriceChg_c6</th>\n",
       "    </tr>\n",
       "  </thead>\n",
       "  <tbody>\n",
       "    <tr>\n",
       "      <th>0</th>\n",
       "      <td>0.002120</td>\n",
       "      <td>0.004375</td>\n",
       "      <td>0.266127</td>\n",
       "      <td>0.493386</td>\n",
       "      <td>0.186901</td>\n",
       "      <td>0.044987</td>\n",
       "      <td>0.0</td>\n",
       "    </tr>\n",
       "    <tr>\n",
       "      <th>1</th>\n",
       "      <td>0.002857</td>\n",
       "      <td>0.005408</td>\n",
       "      <td>0.309099</td>\n",
       "      <td>0.496721</td>\n",
       "      <td>0.148496</td>\n",
       "      <td>0.036057</td>\n",
       "      <td>0.0</td>\n",
       "    </tr>\n",
       "    <tr>\n",
       "      <th>2</th>\n",
       "      <td>0.000664</td>\n",
       "      <td>0.001585</td>\n",
       "      <td>0.214818</td>\n",
       "      <td>0.550094</td>\n",
       "      <td>0.193023</td>\n",
       "      <td>0.038622</td>\n",
       "      <td>0.0</td>\n",
       "    </tr>\n",
       "    <tr>\n",
       "      <th>3</th>\n",
       "      <td>0.002510</td>\n",
       "      <td>0.004873</td>\n",
       "      <td>0.381062</td>\n",
       "      <td>0.512030</td>\n",
       "      <td>0.081359</td>\n",
       "      <td>0.017735</td>\n",
       "      <td>0.0</td>\n",
       "    </tr>\n",
       "    <tr>\n",
       "      <th>4</th>\n",
       "      <td>0.005157</td>\n",
       "      <td>0.008961</td>\n",
       "      <td>0.370797</td>\n",
       "      <td>0.463804</td>\n",
       "      <td>0.116072</td>\n",
       "      <td>0.033804</td>\n",
       "      <td>0.0</td>\n",
       "    </tr>\n",
       "    <tr>\n",
       "      <th>...</th>\n",
       "      <td>...</td>\n",
       "      <td>...</td>\n",
       "      <td>...</td>\n",
       "      <td>...</td>\n",
       "      <td>...</td>\n",
       "      <td>...</td>\n",
       "      <td>...</td>\n",
       "    </tr>\n",
       "    <tr>\n",
       "      <th>1254</th>\n",
       "      <td>0.001974</td>\n",
       "      <td>0.003710</td>\n",
       "      <td>0.324441</td>\n",
       "      <td>0.540728</td>\n",
       "      <td>0.105847</td>\n",
       "      <td>0.022732</td>\n",
       "      <td>0.0</td>\n",
       "    </tr>\n",
       "    <tr>\n",
       "      <th>1255</th>\n",
       "      <td>0.001664</td>\n",
       "      <td>0.003311</td>\n",
       "      <td>0.295867</td>\n",
       "      <td>0.549136</td>\n",
       "      <td>0.124430</td>\n",
       "      <td>0.024935</td>\n",
       "      <td>0.0</td>\n",
       "    </tr>\n",
       "    <tr>\n",
       "      <th>1256</th>\n",
       "      <td>0.002673</td>\n",
       "      <td>0.005138</td>\n",
       "      <td>0.381671</td>\n",
       "      <td>0.511448</td>\n",
       "      <td>0.080794</td>\n",
       "      <td>0.017821</td>\n",
       "      <td>0.0</td>\n",
       "    </tr>\n",
       "    <tr>\n",
       "      <th>1257</th>\n",
       "      <td>0.002418</td>\n",
       "      <td>0.004678</td>\n",
       "      <td>0.377932</td>\n",
       "      <td>0.515964</td>\n",
       "      <td>0.081358</td>\n",
       "      <td>0.017238</td>\n",
       "      <td>0.0</td>\n",
       "    </tr>\n",
       "    <tr>\n",
       "      <th>1258</th>\n",
       "      <td>0.002475</td>\n",
       "      <td>0.004662</td>\n",
       "      <td>0.355650</td>\n",
       "      <td>0.521838</td>\n",
       "      <td>0.093789</td>\n",
       "      <td>0.021037</td>\n",
       "      <td>0.0</td>\n",
       "    </tr>\n",
       "  </tbody>\n",
       "</table>\n",
       "<p>1259 rows × 7 columns</p>\n",
       "</div>"
      ],
      "text/plain": [
       "      y_Tp13_PriceChg_c0  y_Tp13_PriceChg_c1  y_Tp13_PriceChg_c2  \\\n",
       "0               0.002120            0.004375            0.266127   \n",
       "1               0.002857            0.005408            0.309099   \n",
       "2               0.000664            0.001585            0.214818   \n",
       "3               0.002510            0.004873            0.381062   \n",
       "4               0.005157            0.008961            0.370797   \n",
       "...                  ...                 ...                 ...   \n",
       "1254            0.001974            0.003710            0.324441   \n",
       "1255            0.001664            0.003311            0.295867   \n",
       "1256            0.002673            0.005138            0.381671   \n",
       "1257            0.002418            0.004678            0.377932   \n",
       "1258            0.002475            0.004662            0.355650   \n",
       "\n",
       "      y_Tp13_PriceChg_c3  y_Tp13_PriceChg_c4  y_Tp13_PriceChg_c5  \\\n",
       "0               0.493386            0.186901            0.044987   \n",
       "1               0.496721            0.148496            0.036057   \n",
       "2               0.550094            0.193023            0.038622   \n",
       "3               0.512030            0.081359            0.017735   \n",
       "4               0.463804            0.116072            0.033804   \n",
       "...                  ...                 ...                 ...   \n",
       "1254            0.540728            0.105847            0.022732   \n",
       "1255            0.549136            0.124430            0.024935   \n",
       "1256            0.511448            0.080794            0.017821   \n",
       "1257            0.515964            0.081358            0.017238   \n",
       "1258            0.521838            0.093789            0.021037   \n",
       "\n",
       "      y_Tp13_PriceChg_c6  \n",
       "0                    0.0  \n",
       "1                    0.0  \n",
       "2                    0.0  \n",
       "3                    0.0  \n",
       "4                    0.0  \n",
       "...                  ...  \n",
       "1254                 0.0  \n",
       "1255                 0.0  \n",
       "1256                 0.0  \n",
       "1257                 0.0  \n",
       "1258                 0.0  \n",
       "\n",
       "[1259 rows x 7 columns]"
      ]
     },
     "execution_count": 5,
     "metadata": {},
     "output_type": "execute_result"
    }
   ],
   "source": [
    "pred_results"
   ]
  },
  {
   "cell_type": "markdown",
   "id": "692722cf",
   "metadata": {},
   "source": [
    "list of selected features"
   ]
  },
  {
   "cell_type": "code",
   "execution_count": 6,
   "id": "df9674c2",
   "metadata": {},
   "outputs": [],
   "source": [
    "selected = list(mcesdf.head(6)['cols'])"
   ]
  },
  {
   "cell_type": "markdown",
   "id": "438f1a2a",
   "metadata": {},
   "source": [
    "column dictionary per feature"
   ]
  },
  {
   "cell_type": "code",
   "execution_count": 7,
   "id": "d46c4459",
   "metadata": {},
   "outputs": [],
   "source": [
    "column_dictionary = {}\n",
    "\n",
    "for feature in selected: \n",
    "    column_dictionary[feature] = list(cluster_details[feature].keys())"
   ]
  },
  {
   "cell_type": "markdown",
   "id": "2ba906fa",
   "metadata": {},
   "source": [
    "# Main Body"
   ]
  },
  {
   "cell_type": "markdown",
   "id": "3a78ba4d",
   "metadata": {},
   "source": [
    "Variables"
   ]
  },
  {
   "cell_type": "code",
   "execution_count": 8,
   "id": "723a5039",
   "metadata": {},
   "outputs": [],
   "source": [
    "plus_target = 13\n",
    "fuzzy_rule_base = [{}] \n",
    "hebbian_weights = np.array(0)\n",
    "target = f'y_Tp{plus_target}_PriceChg'\n",
    "decaying_factor = 0.98"
   ]
  },
  {
   "cell_type": "markdown",
   "id": "67c538a5",
   "metadata": {},
   "source": [
    "Main Body"
   ]
  },
  {
   "cell_type": "code",
   "execution_count": 9,
   "id": "8ce451df",
   "metadata": {},
   "outputs": [
    {
     "data": {
      "application/vnd.jupyter.widget-view+json": {
       "model_id": "f19b0d50411a4d3ba10c158fb843040a",
       "version_major": 2,
       "version_minor": 0
      },
      "text/plain": [
       "  0%|          | 0/1259 [00:00<?, ?it/s]"
      ]
     },
     "metadata": {},
     "output_type": "display_data"
    },
    {
     "data": {
      "text/html": [
       "<div>\n",
       "<style scoped>\n",
       "    .dataframe tbody tr th:only-of-type {\n",
       "        vertical-align: middle;\n",
       "    }\n",
       "\n",
       "    .dataframe tbody tr th {\n",
       "        vertical-align: top;\n",
       "    }\n",
       "\n",
       "    .dataframe thead th {\n",
       "        text-align: right;\n",
       "    }\n",
       "</style>\n",
       "<table border=\"1\" class=\"dataframe\">\n",
       "  <thead>\n",
       "    <tr style=\"text-align: right;\">\n",
       "      <th></th>\n",
       "      <th>rule</th>\n",
       "      <th>weight</th>\n",
       "    </tr>\n",
       "  </thead>\n",
       "  <tbody>\n",
       "    <tr>\n",
       "      <th>0</th>\n",
       "      <td>{'x_Tm1_PriceChg': 'x_Tm1_PriceChg_c3', 'x_Tm4...</td>\n",
       "      <td>7.839862e+00</td>\n",
       "    </tr>\n",
       "    <tr>\n",
       "      <th>1</th>\n",
       "      <td>{'x_Tm1_PriceChg': 'x_Tm1_PriceChg_c3', 'x_Tm4...</td>\n",
       "      <td>3.029525e+00</td>\n",
       "    </tr>\n",
       "    <tr>\n",
       "      <th>2</th>\n",
       "      <td>{'x_Tm1_PriceChg': 'x_Tm1_PriceChg_c3', 'x_Tm4...</td>\n",
       "      <td>1.418454e+00</td>\n",
       "    </tr>\n",
       "    <tr>\n",
       "      <th>3</th>\n",
       "      <td>{'x_Tm1_PriceChg': 'x_Tm1_PriceChg_c3', 'x_Tm4...</td>\n",
       "      <td>1.229549e+00</td>\n",
       "    </tr>\n",
       "    <tr>\n",
       "      <th>4</th>\n",
       "      <td>{'x_Tm1_PriceChg': 'x_Tm1_PriceChg_c3', 'x_Tm4...</td>\n",
       "      <td>9.535856e-01</td>\n",
       "    </tr>\n",
       "    <tr>\n",
       "      <th>...</th>\n",
       "      <td>...</td>\n",
       "      <td>...</td>\n",
       "    </tr>\n",
       "    <tr>\n",
       "      <th>74</th>\n",
       "      <td>{'x_Tm1_PriceChg': 'x_Tm1_PriceChg_c3', 'x_Tm4...</td>\n",
       "      <td>3.568073e-10</td>\n",
       "    </tr>\n",
       "    <tr>\n",
       "      <th>75</th>\n",
       "      <td>{'x_Tm1_PriceChg': 'x_Tm1_PriceChg_c3', 'x_Tm4...</td>\n",
       "      <td>8.051991e-11</td>\n",
       "    </tr>\n",
       "    <tr>\n",
       "      <th>76</th>\n",
       "      <td>{'x_Tm1_PriceChg': 'x_Tm1_PriceChg_c3', 'x_Tm4...</td>\n",
       "      <td>7.226727e-11</td>\n",
       "    </tr>\n",
       "    <tr>\n",
       "      <th>77</th>\n",
       "      <td>{'x_Tm1_PriceChg': 'x_Tm1_PriceChg_c3', 'x_Tm4...</td>\n",
       "      <td>6.964535e-11</td>\n",
       "    </tr>\n",
       "    <tr>\n",
       "      <th>78</th>\n",
       "      <td>{'x_Tm1_PriceChg': 'x_Tm1_PriceChg_c3', 'x_Tm4...</td>\n",
       "      <td>6.931238e-11</td>\n",
       "    </tr>\n",
       "  </tbody>\n",
       "</table>\n",
       "<p>79 rows × 2 columns</p>\n",
       "</div>"
      ],
      "text/plain": [
       "                                                 rule        weight\n",
       "0   {'x_Tm1_PriceChg': 'x_Tm1_PriceChg_c3', 'x_Tm4...  7.839862e+00\n",
       "1   {'x_Tm1_PriceChg': 'x_Tm1_PriceChg_c3', 'x_Tm4...  3.029525e+00\n",
       "2   {'x_Tm1_PriceChg': 'x_Tm1_PriceChg_c3', 'x_Tm4...  1.418454e+00\n",
       "3   {'x_Tm1_PriceChg': 'x_Tm1_PriceChg_c3', 'x_Tm4...  1.229549e+00\n",
       "4   {'x_Tm1_PriceChg': 'x_Tm1_PriceChg_c3', 'x_Tm4...  9.535856e-01\n",
       "..                                                ...           ...\n",
       "74  {'x_Tm1_PriceChg': 'x_Tm1_PriceChg_c3', 'x_Tm4...  3.568073e-10\n",
       "75  {'x_Tm1_PriceChg': 'x_Tm1_PriceChg_c3', 'x_Tm4...  8.051991e-11\n",
       "76  {'x_Tm1_PriceChg': 'x_Tm1_PriceChg_c3', 'x_Tm4...  7.226727e-11\n",
       "77  {'x_Tm1_PriceChg': 'x_Tm1_PriceChg_c3', 'x_Tm4...  6.964535e-11\n",
       "78  {'x_Tm1_PriceChg': 'x_Tm1_PriceChg_c3', 'x_Tm4...  6.931238e-11\n",
       "\n",
       "[79 rows x 2 columns]"
      ]
     },
     "execution_count": 9,
     "metadata": {},
     "output_type": "execute_result"
    }
   ],
   "source": [
    "\n",
    "\n",
    "count = 0 \n",
    "\n",
    "for row in tqdm(range(len(ftraindf))): \n",
    "    \n",
    "    rule = {} \n",
    "    \n",
    "    instance_cols = [] \n",
    "    \n",
    "    for feature in selected: \n",
    "        cols = column_dictionary[feature]\n",
    "        max_x_cluster = ftraindf[cols].iloc[row].idxmax()\n",
    "        rule[feature] = max_x_cluster\n",
    "    \n",
    "    minA_value = ftraindf[list(rule.values())].iloc[row].min() \n",
    "    \n",
    "    # dealing with y \n",
    "    max_y_cluster = pred_results.iloc[row].idxmax() \n",
    "    maxC_value = pred_results.iloc[row].max() \n",
    "    rule[target] = max_y_cluster\n",
    "    \n",
    "    # hebbian weight\n",
    "    weight = minA_value * maxC_value\n",
    "    \n",
    "    \n",
    "    \n",
    "    # update weights (yay)\n",
    "    \n",
    "    # check if rule exists\n",
    "    if rule in fuzzy_rule_base: \n",
    "        \n",
    "        # identify index \n",
    "        index = fuzzy_rule_base.index(rule)\n",
    "        updated_weight = hebbian_weights[index] + weight\n",
    "        \n",
    "        # applying decaying factor        \n",
    "        hebbian_weights = hebbian_weights*decaying_factor\n",
    "        \n",
    "        # update instance weight \n",
    "        hebbian_weights[index] = updated_weight\n",
    "    \n",
    "    else: \n",
    "        \n",
    "        # applying decaying factor \n",
    "        hebbian_weights = hebbian_weights*decaying_factor\n",
    "        \n",
    "        # get instance weight \n",
    "        updated_weight = weight\n",
    "        \n",
    "        # append rule & respective weight \n",
    "        fuzzy_rule_base.append(rule)\n",
    "        hebbian_weights = np.append(hebbian_weights, updated_weight)\n",
    "    \n",
    "#     count += 1\n",
    "#     if count == 10: break\n",
    "\n",
    "# delete the dummy elements\n",
    "fuzzy_rule_base = fuzzy_rule_base[1:]\n",
    "hebbian_weights = np.delete(hebbian_weights, [0])\n",
    "\n",
    "hebbian_data = {\n",
    "    'rule': fuzzy_rule_base, \n",
    "    'weight': hebbian_weights\n",
    "}\n",
    "\n",
    "hebbian = pd.DataFrame(hebbian_data)\n",
    "hebbian = hebbian.sort_values(['weight'], ascending = False).reset_index(drop = True)\n",
    "hebbian\n"
   ]
  },
  {
   "cell_type": "code",
   "execution_count": 10,
   "id": "243fce77",
   "metadata": {},
   "outputs": [],
   "source": [
    "hebbian.to_csv(f'Tp{plus_target}.csv')"
   ]
  },
  {
   "cell_type": "code",
   "execution_count": 11,
   "id": "7639eee4",
   "metadata": {},
   "outputs": [
    {
     "data": {
      "text/plain": [
       "{'x_Tm1_PriceChg': 'x_Tm1_PriceChg_c3',\n",
       " 'x_Tm4_PriceChg': 'x_Tm4_PriceChg_c3',\n",
       " 'x_Tm3_PriceChg': 'x_Tm3_PriceChg_c3',\n",
       " 'x_Tm2_PriceChg': 'x_Tm2_PriceChg_c3',\n",
       " 'x_Tm8_PriceChg': 'x_Tm8_PriceChg_c3',\n",
       " 'x_Tm1_VolChg': 'x_Tm1_VolChg_c0',\n",
       " 'y_Tp13_PriceChg': 'y_Tp13_PriceChg_c3'}"
      ]
     },
     "execution_count": 11,
     "metadata": {},
     "output_type": "execute_result"
    }
   ],
   "source": [
    "hebbian['rule'][0]"
   ]
  },
  {
   "cell_type": "code",
   "execution_count": null,
   "id": "9fbf3ad9",
   "metadata": {},
   "outputs": [],
   "source": []
  }
 ],
 "metadata": {
  "kernelspec": {
   "display_name": "Python 3 (ipykernel)",
   "language": "python",
   "name": "python3"
  },
  "language_info": {
   "codemirror_mode": {
    "name": "ipython",
    "version": 3
   },
   "file_extension": ".py",
   "mimetype": "text/x-python",
   "name": "python",
   "nbconvert_exporter": "python",
   "pygments_lexer": "ipython3",
   "version": "3.9.7"
  }
 },
 "nbformat": 4,
 "nbformat_minor": 5
}
