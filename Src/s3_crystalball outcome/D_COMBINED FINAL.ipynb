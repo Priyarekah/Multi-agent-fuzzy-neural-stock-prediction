{
 "cells": [
  {
   "cell_type": "code",
   "execution_count": null,
   "id": "b3b87b93",
   "metadata": {},
   "outputs": [],
   "source": [
    "import pandas as pd \n",
    "import pandas_ta as ta \n"
   ]
  },
  {
   "cell_type": "code",
   "execution_count": null,
   "id": "7b3e7585",
   "metadata": {},
   "outputs": [],
   "source": [
    "import pandas as pd \n",
    "from datetime import date, datetime\n",
    "import yfinance as yf\n",
    "\n",
    "tickers = ['ADBE', 'GE', 'INTU', 'MS', 'VRTX', 'XOM']\n",
    "\n",
    "dataframes = []\n",
    "\n",
    "overall_df = pd.DataFrame() \n",
    "\n",
    "count1 = 0\n",
    "for ticker in tickers:\n",
    "    \n",
    "    data_df = pd.read_csv(f'{ticker.lower()}/data/test/OVERALL_prediction_by_model.csv')\n",
    "    data_df['Date'] = pd.to_datetime(data_df['Date'])\n",
    "    data_df['Close'] = data_df['close']\n",
    "    data_df = data_df[['Date', 'Close']]\n",
    "    data_df = data_df.set_index('Date')  \n",
    "       \n",
    "    dataframes.append(data_df)\n",
    "    \n",
    "    if len(overall_df) == 0: \n",
    "        overall_df = data_df[['Close']]\n",
    "        overall_df = overall_df.rename(columns = {'Close': f'{ticker}'})\n",
    "    else: \n",
    "        overall_df = pd.concat([overall_df, data_df['Close']], axis = 1)\n",
    "        overall_df = overall_df.rename(columns = {'Close': f'{ticker}'})\n",
    "store = overall_df.copy()"
   ]
  },
  {
   "cell_type": "code",
   "execution_count": null,
   "id": "a49e19c7",
   "metadata": {},
   "outputs": [],
   "source": [
    "overall_df"
   ]
  },
  {
   "cell_type": "code",
   "execution_count": null,
   "id": "d7bffd7f",
   "metadata": {},
   "outputs": [],
   "source": [
    "        \n",
    "initial_sum = 10000000 * 0.75\n",
    "\n",
    "overall_df = overall_df.reset_index(drop = False)\n",
    "\n",
    "one_share = initial_sum / 6\n",
    "\n",
    "num_shares = {} \n",
    "\n",
    "for item in overall_df.columns: \n",
    "    if item == 'Date': continue \n",
    "    num_shares[item] = one_share/overall_df[item][0]\n",
    "\n",
    "    \n",
    "adbe_shares = num_shares['ADBE']\n",
    "ge_shares = num_shares['GE']\n",
    "intu_shares = num_shares['INTU']\n",
    "ms_shares = num_shares['MS']\n",
    "vrtx_shares = num_shares['VRTX']\n",
    "xom_shares = num_shares['XOM']\n",
    "\n",
    "adbe_initial = overall_df['ADBE'][0].item()\n",
    "ge_initial = overall_df['GE'][0].item()\n",
    "intu_initial = overall_df['INTU'][0].item()\n",
    "ms_initial = overall_df['MS'][0].item()\n",
    "vrtx_initial = overall_df['VRTX'][0].item()\n",
    "xom_initial = overall_df['XOM'][0].item()\n",
    "\n",
    "average_returns = overall_df.copy()[['Date']]\n",
    "\n",
    "for column in overall_df.columns: \n",
    "    if column == 'Date': continue \n",
    "    \n",
    "    if column == 'ADBE': tools = adbe_shares\n",
    "    elif column == 'GE': tools = ge_shares\n",
    "    elif column == 'INTU': tools = intu_shares\n",
    "    elif column == 'MS': tools = ms_shares\n",
    "    elif column == 'VRTX': tools = vrtx_shares\n",
    "    elif column == 'XOM': tools = xom_shares \n",
    "        \n",
    "    average_returns[column] = overall_df.apply(lambda x: x[column]*tools, axis = 1)\n",
    "    \n",
    "average_returns['average_returns'] = average_returns.apply(lambda x: round((x['ADBE'] + x['GE'] + x['INTU'] + x['MS'] + x['VRTX'] + x['XOM'] - initial_sum)/initial_sum, 4), axis = 1)\n",
    "average_returns = average_returns[['Date', 'average_returns']]\n",
    "average_returns = average_returns.set_index('Date')\n"
   ]
  },
  {
   "cell_type": "code",
   "execution_count": null,
   "id": "cf025e77",
   "metadata": {},
   "outputs": [],
   "source": [
    "\n",
    "market = yf.download('^gspc', start=\"2019-01-01\", end=\"2024-01-01\", auto_adjust=True)\n",
    "initial = market['Close'][0]\n",
    "market['market_returns'] = market.apply(lambda x: (x['Close'] - initial) / initial, axis = 1)\n",
    "market_returns = market[['market_returns']]\n",
    "\n",
    "baseline = pd.concat([market_returns, average_returns], axis = 1)\n",
    "baseline \n",
    "\n",
    "portfolio1 = pd.read_csv('ammended_portfolio_outcome/forecasted/a2c_portfolio.csv')\n",
    "portfolio1['portfolio_returns'] = portfolio1.apply(lambda x: x['daily_return'] - 1, axis = 1)\n",
    "portfolio1['Date'] = pd.to_datetime(portfolio1['date'])\n",
    "portfolio1 = portfolio1.set_index('Date')\n",
    "portfolio = portfolio1[['portfolio_returns']]\n",
    "portfolio\n",
    "\n",
    "combined = pd.concat([portfolio, baseline], axis = 1)\n",
    "combined"
   ]
  },
  {
   "cell_type": "markdown",
   "id": "134a8869",
   "metadata": {},
   "source": [
    "## dividned returns"
   ]
  },
  {
   "cell_type": "code",
   "execution_count": null,
   "id": "f62efa4b",
   "metadata": {},
   "outputs": [],
   "source": [
    "tickers = ['MMM', 'PEP', 'PFE', 'UPS', 'VZ']\n",
    "\n",
    "dataframes_DIV = []\n",
    "\n",
    "overall_df = pd.DataFrame() \n",
    "\n",
    "count1 = 0\n",
    "for ticker in tickers:\n",
    "    \n",
    "    data_df = yf.download(ticker, start=\"2019-01-01\", end=\"2024-01-01\", auto_adjust=True)\n",
    "    dataframes_DIV.append(data_df)\n",
    "    \n",
    "    if len(overall_df) == 0: \n",
    "        overall_df = data_df[['Close']]\n",
    "        overall_df = overall_df.rename(columns = {'Close': f'{ticker}'})\n",
    "    else: \n",
    "        overall_df = pd.concat([overall_df, data_df['Close']], axis = 1)\n",
    "        overall_df = overall_df.rename(columns = {'Close': f'{ticker}'})\n",
    "\n",
    "        \n",
    "        \n",
    "        \n",
    "initial_sum = 10000000 * 0.25\n",
    "\n",
    "overall_df = overall_df.reset_index(drop = False)\n",
    "\n",
    "one_share = initial_sum / 5\n",
    "\n",
    "num_shares_div = {} \n",
    "\n",
    "for item in overall_df.columns: \n",
    "    if item == 'Date': continue \n",
    "    num_shares_div[item] = one_share/overall_df[item][0]        \n",
    "        \n",
    "        \n",
    "        \n",
    "mmm_shares = num_shares_div['MMM']\n",
    "pep_shares = num_shares_div['PEP']\n",
    "pfe_shares = num_shares_div['PFE']\n",
    "ups_shares = num_shares_div['UPS']\n",
    "vz_shares = num_shares_div['VZ']\n",
    "\n",
    "mmm_initial = overall_df['MMM'][0].item()\n",
    "pep_initial = overall_df['PEP'][0].item()\n",
    "pfe_initial = overall_df['PFE'][0].item()\n",
    "ups_initial = overall_df['UPS'][0].item()\n",
    "vz_initial = overall_df['VZ'][0].item()\n",
    "\n",
    "average_returns = overall_df.copy()[['Date']]\n",
    "\n",
    "for column in overall_df.columns: \n",
    "    if column == 'Date': continue \n",
    "    \n",
    "    if column == 'MMM': tools = mmm_shares\n",
    "    elif column == 'PEP': tools = pep_shares\n",
    "    elif column == 'PFE': tools = pfe_shares\n",
    "    elif column == 'UPS': tools = ups_shares\n",
    "    elif column == 'VZ': tools = vz_shares\n",
    "    \n",
    "        \n",
    "    average_returns[column] = overall_df.apply(lambda x: x[column]*tools, axis = 1)\n",
    "    \n",
    "average_returns['dividend_average_returns'] = average_returns.apply(lambda x: round((x['MMM'] + x['PEP'] + x['PFE'] + x['UPS'] + x['VZ'] - initial_sum)/initial_sum, 4), axis = 1)\n",
    "average_returns = average_returns[['Date', 'dividend_average_returns']]\n",
    "average_returns = average_returns.set_index('Date')\n"
   ]
  },
  {
   "cell_type": "code",
   "execution_count": null,
   "id": "cd0e6fb3",
   "metadata": {},
   "outputs": [],
   "source": [
    "combined1 = pd.concat([combined, average_returns], axis = 1)\n",
    "combined1"
   ]
  },
  {
   "cell_type": "code",
   "execution_count": null,
   "id": "d8ab0148",
   "metadata": {},
   "outputs": [],
   "source": [
    "num_shares_div"
   ]
  },
  {
   "cell_type": "code",
   "execution_count": null,
   "id": "92109912",
   "metadata": {},
   "outputs": [],
   "source": []
  },
  {
   "cell_type": "code",
   "execution_count": null,
   "id": "b252dabc",
   "metadata": {},
   "outputs": [],
   "source": [
    "from tqdm.auto import tqdm\n",
    "\n",
    "shortlisted = ['MMM', 'PEP', 'PFE', 'UPS', 'VZ']\n",
    "\n",
    "overall = {}\n",
    "train = {} \n",
    "test = {} \n",
    "\n",
    "for ticker in tqdm(shortlisted): \n",
    "\n",
    "    df = pd.DataFrame() \n",
    "    df = df.ta.ticker(ticker) \n",
    "    df = df.reset_index(drop = False) \n",
    "    df['Date'] = df.apply(lambda x: x.Date.date(), axis = 1)\n",
    "    df['dividend_rate'] = df.apply(lambda x: 0 if x['Dividends'] == 0 else x['Dividends']/x['Close'], axis = 1)\n",
    "    dividend = df.copy()[df['Date'] >= date(2014, 1, 1)][df['Date'] < date(2024, 1, 1)]\n",
    "    dividend_train = dividend.copy()[dividend['Date'] >= date(2014, 1, 1)][dividend['Date'] < date(2019, 1, 1)]\n",
    "    dividend_test = dividend.copy()[dividend['Date'] >= date(2019, 1, 1)][dividend['Date'] < date(2024, 1, 1)]\n",
    "        \n",
    "    overall[ticker] = dividend \n",
    "    train[ticker] = dividend_train\n",
    "    test[ticker] = dividend_test\n"
   ]
  },
  {
   "cell_type": "code",
   "execution_count": null,
   "id": "6b6c7209",
   "metadata": {},
   "outputs": [],
   "source": [
    "num_shares_div"
   ]
  },
  {
   "cell_type": "code",
   "execution_count": null,
   "id": "f726ad68",
   "metadata": {},
   "outputs": [],
   "source": [
    "\n",
    "\n",
    "for item in test: \n",
    "    \n",
    "    shares = num_shares_div[item]\n",
    "    \n",
    "    print(f'{item} - {shares}')\n",
    "    \n",
    "    reference = test[item]\n",
    "    \n",
    "    reference['dividend_amount'] = reference.apply(lambda x: x['Dividends']* shares, axis = 1)\n",
    "    test[item] = reference\n",
    "    \n",
    "    \n"
   ]
  },
  {
   "cell_type": "code",
   "execution_count": null,
   "id": "c79b6c8e",
   "metadata": {},
   "outputs": [],
   "source": [
    "\n",
    "consol_df = test['VZ'][['Date']]\n",
    "consol_df = consol_df.set_index('Date')\n",
    "\n",
    "for item in test:\n",
    "    \n",
    "    temp = test[item].set_index('Date')[['dividend_amount']]\n",
    "    \n",
    "    consol_df = pd.concat([consol_df, temp], axis = 1)\n",
    "    \n",
    "    consol_df = consol_df.rename(columns = {'dividend_amount': item})\n",
    "    \n",
    "consol_df['total'] = consol_df.apply(lambda x: x['MMM'] + x['PEP'] + x['PFE'] + x['UPS'] + x['VZ'], axis = 1)\n",
    "consol_df    "
   ]
  },
  {
   "cell_type": "code",
   "execution_count": null,
   "id": "f13e6613",
   "metadata": {},
   "outputs": [],
   "source": [
    "dividend = consol_df['total']\n",
    "\n",
    "value = [] \n",
    "initial_cyclic_sum = 10000000 * 0.75\n",
    "\n",
    "\n",
    "for index in range(len(dividend)): \n",
    "    if index == 0: \n",
    "        instance = initial_cyclic_sum\n",
    "        value.append(instance)\n",
    "    else: \n",
    "        instance = value[index - 1] + dividend[index]*(1 - 0.00125)\n",
    "        value.append(instance)\n",
    "        \n",
    "consol_df['cyclic_value'] = value\n",
    "consol_df['return'] = combined['portfolio_returns']\n",
    "consol_df['return_amount'] = consol_df.apply(lambda x: x['cyclic_value']*(x['return'] + 1), axis = 1)\n",
    "consol_df['resultant_return'] = consol_df.apply(lambda x: (x['return_amount'] - initial_cyclic_sum)/initial_cyclic_sum, axis = 1)\n",
    "consol_df"
   ]
  },
  {
   "cell_type": "code",
   "execution_count": null,
   "id": "522f3bc7",
   "metadata": {},
   "outputs": [],
   "source": [
    "total = sum(consol_df['total'])\n",
    "print(f'Dividend Received: {total}')"
   ]
  },
  {
   "cell_type": "code",
   "execution_count": null,
   "id": "b9a791f5",
   "metadata": {},
   "outputs": [],
   "source": [
    "combined1['dividend_adjusted_return'] = consol_df['resultant_return']\n",
    "combined1"
   ]
  },
  {
   "cell_type": "code",
   "execution_count": null,
   "id": "3f943c08",
   "metadata": {},
   "outputs": [],
   "source": [
    "import matplotlib.pyplot as plt\n",
    "import numpy as np\n",
    "\n",
    "target = combined1.copy() \n",
    "\n",
    "fig, ax1 = plt.subplots(figsize=(14, 8))\n",
    "fig.suptitle('Returns Comparison', fontsize=14)\n",
    "\n",
    "ax1.plot(target.index, target['portfolio_returns'], '-r', label = 'Cyclic Portfolio Returns (A2C)')\n",
    "ax1.plot(target.index, target['average_returns'], '-g', label = 'Cyclic Portfolio Returns (Equal Weights)')\n",
    "\n",
    "ax1.plot(target.index, target['market_returns'], '-b', label = 'Benchmark Market Returns (S&P500)')\n",
    "\n",
    "ax1.plot(target.index, target['dividend_average_returns'], '-y', label = 'Dividend Portfolio Returns (Equal Weights, Stock Price Only)')\n",
    "ax1.plot(target.index, target['dividend_adjusted_return'], 'black', label = 'Cyclic Portfolio Returns with Dividend Injection (A2C)')\n",
    "\n",
    "ax1.set_ylabel(\"Returns\")\n",
    "ax1.set_xlabel(\"Date\")\n",
    "plt.grid()\n",
    "fig.legend(loc = 'upper left')"
   ]
  },
  {
   "cell_type": "markdown",
   "id": "4fa84b2e",
   "metadata": {},
   "source": [
    "<b> Statistics </b>"
   ]
  },
  {
   "cell_type": "markdown",
   "id": "a183bb8a",
   "metadata": {},
   "source": [
    "Dividend Average Portfolio"
   ]
  },
  {
   "cell_type": "code",
   "execution_count": null,
   "id": "779a905d",
   "metadata": {},
   "outputs": [],
   "source": [
    "div_final_value = 2500000*(1+combined1['dividend_average_returns'][-1])\n",
    "div_final_value"
   ]
  },
  {
   "cell_type": "code",
   "execution_count": null,
   "id": "512ca5c9",
   "metadata": {},
   "outputs": [],
   "source": [
    "combined2 = combined1.copy()"
   ]
  },
  {
   "cell_type": "code",
   "execution_count": null,
   "id": "2844d8a5",
   "metadata": {},
   "outputs": [],
   "source": [
    "dividend_initial = 10000000 * 0.25\n",
    "combined2['dividend_portfolio'] = combined2.apply(lambda x: (1+x['dividend_average_returns'])* dividend_initial, axis = 1)\n",
    "combined2"
   ]
  },
  {
   "cell_type": "markdown",
   "id": "dd0c7adc",
   "metadata": {},
   "source": [
    "Cyclic Portfolio With Injections"
   ]
  },
  {
   "cell_type": "code",
   "execution_count": null,
   "id": "aa79d5a3",
   "metadata": {},
   "outputs": [],
   "source": [
    "consol_df['return_amount'][-1]"
   ]
  },
  {
   "cell_type": "markdown",
   "id": "b52a1aa5",
   "metadata": {},
   "source": [
    "Cyclic Portfolio without Injections"
   ]
  },
  {
   "cell_type": "code",
   "execution_count": null,
   "id": "b17b02ba",
   "metadata": {},
   "outputs": [],
   "source": [
    "combined2"
   ]
  },
  {
   "cell_type": "code",
   "execution_count": null,
   "id": "f677e604",
   "metadata": {},
   "outputs": [],
   "source": [
    "(combined2['portfolio_returns'][-1]+1)*(10000000*0.75)"
   ]
  },
  {
   "cell_type": "markdown",
   "id": "28edb941",
   "metadata": {},
   "source": [
    "If dividend tagged to S&P500"
   ]
  },
  {
   "cell_type": "code",
   "execution_count": null,
   "id": "57e3d4d7",
   "metadata": {},
   "outputs": [],
   "source": [
    "trial = consol_df[['total']]\n",
    "trial"
   ]
  },
  {
   "cell_type": "code",
   "execution_count": null,
   "id": "88b09eff",
   "metadata": {},
   "outputs": [],
   "source": [
    "# get snp data \n",
    "ticker = '^gspc'\n",
    "market = pd.DataFrame() \n",
    "market = market.ta.ticker(ticker) \n",
    "market = market.reset_index(drop = False) \n",
    "market['Date'] = market.apply(lambda x: x.Date.date(), axis = 1)\n",
    "\n",
    "market = market[['Date', 'Close']]\n",
    "\n",
    "end_val = market[market['Date'] < date(2024, 1, 1)]\n",
    "end_val = end_val['Close'][-1: ].item()\n",
    "\n",
    "market['train_close'] = end_val \n",
    "market['market_returns'] = market.apply(lambda x: (x['train_close'] - x['Close'])/x['Close'] + 1, axis = 1)\n",
    "\n",
    "market = market[['Date', 'market_returns']]\n",
    "\n",
    "market"
   ]
  },
  {
   "cell_type": "code",
   "execution_count": null,
   "id": "b1c20e87",
   "metadata": {},
   "outputs": [],
   "source": [
    "trial = pd.merge(trial, market, how = 'left', on='Date')\n",
    "trial['adj_returns'] = trial.apply(lambda x: x['total'] * x['market_returns'], axis = 1)\n",
    "trial"
   ]
  },
  {
   "cell_type": "code",
   "execution_count": null,
   "id": "d30fc139",
   "metadata": {},
   "outputs": [],
   "source": [
    "sum(trial['adj_returns'])"
   ]
  },
  {
   "cell_type": "markdown",
   "id": "1766f385",
   "metadata": {},
   "source": [
    "Dividend portfolio"
   ]
  },
  {
   "cell_type": "code",
   "execution_count": null,
   "id": "5fb83e5f",
   "metadata": {},
   "outputs": [],
   "source": [
    "div_final_value = 2500000*(1+combined1['dividend_average_returns'][-1]) + sum(trial['adj_returns'])"
   ]
  },
  {
   "cell_type": "code",
   "execution_count": null,
   "id": "5af77f5e",
   "metadata": {},
   "outputs": [],
   "source": [
    "div_final_value"
   ]
  },
  {
   "cell_type": "markdown",
   "id": "44f907e9",
   "metadata": {},
   "source": [
    "Dividend Received"
   ]
  },
  {
   "cell_type": "code",
   "execution_count": null,
   "id": "a9ad1a21",
   "metadata": {},
   "outputs": [],
   "source": [
    "total = sum(consol_df['total'])\n",
    "print(f'Dividend Received: {total}')"
   ]
  },
  {
   "cell_type": "code",
   "execution_count": null,
   "id": "4fcf7546",
   "metadata": {},
   "outputs": [],
   "source": []
  }
 ],
 "metadata": {
  "kernelspec": {
   "display_name": "Python 3 (ipykernel)",
   "language": "python",
   "name": "python3"
  },
  "language_info": {
   "codemirror_mode": {
    "name": "ipython",
    "version": 3
   },
   "file_extension": ".py",
   "mimetype": "text/x-python",
   "name": "python",
   "nbconvert_exporter": "python",
   "pygments_lexer": "ipython3",
   "version": "3.9.7"
  }
 },
 "nbformat": 4,
 "nbformat_minor": 5
}
