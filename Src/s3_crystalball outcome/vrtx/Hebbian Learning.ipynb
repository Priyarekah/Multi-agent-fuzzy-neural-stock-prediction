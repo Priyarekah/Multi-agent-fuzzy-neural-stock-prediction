{
 "cells": [
  {
   "cell_type": "code",
   "execution_count": 1,
   "id": "11f0042b",
   "metadata": {},
   "outputs": [],
   "source": [
    "import pandas as pd\n",
    "import numpy as np\n",
    "import pickle\n",
    "\n",
    "from datetime import datetime, date\n",
    "from tqdm.auto import tqdm\n"
   ]
  },
  {
   "cell_type": "markdown",
   "id": "1bb11ca7",
   "metadata": {},
   "source": [
    "# Setup"
   ]
  },
  {
   "cell_type": "markdown",
   "id": "59ccfbf9",
   "metadata": {},
   "source": [
    "retrieve data"
   ]
  },
  {
   "cell_type": "code",
   "execution_count": 3,
   "id": "3b50cf74",
   "metadata": {},
   "outputs": [],
   "source": [
    "ticker = 'vrtx'\n",
    "plus_target = 13\n",
    "\n",
    "mcesdf = pd.read_csv(f'data/mces/Tp{plus_target}_mcesdf.csv')\n",
    "ftraindf = pd.read_csv(f'data/ftraindf.csv')\n",
    "pred_results = pd.read_csv(f'data/train/Tp{plus_target}_train_clustermembership.csv')\n",
    "\n",
    "\n",
    "with open(f'data/cluster_details.pkl', 'rb') as handle:\n",
    "    cluster_details = pickle.load(handle)\n",
    "\n",
    "    \n",
    "ftraindf['Date'] = ftraindf.apply(lambda x: datetime.strptime(x.Date, '%Y-%m-%d').date(), axis = 1)\n",
    "pred_results['Date'] = pred_results.apply(lambda x: datetime.strptime(x.Date, '%Y-%m-%d').date(), axis = 1)"
   ]
  },
  {
   "cell_type": "markdown",
   "id": "2af585a8",
   "metadata": {},
   "source": [
    "format data"
   ]
  },
  {
   "cell_type": "code",
   "execution_count": 4,
   "id": "4973f68b",
   "metadata": {},
   "outputs": [],
   "source": [
    "ftraindf = ftraindf[ftraindf['Date'] >= date(2013, 1, 1)]\n",
    "pred_results = pred_results[pred_results['Date'] >= date(2013, 1, 1)]"
   ]
  },
  {
   "cell_type": "code",
   "execution_count": 5,
   "id": "a51afd54",
   "metadata": {},
   "outputs": [],
   "source": [
    "ftraindf = ftraindf.drop(['Date'], axis = 1).reset_index(drop = True)\n",
    "pred_results = pred_results.drop(['Date', 'pc_pred'], axis = 1).reset_index(drop = True)"
   ]
  },
  {
   "cell_type": "code",
   "execution_count": 6,
   "id": "c72dc36c",
   "metadata": {},
   "outputs": [
    {
     "data": {
      "text/html": [
       "<div>\n",
       "<style scoped>\n",
       "    .dataframe tbody tr th:only-of-type {\n",
       "        vertical-align: middle;\n",
       "    }\n",
       "\n",
       "    .dataframe tbody tr th {\n",
       "        vertical-align: top;\n",
       "    }\n",
       "\n",
       "    .dataframe thead th {\n",
       "        text-align: right;\n",
       "    }\n",
       "</style>\n",
       "<table border=\"1\" class=\"dataframe\">\n",
       "  <thead>\n",
       "    <tr style=\"text-align: right;\">\n",
       "      <th></th>\n",
       "      <th>y_Tp13_PriceChg_c0</th>\n",
       "      <th>y_Tp13_PriceChg_c1</th>\n",
       "      <th>y_Tp13_PriceChg_c2</th>\n",
       "      <th>y_Tp13_PriceChg_c3</th>\n",
       "      <th>y_Tp13_PriceChg_c4</th>\n",
       "      <th>y_Tp13_PriceChg_c5</th>\n",
       "      <th>y_Tp13_PriceChg_c6</th>\n",
       "    </tr>\n",
       "  </thead>\n",
       "  <tbody>\n",
       "    <tr>\n",
       "      <th>0</th>\n",
       "      <td>0.0</td>\n",
       "      <td>0.168961</td>\n",
       "      <td>0.362670</td>\n",
       "      <td>0.400858</td>\n",
       "      <td>0.060282</td>\n",
       "      <td>0.004291</td>\n",
       "      <td>0.000438</td>\n",
       "    </tr>\n",
       "    <tr>\n",
       "      <th>1</th>\n",
       "      <td>0.0</td>\n",
       "      <td>0.087521</td>\n",
       "      <td>0.287369</td>\n",
       "      <td>0.537280</td>\n",
       "      <td>0.079419</td>\n",
       "      <td>0.005758</td>\n",
       "      <td>0.001655</td>\n",
       "    </tr>\n",
       "    <tr>\n",
       "      <th>2</th>\n",
       "      <td>0.0</td>\n",
       "      <td>0.053640</td>\n",
       "      <td>0.241857</td>\n",
       "      <td>0.570386</td>\n",
       "      <td>0.118094</td>\n",
       "      <td>0.011422</td>\n",
       "      <td>0.003761</td>\n",
       "    </tr>\n",
       "    <tr>\n",
       "      <th>3</th>\n",
       "      <td>0.0</td>\n",
       "      <td>0.046915</td>\n",
       "      <td>0.196731</td>\n",
       "      <td>0.561686</td>\n",
       "      <td>0.164898</td>\n",
       "      <td>0.020713</td>\n",
       "      <td>0.007907</td>\n",
       "    </tr>\n",
       "    <tr>\n",
       "      <th>4</th>\n",
       "      <td>0.0</td>\n",
       "      <td>0.027186</td>\n",
       "      <td>0.132486</td>\n",
       "      <td>0.626274</td>\n",
       "      <td>0.187654</td>\n",
       "      <td>0.018482</td>\n",
       "      <td>0.007424</td>\n",
       "    </tr>\n",
       "    <tr>\n",
       "      <th>...</th>\n",
       "      <td>...</td>\n",
       "      <td>...</td>\n",
       "      <td>...</td>\n",
       "      <td>...</td>\n",
       "      <td>...</td>\n",
       "      <td>...</td>\n",
       "      <td>...</td>\n",
       "    </tr>\n",
       "    <tr>\n",
       "      <th>1254</th>\n",
       "      <td>0.0</td>\n",
       "      <td>0.056704</td>\n",
       "      <td>0.233415</td>\n",
       "      <td>0.549225</td>\n",
       "      <td>0.140894</td>\n",
       "      <td>0.013743</td>\n",
       "      <td>0.004903</td>\n",
       "    </tr>\n",
       "    <tr>\n",
       "      <th>1255</th>\n",
       "      <td>0.0</td>\n",
       "      <td>0.050361</td>\n",
       "      <td>0.224989</td>\n",
       "      <td>0.553135</td>\n",
       "      <td>0.147405</td>\n",
       "      <td>0.016877</td>\n",
       "      <td>0.006070</td>\n",
       "    </tr>\n",
       "    <tr>\n",
       "      <th>1256</th>\n",
       "      <td>0.0</td>\n",
       "      <td>0.036741</td>\n",
       "      <td>0.188865</td>\n",
       "      <td>0.592321</td>\n",
       "      <td>0.157514</td>\n",
       "      <td>0.017262</td>\n",
       "      <td>0.006491</td>\n",
       "    </tr>\n",
       "    <tr>\n",
       "      <th>1257</th>\n",
       "      <td>0.0</td>\n",
       "      <td>0.040428</td>\n",
       "      <td>0.192504</td>\n",
       "      <td>0.583173</td>\n",
       "      <td>0.160670</td>\n",
       "      <td>0.016081</td>\n",
       "      <td>0.006247</td>\n",
       "    </tr>\n",
       "    <tr>\n",
       "      <th>1258</th>\n",
       "      <td>0.0</td>\n",
       "      <td>0.070365</td>\n",
       "      <td>0.281328</td>\n",
       "      <td>0.512987</td>\n",
       "      <td>0.119269</td>\n",
       "      <td>0.011065</td>\n",
       "      <td>0.003612</td>\n",
       "    </tr>\n",
       "  </tbody>\n",
       "</table>\n",
       "<p>1259 rows × 7 columns</p>\n",
       "</div>"
      ],
      "text/plain": [
       "      y_Tp13_PriceChg_c0  y_Tp13_PriceChg_c1  y_Tp13_PriceChg_c2  \\\n",
       "0                    0.0            0.168961            0.362670   \n",
       "1                    0.0            0.087521            0.287369   \n",
       "2                    0.0            0.053640            0.241857   \n",
       "3                    0.0            0.046915            0.196731   \n",
       "4                    0.0            0.027186            0.132486   \n",
       "...                  ...                 ...                 ...   \n",
       "1254                 0.0            0.056704            0.233415   \n",
       "1255                 0.0            0.050361            0.224989   \n",
       "1256                 0.0            0.036741            0.188865   \n",
       "1257                 0.0            0.040428            0.192504   \n",
       "1258                 0.0            0.070365            0.281328   \n",
       "\n",
       "      y_Tp13_PriceChg_c3  y_Tp13_PriceChg_c4  y_Tp13_PriceChg_c5  \\\n",
       "0               0.400858            0.060282            0.004291   \n",
       "1               0.537280            0.079419            0.005758   \n",
       "2               0.570386            0.118094            0.011422   \n",
       "3               0.561686            0.164898            0.020713   \n",
       "4               0.626274            0.187654            0.018482   \n",
       "...                  ...                 ...                 ...   \n",
       "1254            0.549225            0.140894            0.013743   \n",
       "1255            0.553135            0.147405            0.016877   \n",
       "1256            0.592321            0.157514            0.017262   \n",
       "1257            0.583173            0.160670            0.016081   \n",
       "1258            0.512987            0.119269            0.011065   \n",
       "\n",
       "      y_Tp13_PriceChg_c6  \n",
       "0               0.000438  \n",
       "1               0.001655  \n",
       "2               0.003761  \n",
       "3               0.007907  \n",
       "4               0.007424  \n",
       "...                  ...  \n",
       "1254            0.004903  \n",
       "1255            0.006070  \n",
       "1256            0.006491  \n",
       "1257            0.006247  \n",
       "1258            0.003612  \n",
       "\n",
       "[1259 rows x 7 columns]"
      ]
     },
     "execution_count": 6,
     "metadata": {},
     "output_type": "execute_result"
    }
   ],
   "source": [
    "pred_results"
   ]
  },
  {
   "cell_type": "markdown",
   "id": "692722cf",
   "metadata": {},
   "source": [
    "list of selected features"
   ]
  },
  {
   "cell_type": "code",
   "execution_count": 7,
   "id": "df9674c2",
   "metadata": {},
   "outputs": [],
   "source": [
    "selected = list(mcesdf.head(6)['cols'])"
   ]
  },
  {
   "cell_type": "markdown",
   "id": "438f1a2a",
   "metadata": {},
   "source": [
    "column dictionary per feature"
   ]
  },
  {
   "cell_type": "code",
   "execution_count": 8,
   "id": "d46c4459",
   "metadata": {},
   "outputs": [],
   "source": [
    "column_dictionary = {}\n",
    "\n",
    "for feature in selected: \n",
    "    column_dictionary[feature] = list(cluster_details[feature].keys())"
   ]
  },
  {
   "cell_type": "markdown",
   "id": "2ba906fa",
   "metadata": {},
   "source": [
    "# Main Body"
   ]
  },
  {
   "cell_type": "markdown",
   "id": "3a78ba4d",
   "metadata": {},
   "source": [
    "Variables"
   ]
  },
  {
   "cell_type": "code",
   "execution_count": 9,
   "id": "723a5039",
   "metadata": {},
   "outputs": [],
   "source": [
    "plus_target = 13\n",
    "fuzzy_rule_base = [{}] \n",
    "hebbian_weights = np.array(0)\n",
    "target = f'y_Tp{plus_target}_PriceChg'\n",
    "decaying_factor = 0.98"
   ]
  },
  {
   "cell_type": "markdown",
   "id": "67c538a5",
   "metadata": {},
   "source": [
    "Main Body"
   ]
  },
  {
   "cell_type": "code",
   "execution_count": 10,
   "id": "8ce451df",
   "metadata": {},
   "outputs": [
    {
     "data": {
      "application/vnd.jupyter.widget-view+json": {
       "model_id": "a014d47b11ef4856a0f467793a6cf695",
       "version_major": 2,
       "version_minor": 0
      },
      "text/plain": [
       "  0%|          | 0/1259 [00:00<?, ?it/s]"
      ]
     },
     "metadata": {},
     "output_type": "display_data"
    },
    {
     "data": {
      "text/html": [
       "<div>\n",
       "<style scoped>\n",
       "    .dataframe tbody tr th:only-of-type {\n",
       "        vertical-align: middle;\n",
       "    }\n",
       "\n",
       "    .dataframe tbody tr th {\n",
       "        vertical-align: top;\n",
       "    }\n",
       "\n",
       "    .dataframe thead th {\n",
       "        text-align: right;\n",
       "    }\n",
       "</style>\n",
       "<table border=\"1\" class=\"dataframe\">\n",
       "  <thead>\n",
       "    <tr style=\"text-align: right;\">\n",
       "      <th></th>\n",
       "      <th>rule</th>\n",
       "      <th>weight</th>\n",
       "    </tr>\n",
       "  </thead>\n",
       "  <tbody>\n",
       "    <tr>\n",
       "      <th>0</th>\n",
       "      <td>{'x_Tm1_PriceChg': 'x_Tm1_PriceChg_c2', 'x_Tm3...</td>\n",
       "      <td>3.940964e+00</td>\n",
       "    </tr>\n",
       "    <tr>\n",
       "      <th>1</th>\n",
       "      <td>{'x_Tm1_PriceChg': 'x_Tm1_PriceChg_c3', 'x_Tm3...</td>\n",
       "      <td>2.752146e+00</td>\n",
       "    </tr>\n",
       "    <tr>\n",
       "      <th>2</th>\n",
       "      <td>{'x_Tm1_PriceChg': 'x_Tm1_PriceChg_c2', 'x_Tm3...</td>\n",
       "      <td>2.356377e+00</td>\n",
       "    </tr>\n",
       "    <tr>\n",
       "      <th>3</th>\n",
       "      <td>{'x_Tm1_PriceChg': 'x_Tm1_PriceChg_c2', 'x_Tm3...</td>\n",
       "      <td>1.711592e+00</td>\n",
       "    </tr>\n",
       "    <tr>\n",
       "      <th>4</th>\n",
       "      <td>{'x_Tm1_PriceChg': 'x_Tm1_PriceChg_c2', 'x_Tm3...</td>\n",
       "      <td>1.174402e+00</td>\n",
       "    </tr>\n",
       "    <tr>\n",
       "      <th>...</th>\n",
       "      <td>...</td>\n",
       "      <td>...</td>\n",
       "    </tr>\n",
       "    <tr>\n",
       "      <th>144</th>\n",
       "      <td>{'x_Tm1_PriceChg': 'x_Tm1_PriceChg_c3', 'x_Tm3...</td>\n",
       "      <td>7.428378e-12</td>\n",
       "    </tr>\n",
       "    <tr>\n",
       "      <th>145</th>\n",
       "      <td>{'x_Tm1_PriceChg': 'x_Tm1_PriceChg_c5', 'x_Tm3...</td>\n",
       "      <td>0.000000e+00</td>\n",
       "    </tr>\n",
       "    <tr>\n",
       "      <th>146</th>\n",
       "      <td>{'x_Tm1_PriceChg': 'x_Tm1_PriceChg_c6', 'x_Tm3...</td>\n",
       "      <td>0.000000e+00</td>\n",
       "    </tr>\n",
       "    <tr>\n",
       "      <th>147</th>\n",
       "      <td>{'x_Tm1_PriceChg': 'x_Tm1_PriceChg_c5', 'x_Tm3...</td>\n",
       "      <td>0.000000e+00</td>\n",
       "    </tr>\n",
       "    <tr>\n",
       "      <th>148</th>\n",
       "      <td>{'x_Tm1_PriceChg': 'x_Tm1_PriceChg_c4', 'x_Tm3...</td>\n",
       "      <td>0.000000e+00</td>\n",
       "    </tr>\n",
       "  </tbody>\n",
       "</table>\n",
       "<p>149 rows × 2 columns</p>\n",
       "</div>"
      ],
      "text/plain": [
       "                                                  rule        weight\n",
       "0    {'x_Tm1_PriceChg': 'x_Tm1_PriceChg_c2', 'x_Tm3...  3.940964e+00\n",
       "1    {'x_Tm1_PriceChg': 'x_Tm1_PriceChg_c3', 'x_Tm3...  2.752146e+00\n",
       "2    {'x_Tm1_PriceChg': 'x_Tm1_PriceChg_c2', 'x_Tm3...  2.356377e+00\n",
       "3    {'x_Tm1_PriceChg': 'x_Tm1_PriceChg_c2', 'x_Tm3...  1.711592e+00\n",
       "4    {'x_Tm1_PriceChg': 'x_Tm1_PriceChg_c2', 'x_Tm3...  1.174402e+00\n",
       "..                                                 ...           ...\n",
       "144  {'x_Tm1_PriceChg': 'x_Tm1_PriceChg_c3', 'x_Tm3...  7.428378e-12\n",
       "145  {'x_Tm1_PriceChg': 'x_Tm1_PriceChg_c5', 'x_Tm3...  0.000000e+00\n",
       "146  {'x_Tm1_PriceChg': 'x_Tm1_PriceChg_c6', 'x_Tm3...  0.000000e+00\n",
       "147  {'x_Tm1_PriceChg': 'x_Tm1_PriceChg_c5', 'x_Tm3...  0.000000e+00\n",
       "148  {'x_Tm1_PriceChg': 'x_Tm1_PriceChg_c4', 'x_Tm3...  0.000000e+00\n",
       "\n",
       "[149 rows x 2 columns]"
      ]
     },
     "execution_count": 10,
     "metadata": {},
     "output_type": "execute_result"
    }
   ],
   "source": [
    "\n",
    "\n",
    "count = 0 \n",
    "\n",
    "for row in tqdm(range(len(ftraindf))): \n",
    "    \n",
    "    rule = {} \n",
    "    \n",
    "    instance_cols = [] \n",
    "    \n",
    "    for feature in selected: \n",
    "        cols = column_dictionary[feature]\n",
    "        max_x_cluster = ftraindf[cols].iloc[row].idxmax()\n",
    "        rule[feature] = max_x_cluster\n",
    "    \n",
    "    minA_value = ftraindf[list(rule.values())].iloc[row].min() \n",
    "    \n",
    "    # dealing with y \n",
    "    max_y_cluster = pred_results.iloc[row].idxmax() \n",
    "    maxC_value = pred_results.iloc[row].max() \n",
    "    rule[target] = max_y_cluster\n",
    "    \n",
    "    # hebbian weight\n",
    "    weight = minA_value * maxC_value\n",
    "    \n",
    "    \n",
    "    \n",
    "    # update weights (yay)\n",
    "    \n",
    "    # check if rule exists\n",
    "    if rule in fuzzy_rule_base: \n",
    "        \n",
    "        # identify index \n",
    "        index = fuzzy_rule_base.index(rule)\n",
    "        updated_weight = hebbian_weights[index] + weight\n",
    "        \n",
    "        # applying decaying factor        \n",
    "        hebbian_weights = hebbian_weights*decaying_factor\n",
    "        \n",
    "        # update instance weight \n",
    "        hebbian_weights[index] = updated_weight\n",
    "    \n",
    "    else: \n",
    "        \n",
    "        # applying decaying factor \n",
    "        hebbian_weights = hebbian_weights*decaying_factor\n",
    "        \n",
    "        # get instance weight \n",
    "        updated_weight = weight\n",
    "        \n",
    "        # append rule & respective weight \n",
    "        fuzzy_rule_base.append(rule)\n",
    "        hebbian_weights = np.append(hebbian_weights, updated_weight)\n",
    "    \n",
    "#     count += 1\n",
    "#     if count == 10: break\n",
    "\n",
    "# delete the dummy elements\n",
    "fuzzy_rule_base = fuzzy_rule_base[1:]\n",
    "hebbian_weights = np.delete(hebbian_weights, [0])\n",
    "\n",
    "hebbian_data = {\n",
    "    'rule': fuzzy_rule_base, \n",
    "    'weight': hebbian_weights\n",
    "}\n",
    "\n",
    "hebbian = pd.DataFrame(hebbian_data)\n",
    "hebbian = hebbian.sort_values(['weight'], ascending = False).reset_index(drop = True)\n",
    "hebbian\n"
   ]
  },
  {
   "cell_type": "code",
   "execution_count": 11,
   "id": "243fce77",
   "metadata": {},
   "outputs": [],
   "source": [
    "hebbian.to_csv(f'Tp{plus_target}.csv')"
   ]
  },
  {
   "cell_type": "code",
   "execution_count": 12,
   "id": "7639eee4",
   "metadata": {},
   "outputs": [
    {
     "data": {
      "text/plain": [
       "{'x_Tm1_PriceChg': 'x_Tm1_PriceChg_c2',\n",
       " 'x_Tm3_PriceChg': 'x_Tm3_PriceChg_c3',\n",
       " 'x_Tm2_PriceChg': 'x_Tm2_PriceChg_c2',\n",
       " 'x_Tm4_PriceChg': 'x_Tm4_PriceChg_c2',\n",
       " 'x_Tm1_PRoc1': 'x_Tm1_PRoc1_c3',\n",
       " 'x_Tm11_PRoc1': 'x_Tm11_PRoc1_c3',\n",
       " 'y_Tp13_PriceChg': 'y_Tp13_PriceChg_c3'}"
      ]
     },
     "execution_count": 12,
     "metadata": {},
     "output_type": "execute_result"
    }
   ],
   "source": [
    "hebbian['rule'][0]"
   ]
  },
  {
   "cell_type": "code",
   "execution_count": null,
   "id": "5ff607aa",
   "metadata": {},
   "outputs": [],
   "source": []
  }
 ],
 "metadata": {
  "kernelspec": {
   "display_name": "Python 3",
   "language": "python",
   "name": "python3"
  },
  "language_info": {
   "codemirror_mode": {
    "name": "ipython",
    "version": 3
   },
   "file_extension": ".py",
   "mimetype": "text/x-python",
   "name": "python",
   "nbconvert_exporter": "python",
   "pygments_lexer": "ipython3",
   "version": "3.10.12"
  }
 },
 "nbformat": 4,
 "nbformat_minor": 5
}
