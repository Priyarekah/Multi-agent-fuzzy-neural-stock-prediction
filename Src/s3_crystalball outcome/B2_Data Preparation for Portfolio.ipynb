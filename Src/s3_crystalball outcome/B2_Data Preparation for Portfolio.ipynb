{
 "cells": [
  {
   "cell_type": "code",
   "execution_count": null,
   "id": "0cbfb9e5",
   "metadata": {},
   "outputs": [],
   "source": [
    "import pandas as pd \n",
    "from datetime import date, datetime\n",
    "import yfinance as yf\n",
    "\n",
    "tickers = ['ADBE', 'GE', 'INTU', 'MS', 'VRTX', 'XOM']\n",
    "\n",
    "dataframes = []\n",
    "\n",
    "ticker = 'XOM'\n",
    "\n",
    "overall_df = pd.DataFrame() \n",
    "\n",
    "count1 = 0\n",
    "for ticker in tickers:\n",
    "    \n",
    "    data_df = yf.download(ticker, start=\"2013-01-01\", end=\"2024-01-01\", auto_adjust=True)\n",
    "    data_df.to_csv('portfolio_data/ticker_raw.csv')\n",
    "    \n",
    "    data_df = data_df.reset_index(drop = True).rename(columns = {'Date': 'ref_Date'})\n",
    "    processed_df = pd.read_csv(f'portfolio_data/trial/{ticker.lower()}_portdata.csv')\n",
    "    consol_df = pd.concat([data_df, processed_df], axis = 1)\n",
    "\n",
    "    consol_df = consol_df.rename(columns = {'Date': 'date', 'Open': 'open', 'High':'high', 'Low': 'low', 'Close':'close', 'Volume':'volume'})\n",
    "    consol_df['tic'] = tickers[count1]\n",
    "    consol_df['day'] = consol_df.index\n",
    "    consol_df.to_csv(f'portfolio_data/trial/{ticker}_processed.csv')\n",
    "    \n",
    "    overall_df = pd.concat([overall_df, consol_df], axis = 0) \n",
    "    dataframes.append(consol_df)\n",
    "    \n",
    "    count1+= 1\n",
    "    \n",
    "\n",
    "overall_df = overall_df.sort_values(by = ['day', 'tic'])\n",
    "overall_df = overall_df.reset_index(drop = True)\n",
    "overall_df.to_csv('portfolio_data/finalized/overall_portfolio.csv')\n",
    "overall_df"
   ]
  },
  {
   "cell_type": "code",
   "execution_count": null,
   "id": "0dfc3a3a",
   "metadata": {},
   "outputs": [],
   "source": [
    "overall_df = overall_df[['date', 'open', 'high', 'low', 'close', 'volume', 'tic', 'day', 'macd_1', 'sma26_1', 'sma_52']]    \n",
    "overall_df.to_csv('portfolio_data/finalized/overall_portfolio1.csv')"
   ]
  },
  {
   "cell_type": "code",
   "execution_count": null,
   "id": "0afcf199",
   "metadata": {},
   "outputs": [],
   "source": [
    "import yfinance as yf \n",
    "import pandas as pd\n",
    "\n",
    "ticker = 'xom'\n",
    "data_df = yf.download(ticker, start=\"2013-01-01\", end=\"2024-01-01\", auto_adjust=True)\n"
   ]
  },
  {
   "cell_type": "code",
   "execution_count": null,
   "id": "ea90b782",
   "metadata": {},
   "outputs": [],
   "source": [
    "data_df = data_df.reset_index(drop = False)"
   ]
  },
  {
   "cell_type": "code",
   "execution_count": null,
   "id": "404cd594",
   "metadata": {},
   "outputs": [],
   "source": [
    "type(data_df['Date'][0])"
   ]
  },
  {
   "cell_type": "code",
   "execution_count": null,
   "id": "7a27be68",
   "metadata": {},
   "outputs": [],
   "source": [
    "df['datetime'] = pd.to_datetime(df['datetime'])"
   ]
  }
 ],
 "metadata": {
  "kernelspec": {
   "display_name": "Python 3 (ipykernel)",
   "language": "python",
   "name": "python3"
  },
  "language_info": {
   "codemirror_mode": {
    "name": "ipython",
    "version": 3
   },
   "file_extension": ".py",
   "mimetype": "text/x-python",
   "name": "python",
   "nbconvert_exporter": "python",
   "pygments_lexer": "ipython3",
   "version": "3.9.7"
  }
 },
 "nbformat": 4,
 "nbformat_minor": 5
}
