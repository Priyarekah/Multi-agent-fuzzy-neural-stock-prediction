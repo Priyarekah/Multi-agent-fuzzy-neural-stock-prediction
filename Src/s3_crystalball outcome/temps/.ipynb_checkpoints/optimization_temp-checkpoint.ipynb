{
 "cells": [
  {
   "cell_type": "markdown",
   "metadata": {
    "id": "NCiRUilYvJIg"
   },
   "source": [
    "# Portfolio Optimization\n",
    "Usage of FinRL library & Google Colab for Training <br>\n",
    "One instance for vMACD & fMACD each"
   ]
  },
  {
   "cell_type": "markdown",
   "metadata": {
    "id": "eQTKfBTl28nI"
   },
   "source": [
    "**Library Installation**"
   ]
  },
  {
   "cell_type": "code",
   "execution_count": null,
   "metadata": {
    "colab": {
     "base_uri": "https://localhost:8080/",
     "height": 1000
    },
    "id": "lXBikJszz1hM",
    "outputId": "ea8b3da6-8206-49ed-f367-3224e1e1d6ba"
   },
   "outputs": [],
   "source": [
    "## install finrl library\n",
    "!pip install pandas_ta\n",
    "!pip install wrds\n",
    "!pip install swig\n",
    "!pip install -q condacolab\n",
    "import condacolab\n",
    "condacolab.install()\n",
    "!apt-get update -y -qq && apt-get install -y -qq cmake libopenmpi-dev python3-dev zlib1g-dev libgl1-mesa-glx swig\n",
    "!pip install git+https://github.com/AI4Finance-Foundation/FinRL.git"
   ]
  },
  {
   "cell_type": "code",
   "execution_count": null,
   "metadata": {
    "colab": {
     "base_uri": "https://localhost:8080/"
    },
    "id": "yuk2n93GoECL",
    "outputId": "003420ac-705d-427d-c140-287cbe73537a"
   },
   "outputs": [],
   "source": [
    "!pip install pyfolio"
   ]
  },
  {
   "cell_type": "code",
   "execution_count": null,
   "metadata": {
    "colab": {
     "base_uri": "https://localhost:8080/"
    },
    "id": "BMWFiSBd39Ca",
    "outputId": "3cf29ede-da73-4eaa-97ca-a5984cccdce4"
   },
   "outputs": [],
   "source": [
    "import pandas as pd\n",
    "import numpy as np\n",
    "import matplotlib\n",
    "import matplotlib.pyplot as plt\n",
    "matplotlib.use('Agg')\n",
    "%matplotlib inline\n",
    "import datetime\n",
    "\n",
    "from finrl import config\n",
    "from finrl import config_tickers\n",
    "from finrl.meta.preprocessor.yahoodownloader import YahooDownloader\n",
    "from finrl.meta.preprocessor.preprocessors import FeatureEngineer, data_split\n",
    "from finrl.meta.env_portfolio_allocation.env_portfolio import StockPortfolioEnv\n",
    "from finrl.agents.stablebaselines3.models import DRLAgent\n",
    "from finrl.plot import backtest_stats, backtest_plot, get_daily_return, get_baseline,convert_daily_return_to_pyfolio_ts\n",
    "from finrl.meta.data_processor import DataProcessor\n",
    "from finrl.meta.data_processors.processor_yahoofinance import YahooFinanceProcessor\n",
    "import sys\n",
    "sys.path.append(\"../FinRL-Library\")"
   ]
  },
  {
   "cell_type": "code",
   "execution_count": null,
   "metadata": {
    "id": "jvN6nUt1sMfL"
   },
   "outputs": [],
   "source": []
  },
  {
   "cell_type": "markdown",
   "metadata": {
    "id": "44yMw6PNvYrJ"
   },
   "source": [
    "**Directory Setup**"
   ]
  },
  {
   "cell_type": "code",
   "execution_count": null,
   "metadata": {
    "colab": {
     "base_uri": "https://localhost:8080/"
    },
    "id": "u9g1CkLllKHJ",
    "outputId": "0f5bf131-668c-4677-d49f-f12a85150dec"
   },
   "outputs": [],
   "source": [
    "import pandas as pd\n",
    "from google.colab import drive\n",
    "drive.mount('/content/drive')\n",
    "\n",
    "wkdir = f'drive/MyDrive/Colab/FYP/ammended_portfolio/forecasted'"
   ]
  },
  {
   "cell_type": "code",
   "execution_count": null,
   "metadata": {
    "id": "oZfNVgCk4GzW"
   },
   "outputs": [],
   "source": [
    "import os\n",
    "if not os.path.exists(\"./\" + config.DATA_SAVE_DIR):\n",
    "    os.makedirs(\"./\" + config.DATA_SAVE_DIR)\n",
    "if not os.path.exists(\"./\" + config.TRAINED_MODEL_DIR):\n",
    "    os.makedirs(\"./\" + config.TRAINED_MODEL_DIR)\n",
    "if not os.path.exists(\"./\" + config.TENSORBOARD_LOG_DIR):\n",
    "    os.makedirs(\"./\" + config.TENSORBOARD_LOG_DIR)\n",
    "if not os.path.exists(\"./\" + config.RESULTS_DIR):\n",
    "    os.makedirs(\"./\" + config.RESULTS_DIR)"
   ]
  },
  {
   "cell_type": "markdown",
   "metadata": {
    "id": "Yq55h90a4Tm8"
   },
   "source": [
    "**Data Read/Download**"
   ]
  },
  {
   "cell_type": "code",
   "execution_count": null,
   "metadata": {
    "colab": {
     "base_uri": "https://localhost:8080/",
     "height": 423
    },
    "id": "vy0Ue8HzsjoN",
    "outputId": "d2ef91a5-4929-4996-e63b-e74b04ad7255"
   },
   "outputs": [],
   "source": [
    "# import yfinance as yf\n",
    "\n",
    "# tickers = ['ADBE', 'GE', 'VRTX', 'XOM', 'MMM', 'AAPL']\n",
    "\n",
    "retrieve = 0\n",
    "\n",
    "if retrieve == 1:\n",
    "    # data fetch\n",
    "    dataframes = []\n",
    "\n",
    "    for ticker in tickers:\n",
    "        data = yf.download(ticker, start=\"2013-01-01\", end=\"2024-01-01\", auto_adjust=True)\n",
    "        data.to_csv(f'{wkdir}/{ticker}_raw.csv')\n",
    "        dataframes.append(data)\n",
    "\n",
    "    # data manipulation\n",
    "    consol_df = pd.DataFrame()\n",
    "\n",
    "    count1 = 0\n",
    "    for dataframe in dataframes:\n",
    "        dataframe = dataframe.reset_index(drop = False)\n",
    "        dataframe = dataframe.rename(columns = {'Date': 'date', 'Open': 'open', 'High':'high', 'Low': 'low', 'Close':'close', 'Volume':'volume'})\n",
    "        dataframe['tic'] = tickers[count1]\n",
    "        dataframe['day'] = dataframe.index\n",
    "\n",
    "        consol_df = pd.concat([consol_df, dataframe], axis = 0)\n",
    "        count1 += 1\n",
    "\n",
    "    consol_df1 = consol_df.sort_values(by = ['day', 'tic'])\n",
    "    consol_df1 = consol_df1.reset_index(drop = True)\n",
    "    consol_df1.to_csv(f'{wkdir}/trial_overall_portfolio.csv')\n",
    "\n",
    "\n",
    "else:\n",
    "    consol_df1 = pd.read_csv(f'{wkdir}/overall_portfolio.csv')\n",
    "    consol_df1 = consol_df1.drop(columns = consol_df1.columns[0], axis = 1)\n",
    "\n",
    "consol_df1['date'] = pd.to_datetime(consol_df1['date'],format='%Y-%m-%d')\n",
    "consol_df1['date'] = pd.to_datetime(consol_df1['date'])\n",
    "consol_df1"
   ]
  },
  {
   "cell_type": "markdown",
   "metadata": {
    "id": "QJlAkkrYxHFl"
   },
   "source": [
    "_**Implementation Using FinRL Tutorial**_"
   ]
  },
  {
   "cell_type": "markdown",
   "metadata": {
    "id": "mvBwKQUjwMAM"
   },
   "source": [
    "**Preprocess Data**"
   ]
  },
  {
   "cell_type": "code",
   "execution_count": null,
   "metadata": {
    "colab": {
     "base_uri": "https://localhost:8080/"
    },
    "id": "tzYpzZx1wNVR",
    "outputId": "4ab33570-5e1f-4356-dc63-74b6a1d28b4e"
   },
   "outputs": [],
   "source": [
    "fe = FeatureEngineer(\n",
    "                    use_technical_indicator=True,\n",
    "                    use_turbulence=False,\n",
    "                    user_defined_feature = False)\n",
    "\n",
    "df = fe.preprocess_data(consol_df1)"
   ]
  },
  {
   "cell_type": "code",
   "execution_count": null,
   "metadata": {
    "colab": {
     "base_uri": "https://localhost:8080/"
    },
    "id": "qy0u5ytnwQ5Z",
    "outputId": "5f20009d-59e9-469d-d42f-2101350e771b"
   },
   "outputs": [],
   "source": [
    "df.shape"
   ]
  },
  {
   "cell_type": "code",
   "execution_count": null,
   "metadata": {
    "colab": {
     "base_uri": "https://localhost:8080/",
     "height": 617
    },
    "id": "kY6DvCQzwThD",
    "outputId": "7f664f74-5e13-4285-d791-3b0766f38e6c"
   },
   "outputs": [],
   "source": [
    "df"
   ]
  },
  {
   "cell_type": "code",
   "execution_count": null,
   "metadata": {
    "colab": {
     "base_uri": "https://localhost:8080/",
     "height": 423
    },
    "id": "Ck6HP3YGyhod",
    "outputId": "3ef60f06-6b3c-4c5f-a3d5-f212cc4ad17d"
   },
   "outputs": [],
   "source": [
    "drop_list1 = ['close_30_sma', 'close_60_sma', 'boll_ub',\t'boll_lb', 'cci_30',\t'dx_30', 'sma30_1', 'sma60_1', 'rsi_30', 'macd']\n",
    "df = df.drop(drop_list1, axis = 1)\n",
    "df"
   ]
  },
  {
   "cell_type": "markdown",
   "metadata": {
    "id": "Y8fPpsr5wmTD"
   },
   "source": [
    "**Add Covariance matrix as states**"
   ]
  },
  {
   "cell_type": "code",
   "execution_count": null,
   "metadata": {
    "id": "YabP6NiHwi1E"
   },
   "outputs": [],
   "source": [
    "# add covariance matrix as states\n",
    "df=df.sort_values(['date','tic'],ignore_index=True)\n",
    "df.index = df.date.factorize()[0]\n",
    "\n",
    "cov_list = []\n",
    "return_list = []\n",
    "\n",
    "# look back is one year\n",
    "lookback=252\n",
    "for i in range(lookback,len(df.index.unique())):\n",
    "  data_lookback = df.loc[i-lookback:i,:]\n",
    "  price_lookback=data_lookback.pivot_table(index = 'date',columns = 'tic', values = 'close')\n",
    "  return_lookback = price_lookback.pct_change().dropna()\n",
    "  return_list.append(return_lookback)\n",
    "\n",
    "  covs = return_lookback.cov().values\n",
    "  cov_list.append(covs)\n",
    "\n",
    "\n",
    "df_cov = pd.DataFrame({'date':df.date.unique()[lookback:],'cov_list':cov_list,'return_list':return_list})\n",
    "df = df.merge(df_cov, on='date')\n",
    "df = df.sort_values(['date','tic']).reset_index(drop=True)"
   ]
  },
  {
   "cell_type": "markdown",
   "metadata": {
    "id": "izqO5yBKw1Um"
   },
   "source": [
    "**Design Environment**"
   ]
  },
  {
   "cell_type": "code",
   "execution_count": null,
   "metadata": {
    "colab": {
     "base_uri": "https://localhost:8080/",
     "height": 597
    },
    "id": "WH1U39-7wpaE",
    "outputId": "1b9b21e4-3f4b-4d95-e0a2-4e5a63864586"
   },
   "outputs": [],
   "source": [
    "train = data_split(df, '2014-01-01','2018-12-31')\n",
    "test = data_split(df, '2019-01-01', '2023-12-31')\n",
    "test"
   ]
  },
  {
   "cell_type": "code",
   "execution_count": null,
   "metadata": {
    "colab": {
     "base_uri": "https://localhost:8080/",
     "height": 597
    },
    "id": "rLbt022dx0sH",
    "outputId": "cae24d1c-ecc5-4b1e-d60a-3018541150cb"
   },
   "outputs": [],
   "source": [
    "train"
   ]
  },
  {
   "cell_type": "markdown",
   "metadata": {
    "id": "zIQGGa-b0FKm"
   },
   "source": [
    "**Environment for Portfolio Allocation**"
   ]
  },
  {
   "cell_type": "code",
   "execution_count": null,
   "metadata": {
    "id": "uKLGIltx0Hu_"
   },
   "outputs": [],
   "source": [
    "import numpy as np\n",
    "import pandas as pd\n",
    "from gym.utils import seeding\n",
    "import gym\n",
    "from gym import spaces\n",
    "import matplotlib\n",
    "matplotlib.use('Agg')\n",
    "import matplotlib.pyplot as plt\n",
    "from stable_baselines3.common.vec_env import DummyVecEnv\n",
    "\n",
    "\n",
    "class StockPortfolioEnv(gym.Env):\n",
    "    \"\"\"A single stock trading environment for OpenAI gym\n",
    "\n",
    "    Attributes\n",
    "    ----------\n",
    "        df: DataFrame\n",
    "            input data\n",
    "        stock_dim : int\n",
    "            number of unique stocks\n",
    "        hmax : int\n",
    "            maximum number of shares to trade\n",
    "        initial_amount : int\n",
    "            start money\n",
    "        transaction_cost_pct: float\n",
    "            transaction cost percentage per trade\n",
    "        reward_scaling: float\n",
    "            scaling factor for reward, good for training\n",
    "        state_space: int\n",
    "            the dimension of input features\n",
    "        action_space: int\n",
    "            equals stock dimension\n",
    "        tech_indicator_list: list\n",
    "            a list of technical indicator names\n",
    "        turbulence_threshold: int\n",
    "            a threshold to control risk aversion\n",
    "        day: int\n",
    "            an increment number to control date\n",
    "\n",
    "    Methods\n",
    "    -------\n",
    "    _sell_stock()\n",
    "        perform sell action based on the sign of the action\n",
    "    _buy_stock()\n",
    "        perform buy action based on the sign of the action\n",
    "    step()\n",
    "        at each step the agent will return actions, then\n",
    "        we will calculate the reward, and return the next observation.\n",
    "    reset()\n",
    "        reset the environment\n",
    "    render()\n",
    "        use render to return other functions\n",
    "    save_asset_memory()\n",
    "        return account value at each time step\n",
    "    save_action_memory()\n",
    "        return actions/positions at each time step\n",
    "\n",
    "\n",
    "    \"\"\"\n",
    "    metadata = {'render.modes': ['human']}\n",
    "\n",
    "    def __init__(self,\n",
    "                df,\n",
    "                stock_dim,\n",
    "                # hmax,\n",
    "                initial_amount,\n",
    "                transaction_cost_pct,\n",
    "                reward_scaling,\n",
    "                state_space,\n",
    "                action_space,\n",
    "                tech_indicator_list,\n",
    "                turbulence_threshold=None,\n",
    "                day = 0):\n",
    "        self.day = day\n",
    "        self.lookback=lookback\n",
    "        self.df = df\n",
    "        self.stock_dim = stock_dim\n",
    "        self.initial_amount = initial_amount\n",
    "        self.transaction_cost_pct =transaction_cost_pct\n",
    "        self.reward_scaling = reward_scaling\n",
    "        self.state_space = state_space\n",
    "        self.action_space = action_space\n",
    "        self.tech_indicator_list = tech_indicator_list\n",
    "\n",
    "        self.action_space = spaces.Box(low = 0, high = 1,shape = (self.action_space,))\n",
    "        self.observation_space = spaces.Box(low=-np.inf, high=np.inf, shape = (self.state_space+len(self.tech_indicator_list),self.state_space))\n",
    "\n",
    "        # load data from a pandas dataframe\n",
    "        self.data = self.df.loc[self.day,:]\n",
    "        self.covs = self.data['cov_list'].values[0]\n",
    "        self.state =  np.append(np.array(self.covs), [self.data[tech].values.tolist() for tech in self.tech_indicator_list ], axis=0)\n",
    "        self.terminal = False\n",
    "        self.turbulence_threshold = turbulence_threshold\n",
    "        self.portfolio_value = self.initial_amount\n",
    "\n",
    "        # memorize portfolio value each step\n",
    "        self.asset_memory = [self.initial_amount]\n",
    "        # memorize portfolio return each step\n",
    "        self.portfolio_return_memory = [0]\n",
    "        self.actions_memory=[[1/self.stock_dim]*self.stock_dim]\n",
    "        self.date_memory=[self.data.date.unique()[0]]\n",
    "\n",
    "\n",
    "    def step(self, actions):\n",
    "        # print(self.day)\n",
    "        self.terminal = self.day >= len(self.df.index.unique())-1\n",
    "        # print(actions)\n",
    "\n",
    "        if self.terminal:\n",
    "            df = pd.DataFrame(self.portfolio_return_memory)\n",
    "            df.columns = ['daily_return']\n",
    "            plt.plot(df.daily_return.cumsum(),'r')\n",
    "            plt.savefig('results/cumulative_reward.png')\n",
    "            plt.close()\n",
    "\n",
    "            plt.plot(self.portfolio_return_memory,'r')\n",
    "            plt.savefig('results/rewards.png')\n",
    "            plt.close()\n",
    "\n",
    "            print(\"=================================\")\n",
    "            print(\"begin_total_asset:{}\".format(self.asset_memory[0]))\n",
    "            print(\"end_total_asset:{}\".format(self.portfolio_value))\n",
    "\n",
    "            df_daily_return = pd.DataFrame(self.portfolio_return_memory)\n",
    "            df_daily_return.columns = ['daily_return']\n",
    "            if df_daily_return['daily_return'].std() !=0:\n",
    "              sharpe = (252**0.5)*df_daily_return['daily_return'].mean()/ \\\n",
    "                       df_daily_return['daily_return'].std()\n",
    "              print(\"Sharpe: \",sharpe)\n",
    "            print(\"=================================\")\n",
    "\n",
    "            return self.state, self.reward, self.terminal,{}\n",
    "\n",
    "        else:\n",
    "            weights = self.softmax_normalization(actions)\n",
    "            self.actions_memory.append(weights)\n",
    "            last_day_memory = self.data\n",
    "\n",
    "            #load next state\n",
    "            self.day += 1\n",
    "            self.data = self.df.loc[self.day,:]\n",
    "            self.covs = self.data['cov_list'].values[0]\n",
    "            self.state =  np.append(np.array(self.covs), [self.data[tech].values.tolist() for tech in self.tech_indicator_list ], axis=0)\n",
    "            #print(self.state)\n",
    "            # calcualte portfolio return\n",
    "            # individual stocks' return * weight\n",
    "            portfolio_return = sum(((self.data.close.values / last_day_memory.close.values)-1)*weights)\n",
    "            # update portfolio value\n",
    "            new_portfolio_value = self.portfolio_value*(1+portfolio_return)\n",
    "            self.portfolio_value = new_portfolio_value\n",
    "\n",
    "            # save into memory\n",
    "            self.portfolio_return_memory.append(portfolio_return)\n",
    "            self.date_memory.append(self.data.date.unique()[0])\n",
    "            self.asset_memory.append(new_portfolio_value)\n",
    "\n",
    "            # the reward is the new portfolio value or end portfolo value\n",
    "            self.reward = new_portfolio_value\n",
    "            #print(\"Step reward: \", self.reward)\n",
    "            #self.reward = self.reward*self.reward_scaling\n",
    "\n",
    "        return self.state, self.reward, self.terminal, {}\n",
    "\n",
    "    def reset(self):\n",
    "        self.asset_memory = [self.initial_amount]\n",
    "        self.day = 0\n",
    "        self.data = self.df.loc[self.day,:]\n",
    "        # load states\n",
    "        self.covs = self.data['cov_list'].values[0]\n",
    "        self.state =  np.append(np.array(self.covs), [self.data[tech].values.tolist() for tech in self.tech_indicator_list ], axis=0)\n",
    "        self.portfolio_value = self.initial_amount\n",
    "        self.terminal = False\n",
    "        self.portfolio_return_memory = [0]\n",
    "        self.actions_memory=[[1/self.stock_dim]*self.stock_dim]\n",
    "        self.date_memory=[self.data.date.unique()[0]]\n",
    "        return self.state\n",
    "\n",
    "    def render(self, mode='human'):\n",
    "        return self.state\n",
    "\n",
    "    def softmax_normalization(self, actions):\n",
    "        numerator = np.exp(actions)\n",
    "        denominator = np.sum(np.exp(actions))\n",
    "        softmax_output = numerator/denominator\n",
    "        return softmax_output\n",
    "\n",
    "\n",
    "    def save_asset_memory(self):\n",
    "        date_list = self.date_memory\n",
    "        portfolio_return = self.portfolio_return_memory\n",
    "        df_account_value = pd.DataFrame({'date':date_list,'daily_return':portfolio_return})\n",
    "        return df_account_value\n",
    "\n",
    "    def save_action_memory(self):\n",
    "        # date and close price length must match actions length\n",
    "        date_list = self.date_memory\n",
    "        df_date = pd.DataFrame(date_list)\n",
    "        df_date.columns = ['date']\n",
    "\n",
    "        action_list = self.actions_memory\n",
    "        df_actions = pd.DataFrame(action_list)\n",
    "        df_actions.columns = self.data.tic.values\n",
    "        df_actions.index = df_date.date\n",
    "        #df_actions = pd.DataFrame({'date':date_list,'actions':action_list})\n",
    "        return df_actions\n",
    "\n",
    "    def _seed(self, seed=None):\n",
    "        self.np_random, seed = seeding.np_random(seed)\n",
    "        return [seed]\n",
    "\n",
    "    def get_sb_env(self):\n",
    "        e = DummyVecEnv([lambda: self])\n",
    "        obs = e.reset()\n",
    "        return e, obs"
   ]
  },
  {
   "cell_type": "code",
   "execution_count": null,
   "metadata": {
    "colab": {
     "base_uri": "https://localhost:8080/"
    },
    "id": "OXGQcQF-0L6Q",
    "outputId": "17c88814-e36a-42a9-ed6d-abd6077be7bb"
   },
   "outputs": [],
   "source": [
    "stock_dimension = len(train.tic.unique())\n",
    "state_space = stock_dimension\n",
    "print(f\"Stock Dimension: {stock_dimension}, State Space: {state_space}\")"
   ]
  },
  {
   "cell_type": "code",
   "execution_count": null,
   "metadata": {
    "colab": {
     "base_uri": "https://localhost:8080/"
    },
    "id": "ZPTTHEhC0LU2",
    "outputId": "c7e1c7c8-11a7-4e5e-80b8-1e8706149180"
   },
   "outputs": [],
   "source": [
    "indicators = ['macd_1']\n",
    "indicators"
   ]
  },
  {
   "cell_type": "code",
   "execution_count": null,
   "metadata": {
    "id": "XQMbRcEH0PZM"
   },
   "outputs": [],
   "source": [
    "env_kwargs = {\n",
    "    \"initial_amount\": 1000000,\n",
    "    \"transaction_cost_pct\": 0.00125,\n",
    "    \"state_space\": state_space,\n",
    "    \"stock_dim\": stock_dimension,\n",
    "    \"tech_indicator_list\": indicators,\n",
    "    \"action_space\": stock_dimension,\n",
    "    \"reward_scaling\": 0\n",
    "}\n",
    "\n",
    "e_train_gym = StockPortfolioEnv(df = train, **env_kwargs)"
   ]
  },
  {
   "cell_type": "code",
   "execution_count": null,
   "metadata": {
    "colab": {
     "base_uri": "https://localhost:8080/"
    },
    "id": "i5rghWXd0S2I",
    "outputId": "2dcf2a57-a197-4c8f-f355-78a4e26e911b"
   },
   "outputs": [],
   "source": [
    "env_train, _ = e_train_gym.get_sb_env()\n",
    "print(type(env_train))"
   ]
  },
  {
   "cell_type": "markdown",
   "metadata": {
    "id": "lUAajWef0Vor"
   },
   "source": [
    "**Implement DRL**"
   ]
  },
  {
   "cell_type": "markdown",
   "metadata": {
    "id": "H7xbc5OO2DGk"
   },
   "source": [
    "A2C"
   ]
  },
  {
   "cell_type": "code",
   "execution_count": null,
   "metadata": {
    "id": "k0QTDaI20VbY"
   },
   "outputs": [],
   "source": [
    "# initialize\n",
    "agent = DRLAgent(env = env_train)"
   ]
  },
  {
   "cell_type": "code",
   "execution_count": null,
   "metadata": {
    "colab": {
     "base_uri": "https://localhost:8080/"
    },
    "id": "GEHv4ZA50Zl2",
    "outputId": "7b0de3a3-d9d0-432c-9542-f76773e4b08c"
   },
   "outputs": [],
   "source": [
    "agent = DRLAgent(env = env_train)\n",
    "\n",
    "A2C_PARAMS = {\"n_steps\": 5, \"ent_coef\": 0.005, \"learning_rate\": 0.00001}\n",
    "model_a2c = agent.get_model(model_name=\"a2c\",model_kwargs = A2C_PARAMS)"
   ]
  },
  {
   "cell_type": "code",
   "execution_count": null,
   "metadata": {
    "colab": {
     "base_uri": "https://localhost:8080/"
    },
    "id": "dfMOPHCG0cG3",
    "outputId": "ddbe239f-e8cb-4bf2-f887-0375b09bce73"
   },
   "outputs": [],
   "source": [
    "trained_a2c = agent.train_model(model=model_a2c,\n",
    "                                tb_log_name='a2c',\n",
    "                                total_timesteps=50000)"
   ]
  },
  {
   "cell_type": "code",
   "execution_count": null,
   "metadata": {
    "id": "pTwTMxIB0fCa"
   },
   "outputs": [],
   "source": [
    "trained_a2c.save(f'{wkdir}/trained_a2c.zip')"
   ]
  },
  {
   "cell_type": "markdown",
   "metadata": {
    "id": "A0pQ6lkQ17YN"
   },
   "source": [
    "**Trading**"
   ]
  },
  {
   "cell_type": "code",
   "execution_count": null,
   "metadata": {
    "id": "urB1TbOW18Ph"
   },
   "outputs": [],
   "source": [
    "test = data_split(df, '2019-01-01', '2023-12-31')\n",
    "\n",
    "e_trade_gym = StockPortfolioEnv(df = test, **env_kwargs)"
   ]
  },
  {
   "cell_type": "markdown",
   "metadata": {
    "id": "MzjhnDt79CqJ"
   },
   "source": [
    "A2C"
   ]
  },
  {
   "cell_type": "code",
   "execution_count": null,
   "metadata": {
    "colab": {
     "base_uri": "https://localhost:8080/"
    },
    "id": "74xyJOIc2Rud",
    "outputId": "ad6df865-2ee6-4de7-9345-5194d1a9aee5"
   },
   "outputs": [],
   "source": [
    "a2c_df_daily_return, a2c_df_actions = DRLAgent.DRL_prediction(model=trained_a2c,\n",
    "                        environment = e_trade_gym)"
   ]
  },
  {
   "cell_type": "code",
   "execution_count": null,
   "metadata": {
    "colab": {
     "base_uri": "https://localhost:8080/",
     "height": 206
    },
    "id": "eOq9tJxA2TQj",
    "outputId": "7253727a-49bc-4ab8-f9fa-c4306e92e559"
   },
   "outputs": [],
   "source": [
    "a2c_df_daily_return.head()\n"
   ]
  },
  {
   "cell_type": "code",
   "execution_count": null,
   "metadata": {
    "id": "P9VdFI9Nxq4h"
   },
   "outputs": [],
   "source": [
    "a2c_df_daily_return.to_csv(f'{wkdir}/df_daily_return_a2c.csv')\n",
    "a2c_df_actions.to_csv(f'{wkdir}/portfolio_weights_a2c.csv')\n",
    "\n",
    "a2c_train_cum_returns = (1 + a2c_df_daily_return.reset_index(drop=True).set_index(['date'])).cumprod()\n",
    "a2c_train_cum_returns.to_csv(f'{wkdir}/a2c_portfolio.csv')\n"
   ]
  },
  {
   "cell_type": "code",
   "execution_count": null,
   "metadata": {
    "colab": {
     "base_uri": "https://localhost:8080/"
    },
    "id": "o42cwrJu1B2o",
    "outputId": "07bb133d-8898-4818-e81a-a75d6086a4e9"
   },
   "outputs": [],
   "source": [
    "import numpy as np\n",
    "\n",
    "index = 0\n",
    "import matplotlib.pyplot as plt\n",
    "\n",
    "target = a2c_df_actions.copy()\n",
    "\n",
    "fig = plt.figure(figsize=(14,5))\n",
    "plt.title(f'Allocation Outcome')\n",
    "\n",
    "for column in target.columns:\n",
    "    r = np.round(np.random.rand(),1)\n",
    "    g = np.round(np.random.rand(),1)\n",
    "    b = np.round(np.random.rand(),1)\n",
    "    print([r,g,b])\n",
    "    plt.plot(target.index, target[column], label = column, color = [r, g, b])\n",
    "\n",
    "\n",
    "plt.legend(loc=\"best\")\n",
    "plt.grid()\n",
    "\n",
    "plt.xlabel(\"Date\")\n",
    "plt.ylabel(\"Allocation\")"
   ]
  },
  {
   "cell_type": "code",
   "execution_count": null,
   "metadata": {
    "colab": {
     "base_uri": "https://localhost:8080/",
     "height": 455
    },
    "id": "6W90kIfiF0T9",
    "outputId": "7a3d1ffc-d6af-4736-be47-db0f9a5e5786"
   },
   "outputs": [],
   "source": [
    "target"
   ]
  },
  {
   "cell_type": "code",
   "execution_count": null,
   "metadata": {
    "colab": {
     "base_uri": "https://localhost:8080/",
     "height": 455
    },
    "id": "vSCxltct5mkl",
    "outputId": "362510a2-cbd4-485a-cbff-7884e4c2e877"
   },
   "outputs": [],
   "source": [
    "a2c_df_actions"
   ]
  },
  {
   "cell_type": "code",
   "execution_count": null,
   "metadata": {
    "colab": {
     "base_uri": "https://localhost:8080/",
     "height": 35
    },
    "id": "fMX4vViH5miP",
    "outputId": "ef4770f6-d5e1-496f-c2ba-e0ccf5dc6839"
   },
   "outputs": [],
   "source": [
    "wkdir"
   ]
  },
  {
   "cell_type": "code",
   "execution_count": null,
   "metadata": {
    "id": "bKXXiTCE5mfx"
   },
   "outputs": [],
   "source": [
    "train = data_split(df, '2014-01-01','2018-12-31')\n",
    "\n",
    "e_train_gym = StockPortfolioEnv(df = train, **env_kwargs)"
   ]
  },
  {
   "cell_type": "code",
   "execution_count": null,
   "metadata": {
    "colab": {
     "base_uri": "https://localhost:8080/"
    },
    "id": "adrnE-LH5mdZ",
    "outputId": "07ce4c52-5c36-4bed-a969-09cf2eb56f7d"
   },
   "outputs": [],
   "source": [
    "a2ctrain_df_daily_return, a2ctrain_df_actions = DRLAgent.DRL_prediction(model=trained_a2c,\n",
    "                        environment = e_train_gym)"
   ]
  },
  {
   "cell_type": "code",
   "execution_count": null,
   "metadata": {
    "id": "L1fd7kz2LH2C"
   },
   "outputs": [],
   "source": [
    "a2ctrain_df_daily_return.to_csv(f'{wkdir}/train/df_daily_return_a2c.csv')\n",
    "a2ctrain_df_actions.to_csv(f'{wkdir}/train/portfolio_weights_a2c.csv')\n",
    "\n",
    "a2c_training_cum_returns = (1 + a2ctrain_df_daily_return.reset_index(drop=True).set_index(['date'])).cumprod()\n",
    "a2c_training_cum_returns.to_csv(f'{wkdir}/train/a2c_portfolio.csv')\n"
   ]
  }
 ],
 "metadata": {
  "colab": {
   "provenance": []
  },
  "kernelspec": {
   "display_name": "Python 3 (ipykernel)",
   "language": "python",
   "name": "python3"
  },
  "language_info": {
   "codemirror_mode": {
    "name": "ipython",
    "version": 3
   },
   "file_extension": ".py",
   "mimetype": "text/x-python",
   "name": "python",
   "nbconvert_exporter": "python",
   "pygments_lexer": "ipython3",
   "version": "3.9.7"
  }
 },
 "nbformat": 4,
 "nbformat_minor": 1
}
