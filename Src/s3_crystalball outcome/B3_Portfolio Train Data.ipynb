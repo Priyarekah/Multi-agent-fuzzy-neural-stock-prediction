{
 "cells": [
  {
   "cell_type": "markdown",
   "id": "cb5388ea",
   "metadata": {},
   "source": [
    "Get Train Predictions"
   ]
  },
  {
   "cell_type": "code",
   "execution_count": null,
   "id": "56bbea25",
   "metadata": {
    "scrolled": true
   },
   "outputs": [],
   "source": [
    "\n",
    "# import pandas as pd \n",
    "# import pickle\n",
    "# from datetime import date, datetime\n",
    "\n",
    "# ticker = 'adbe'\n",
    "\n",
    "# ftraindf = pd.read_csv(f'{ticker}/data/ftraindf.csv', index_col = 'Date')\n",
    "# ftraindf = ftraindf.reset_index(drop = False)\n",
    "# ftraindf['Date'] = ftraindf.apply(lambda x: datetime.strptime(x.Date, '%Y-%m-%d').date(), axis = 1)\n",
    "# ftraindf = ftraindf[ftraindf['Date'] >= date(2013, 1, 1)]\n",
    "# ftraindf = ftraindf.reset_index(drop = True) \n",
    "\n",
    "\n",
    "# consol_df = pd.DataFrame() \n",
    "\n",
    "# for plus_target in range(1, 14, 1): \n",
    "    \n",
    "#     resultant = ftraindf.copy()[['Date', 'yref_Tm0_close', 'refPrice_Tm14']]\n",
    "    \n",
    "#     df = pd.read_csv(f'{ticker}/data/train/Tp{plus_target}_train_clustermembership.csv', index_col = 'Date')\n",
    "#     df = df.reset_index(drop = False)\n",
    "#     df['Date'] = df.apply(lambda x: datetime.strptime(x.Date, '%Y-%m-%d').date(), axis = 1)\n",
    "#     df = df[df['Date'] >= date(2013, 1, 1)]\n",
    "#     df = df.reset_index(drop = True) \n",
    "    \n",
    "#     resultant = pd.concat([resultant, df['pc_pred']], axis = 1)\n",
    "#     resultant[f'Tp{plus_target}_pred'] = resultant.apply(lambda x: x[f'refPrice_Tm14'] * (1 + x['pc_pred']), axis = 1)\n",
    "    \n",
    "#     if len(consol_df) == 0: \n",
    "#         consol_df = resultant.copy()[['Date', 'yref_Tm0_close', f'Tp{plus_target}_pred']]\n",
    "    \n",
    "#     else: \n",
    "#         consol_df = pd.concat([consol_df, resultant[f'Tp{plus_target}_pred']], axis = 1)\n",
    "\n",
    "# consol_df = consol_df.rename(columns = {'yref_Tm0_close': 'close'})\n",
    "# consol_df = consol_df.set_index('Date')\n",
    "# consol_df.to_csv(f'{ticker}/data/train/OVERALL_prediction_by_model.csv')\n",
    "# consol_df"
   ]
  },
  {
   "cell_type": "markdown",
   "id": "2950484e",
   "metadata": {},
   "source": [
    "Get Reconstructed Data"
   ]
  },
  {
   "cell_type": "code",
   "execution_count": null,
   "id": "46a1892f",
   "metadata": {},
   "outputs": [],
   "source": [
    "\n",
    "import pandas as pd \n",
    "import pickle\n",
    "from datetime import date, datetime\n",
    "\n",
    "ticker = 'xom'\n",
    "\n",
    "train = pd.read_csv(f'{ticker}/data/train/OVERALL_prediction_by_model.csv')\n",
    "train['Date'] = train.apply(lambda x: datetime.strptime(x.Date, '%Y-%m-%d').date(), axis = 1)\n",
    "train = train.set_index('Date')\n",
    "\n",
    "val = pd.read_csv(f'{ticker}/data/val/OVERALL_prediction_by_model.csv')\n",
    "val['Date'] = val.apply(lambda x: datetime.strptime(x.Date, '%Y-%m-%d').date(), axis = 1)\n",
    "val = val.set_index('Date')\n",
    "\n",
    "test = pd.read_csv(f'{ticker}/data/test/OVERALL_prediction_by_model.csv')\n",
    "test['Date'] = test.apply(lambda x: datetime.strptime(x.Date, '%Y-%m-%d').date(), axis = 1)\n",
    "test = test.set_index('Date')\n",
    "\n",
    "dataframe = pd.concat([train, val, test], axis = 0)\n",
    "dataframe = dataframe[[col for col in dataframe.columns if 'date' not in col and 'close' not in col]]\n",
    "dataframe"
   ]
  },
  {
   "cell_type": "markdown",
   "id": "64397495",
   "metadata": {},
   "source": [
    "Prepare for historical data"
   ]
  },
  {
   "cell_type": "code",
   "execution_count": null,
   "id": "44c7d1cd",
   "metadata": {},
   "outputs": [],
   "source": [
    "\n",
    "import pandas_ta as ta \n",
    "\n",
    "df = pd.DataFrame() \n",
    "df = df.ta.ticker(ticker)\n",
    "\n",
    "df = df.reset_index(drop = False)\n",
    "df['Date'] = df.apply(lambda x: x.Date.date(), axis = 1)\n",
    "df = df.set_index('Date')\n",
    "\n",
    "df1 = df.copy()[[]]\n",
    "df1['Date1'] = df1.index\n",
    "for index in range(60, 0, -1): \n",
    "    df1[f'Tm{index}_Price'] = df['Close'].shift(index)\n",
    "df1 = pd.concat([df1, df['Close']], axis = 1)\n",
    "df1 = df1[df1['Date1'] >= date(2013, 1, 1)][df1['Date1'] < date(2024, 1, 1)]\n",
    "\n",
    "forecasted = pd.concat([df1, dataframe], axis = 1)\n",
    "forecasted.to_csv(f'portfolio_data/vanilla/{ticker}_concatdata.csv')\n",
    "forecasted"
   ]
  },
  {
   "cell_type": "code",
   "execution_count": null,
   "id": "2b3cfa11",
   "metadata": {},
   "outputs": [],
   "source": [
    "def technical_indicators(x, st, lt, vanila = 0, lag = 0): \n",
    "\n",
    "    # initialize lag \n",
    "    if vanila == 1: \n",
    "        lag = 0\n",
    "        rsi_lag = 0 \n",
    "    else: \n",
    "        rsi_lag = 7 # to achieve the usage of half predicted and half historical \n",
    "\n",
    "    \n",
    "    # calculate ema 26\n",
    "    length = lt    \n",
    "    ema26 = x[-(length+lag):]\n",
    "    ema26 = ta.ema(ema26, length = length, adjust = False, min_periods = 1)\n",
    "    ema26 = ema26.values[-(1+lag):][0]\n",
    "\n",
    "    # calculate ema12 \n",
    "    length = st\n",
    "    ema12 = x[-(length+lag):]\n",
    "    ema12 = ta.ema(ema12, length = length, adjust = False, min_periods = 1)\n",
    "    ema12 = ema12.values[-(1+lag):][0]    \n",
    "    \n",
    "    # calculate sma \n",
    "    length = 26\n",
    "    sma26 = x[-(length+lag):]\n",
    "    sma26 = ta.sma(sma26, length = 26, adjust = False, min_periods = 1)\n",
    "    sma26 = sma26.values[-(1+lag):][0]\n",
    "    \n",
    "    # calculate sma \n",
    "    length = 52\n",
    "    sma52 = x[-(length+lag):]\n",
    "    sma52 = ta.sma(sma52, length = length, adjust = False, min_periods = 1)\n",
    "    sma52 = sma52.values[-(1+lag):][0]    \n",
    "       \n",
    "    \n",
    "    # calculate macd \n",
    "    macd = ema12 - ema26\n",
    "    \n",
    "    # calculate rsi \n",
    "    length = 15\n",
    "    rsi = x[-(length+rsi_lag):]\n",
    "    rsi = ta.rsi(rsi, length = 14)\n",
    "    rsi = rsi.values[-(1+rsi_lag):][0]\n",
    "    \n",
    "    return (macd, rsi, sma26, sma52)"
   ]
  },
  {
   "cell_type": "code",
   "execution_count": null,
   "id": "baef2d32",
   "metadata": {},
   "outputs": [],
   "source": [
    "def experiment1(item, candidate, vanila = 0, lag = 0, buy_threshold = 0, sell_threshold = 0, choice_action = 'macd'):\n",
    "    \n",
    "    short = candidate['short']\n",
    "    long = candidate['long']\n",
    "    signal = candidate['signal']\n",
    "    buy_threshold = candidate['buy_threshold']\n",
    "    sell_threshold = candidate['sell_threshold']\n",
    "    \n",
    "      \n",
    "    # forecasted values (current day)\n",
    "    results = item.copy()\n",
    "    \n",
    "    # obtain ema & rsi values \n",
    "    results[['macd_1', 'rsi_1', 'sma26_1', 'sma_52']] = results.apply(lambda x: technical_indicators(x, st = short, lt = long, vanila = vanila, lag = lag), axis = 1, result_type='expand')\n",
    "    # ema of MACD \n",
    "    results['macd_signal_1'] = ta.ema(results['macd_1'], length = signal, adjust = False, min_periods = 1)\n",
    "    # MACD Histogram \n",
    "    results['macd_div_1'] = results['macd_1'] - results['macd_signal_1']\n",
    "   \n",
    "    return results"
   ]
  },
  {
   "cell_type": "code",
   "execution_count": null,
   "id": "950e9499",
   "metadata": {},
   "outputs": [],
   "source": [
    "\n",
    "targetData = forecasted.copy()[[col for col in forecasted.columns if 'pred' not in col]]\n",
    "\n",
    "print(targetData.columns)\n",
    "\n",
    "candidate = {\n",
    "    'short': 12, \n",
    "    'long': 26, \n",
    "    'signal': 9, \n",
    "    'buy_threshold': 0, \n",
    "    'sell_threshold': 0, \n",
    "}\n",
    "\n",
    "results = experiment1(targetData, candidate, vanila = 0, lag = 0)\n",
    "results"
   ]
  },
  {
   "cell_type": "code",
   "execution_count": null,
   "id": "8a81f2de",
   "metadata": {},
   "outputs": [],
   "source": [
    "results_out = results.copy()[[col for col in results.columns if 'macd_1' in col or 'sma' in col]]\n",
    "results_out"
   ]
  },
  {
   "cell_type": "code",
   "execution_count": null,
   "id": "2c6f7536",
   "metadata": {},
   "outputs": [],
   "source": [
    "results_out.to_csv(f'portfolio_data/vanilla/{ticker}_portdata.csv')"
   ]
  },
  {
   "cell_type": "code",
   "execution_count": null,
   "id": "3710739a",
   "metadata": {},
   "outputs": [],
   "source": []
  },
  {
   "cell_type": "code",
   "execution_count": null,
   "id": "cffa14ba",
   "metadata": {},
   "outputs": [],
   "source": []
  }
 ],
 "metadata": {
  "kernelspec": {
   "display_name": "Python 3 (ipykernel)",
   "language": "python",
   "name": "python3"
  },
  "language_info": {
   "codemirror_mode": {
    "name": "ipython",
    "version": 3
   },
   "file_extension": ".py",
   "mimetype": "text/x-python",
   "name": "python",
   "nbconvert_exporter": "python",
   "pygments_lexer": "ipython3",
   "version": "3.9.7"
  }
 },
 "nbformat": 4,
 "nbformat_minor": 5
}
