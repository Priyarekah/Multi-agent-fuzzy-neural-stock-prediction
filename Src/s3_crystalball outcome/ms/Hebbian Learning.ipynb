{
 "cells": [
  {
   "cell_type": "code",
   "execution_count": 1,
   "id": "11f0042b",
   "metadata": {},
   "outputs": [],
   "source": [
    "import pandas as pd\n",
    "import numpy as np\n",
    "import pickle\n",
    "\n",
    "from datetime import datetime, date\n",
    "from tqdm.auto import tqdm\n"
   ]
  },
  {
   "cell_type": "markdown",
   "id": "1bb11ca7",
   "metadata": {},
   "source": [
    "# Setup"
   ]
  },
  {
   "cell_type": "markdown",
   "id": "59ccfbf9",
   "metadata": {},
   "source": [
    "retrieve data"
   ]
  },
  {
   "cell_type": "code",
   "execution_count": 2,
   "id": "3b50cf74",
   "metadata": {},
   "outputs": [],
   "source": [
    "ticker = 'ms'\n",
    "plus_target = 13\n",
    "\n",
    "mcesdf = pd.read_csv(f'data/mces/Tp{plus_target}_mcesdf.csv')\n",
    "ftraindf = pd.read_csv(f'data/ftraindf.csv')\n",
    "pred_results = pd.read_csv(f'data/train/Tp{plus_target}_train_clustermembership.csv')\n",
    "\n",
    "\n",
    "with open(f'data/cluster_details.pkl', 'rb') as handle:\n",
    "    cluster_details = pickle.load(handle)\n",
    "\n",
    "    \n",
    "ftraindf['Date'] = ftraindf.apply(lambda x: datetime.strptime(x.Date, '%Y-%m-%d').date(), axis = 1)\n",
    "pred_results['Date'] = pred_results.apply(lambda x: datetime.strptime(x.Date, '%Y-%m-%d').date(), axis = 1)"
   ]
  },
  {
   "cell_type": "markdown",
   "id": "2af585a8",
   "metadata": {},
   "source": [
    "format data"
   ]
  },
  {
   "cell_type": "code",
   "execution_count": 3,
   "id": "4973f68b",
   "metadata": {},
   "outputs": [],
   "source": [
    "ftraindf = ftraindf[ftraindf['Date'] >= date(2013, 1, 1)]\n",
    "pred_results = pred_results[pred_results['Date'] >= date(2013, 1, 1)]"
   ]
  },
  {
   "cell_type": "code",
   "execution_count": 4,
   "id": "a51afd54",
   "metadata": {},
   "outputs": [],
   "source": [
    "ftraindf = ftraindf.drop(['Date'], axis = 1).reset_index(drop = True)\n",
    "pred_results = pred_results.drop(['Date', 'pc_pred'], axis = 1).reset_index(drop = True)"
   ]
  },
  {
   "cell_type": "code",
   "execution_count": 5,
   "id": "c72dc36c",
   "metadata": {},
   "outputs": [
    {
     "data": {
      "text/html": [
       "<div>\n",
       "<style scoped>\n",
       "    .dataframe tbody tr th:only-of-type {\n",
       "        vertical-align: middle;\n",
       "    }\n",
       "\n",
       "    .dataframe tbody tr th {\n",
       "        vertical-align: top;\n",
       "    }\n",
       "\n",
       "    .dataframe thead th {\n",
       "        text-align: right;\n",
       "    }\n",
       "</style>\n",
       "<table border=\"1\" class=\"dataframe\">\n",
       "  <thead>\n",
       "    <tr style=\"text-align: right;\">\n",
       "      <th></th>\n",
       "      <th>y_Tp13_PriceChg_c0</th>\n",
       "      <th>y_Tp13_PriceChg_c1</th>\n",
       "      <th>y_Tp13_PriceChg_c2</th>\n",
       "      <th>y_Tp13_PriceChg_c3</th>\n",
       "      <th>y_Tp13_PriceChg_c4</th>\n",
       "      <th>y_Tp13_PriceChg_c5</th>\n",
       "      <th>y_Tp13_PriceChg_c6</th>\n",
       "    </tr>\n",
       "  </thead>\n",
       "  <tbody>\n",
       "    <tr>\n",
       "      <th>0</th>\n",
       "      <td>0.000201</td>\n",
       "      <td>0.012405</td>\n",
       "      <td>0.311965</td>\n",
       "      <td>0.551324</td>\n",
       "      <td>0.122438</td>\n",
       "      <td>0.000820</td>\n",
       "      <td>0.000000</td>\n",
       "    </tr>\n",
       "    <tr>\n",
       "      <th>1</th>\n",
       "      <td>0.000000</td>\n",
       "      <td>0.007669</td>\n",
       "      <td>0.193896</td>\n",
       "      <td>0.546503</td>\n",
       "      <td>0.247502</td>\n",
       "      <td>0.002692</td>\n",
       "      <td>0.000664</td>\n",
       "    </tr>\n",
       "    <tr>\n",
       "      <th>2</th>\n",
       "      <td>0.000000</td>\n",
       "      <td>0.007738</td>\n",
       "      <td>0.237279</td>\n",
       "      <td>0.564950</td>\n",
       "      <td>0.187699</td>\n",
       "      <td>0.001331</td>\n",
       "      <td>0.000144</td>\n",
       "    </tr>\n",
       "    <tr>\n",
       "      <th>3</th>\n",
       "      <td>0.000000</td>\n",
       "      <td>0.004448</td>\n",
       "      <td>0.170400</td>\n",
       "      <td>0.582561</td>\n",
       "      <td>0.239383</td>\n",
       "      <td>0.002153</td>\n",
       "      <td>0.000518</td>\n",
       "    </tr>\n",
       "    <tr>\n",
       "      <th>4</th>\n",
       "      <td>0.000295</td>\n",
       "      <td>0.009774</td>\n",
       "      <td>0.322438</td>\n",
       "      <td>0.569597</td>\n",
       "      <td>0.097038</td>\n",
       "      <td>0.000442</td>\n",
       "      <td>0.000000</td>\n",
       "    </tr>\n",
       "    <tr>\n",
       "      <th>...</th>\n",
       "      <td>...</td>\n",
       "      <td>...</td>\n",
       "      <td>...</td>\n",
       "      <td>...</td>\n",
       "      <td>...</td>\n",
       "      <td>...</td>\n",
       "      <td>...</td>\n",
       "    </tr>\n",
       "    <tr>\n",
       "      <th>1254</th>\n",
       "      <td>0.001554</td>\n",
       "      <td>0.034759</td>\n",
       "      <td>0.402485</td>\n",
       "      <td>0.484064</td>\n",
       "      <td>0.076096</td>\n",
       "      <td>0.000309</td>\n",
       "      <td>0.000000</td>\n",
       "    </tr>\n",
       "    <tr>\n",
       "      <th>1255</th>\n",
       "      <td>0.001549</td>\n",
       "      <td>0.033696</td>\n",
       "      <td>0.396113</td>\n",
       "      <td>0.475309</td>\n",
       "      <td>0.091925</td>\n",
       "      <td>0.000445</td>\n",
       "      <td>0.000000</td>\n",
       "    </tr>\n",
       "    <tr>\n",
       "      <th>1256</th>\n",
       "      <td>0.001723</td>\n",
       "      <td>0.035972</td>\n",
       "      <td>0.395852</td>\n",
       "      <td>0.479660</td>\n",
       "      <td>0.085245</td>\n",
       "      <td>0.000487</td>\n",
       "      <td>0.000000</td>\n",
       "    </tr>\n",
       "    <tr>\n",
       "      <th>1257</th>\n",
       "      <td>0.001909</td>\n",
       "      <td>0.039640</td>\n",
       "      <td>0.397043</td>\n",
       "      <td>0.477848</td>\n",
       "      <td>0.082031</td>\n",
       "      <td>0.000445</td>\n",
       "      <td>0.000000</td>\n",
       "    </tr>\n",
       "    <tr>\n",
       "      <th>1258</th>\n",
       "      <td>0.001789</td>\n",
       "      <td>0.040063</td>\n",
       "      <td>0.400031</td>\n",
       "      <td>0.491210</td>\n",
       "      <td>0.065869</td>\n",
       "      <td>0.000274</td>\n",
       "      <td>0.000000</td>\n",
       "    </tr>\n",
       "  </tbody>\n",
       "</table>\n",
       "<p>1259 rows × 7 columns</p>\n",
       "</div>"
      ],
      "text/plain": [
       "      y_Tp13_PriceChg_c0  y_Tp13_PriceChg_c1  y_Tp13_PriceChg_c2  \\\n",
       "0               0.000201            0.012405            0.311965   \n",
       "1               0.000000            0.007669            0.193896   \n",
       "2               0.000000            0.007738            0.237279   \n",
       "3               0.000000            0.004448            0.170400   \n",
       "4               0.000295            0.009774            0.322438   \n",
       "...                  ...                 ...                 ...   \n",
       "1254            0.001554            0.034759            0.402485   \n",
       "1255            0.001549            0.033696            0.396113   \n",
       "1256            0.001723            0.035972            0.395852   \n",
       "1257            0.001909            0.039640            0.397043   \n",
       "1258            0.001789            0.040063            0.400031   \n",
       "\n",
       "      y_Tp13_PriceChg_c3  y_Tp13_PriceChg_c4  y_Tp13_PriceChg_c5  \\\n",
       "0               0.551324            0.122438            0.000820   \n",
       "1               0.546503            0.247502            0.002692   \n",
       "2               0.564950            0.187699            0.001331   \n",
       "3               0.582561            0.239383            0.002153   \n",
       "4               0.569597            0.097038            0.000442   \n",
       "...                  ...                 ...                 ...   \n",
       "1254            0.484064            0.076096            0.000309   \n",
       "1255            0.475309            0.091925            0.000445   \n",
       "1256            0.479660            0.085245            0.000487   \n",
       "1257            0.477848            0.082031            0.000445   \n",
       "1258            0.491210            0.065869            0.000274   \n",
       "\n",
       "      y_Tp13_PriceChg_c6  \n",
       "0               0.000000  \n",
       "1               0.000664  \n",
       "2               0.000144  \n",
       "3               0.000518  \n",
       "4               0.000000  \n",
       "...                  ...  \n",
       "1254            0.000000  \n",
       "1255            0.000000  \n",
       "1256            0.000000  \n",
       "1257            0.000000  \n",
       "1258            0.000000  \n",
       "\n",
       "[1259 rows x 7 columns]"
      ]
     },
     "execution_count": 5,
     "metadata": {},
     "output_type": "execute_result"
    }
   ],
   "source": [
    "pred_results"
   ]
  },
  {
   "cell_type": "markdown",
   "id": "692722cf",
   "metadata": {},
   "source": [
    "list of selected features"
   ]
  },
  {
   "cell_type": "code",
   "execution_count": 6,
   "id": "df9674c2",
   "metadata": {},
   "outputs": [],
   "source": [
    "selected = list(mcesdf.head(6)['cols'])"
   ]
  },
  {
   "cell_type": "markdown",
   "id": "438f1a2a",
   "metadata": {},
   "source": [
    "column dictionary per feature"
   ]
  },
  {
   "cell_type": "code",
   "execution_count": 7,
   "id": "d46c4459",
   "metadata": {},
   "outputs": [],
   "source": [
    "column_dictionary = {}\n",
    "\n",
    "for feature in selected: \n",
    "    column_dictionary[feature] = list(cluster_details[feature].keys())"
   ]
  },
  {
   "cell_type": "markdown",
   "id": "2ba906fa",
   "metadata": {},
   "source": [
    "# Main Body"
   ]
  },
  {
   "cell_type": "markdown",
   "id": "3a78ba4d",
   "metadata": {},
   "source": [
    "Variables"
   ]
  },
  {
   "cell_type": "code",
   "execution_count": 8,
   "id": "723a5039",
   "metadata": {},
   "outputs": [],
   "source": [
    "plus_target = 13\n",
    "fuzzy_rule_base = [{}] \n",
    "hebbian_weights = np.array(0)\n",
    "target = f'y_Tp{plus_target}_PriceChg'\n",
    "decaying_factor = 0.98"
   ]
  },
  {
   "cell_type": "markdown",
   "id": "67c538a5",
   "metadata": {},
   "source": [
    "Main Body"
   ]
  },
  {
   "cell_type": "code",
   "execution_count": 9,
   "id": "8ce451df",
   "metadata": {},
   "outputs": [
    {
     "data": {
      "application/vnd.jupyter.widget-view+json": {
       "model_id": "db4cd43b747f41ce9b11ca2919bc2211",
       "version_major": 2,
       "version_minor": 0
      },
      "text/plain": [
       "  0%|          | 0/1259 [00:00<?, ?it/s]"
      ]
     },
     "metadata": {},
     "output_type": "display_data"
    },
    {
     "data": {
      "text/html": [
       "<div>\n",
       "<style scoped>\n",
       "    .dataframe tbody tr th:only-of-type {\n",
       "        vertical-align: middle;\n",
       "    }\n",
       "\n",
       "    .dataframe tbody tr th {\n",
       "        vertical-align: top;\n",
       "    }\n",
       "\n",
       "    .dataframe thead th {\n",
       "        text-align: right;\n",
       "    }\n",
       "</style>\n",
       "<table border=\"1\" class=\"dataframe\">\n",
       "  <thead>\n",
       "    <tr style=\"text-align: right;\">\n",
       "      <th></th>\n",
       "      <th>rule</th>\n",
       "      <th>weight</th>\n",
       "    </tr>\n",
       "  </thead>\n",
       "  <tbody>\n",
       "    <tr>\n",
       "      <th>0</th>\n",
       "      <td>{'x_Tm1_PriceChg': 'x_Tm1_PriceChg_c3', 'x_Tm4...</td>\n",
       "      <td>6.728894e+01</td>\n",
       "    </tr>\n",
       "    <tr>\n",
       "      <th>1</th>\n",
       "      <td>{'x_Tm1_PriceChg': 'x_Tm1_PriceChg_c3', 'x_Tm4...</td>\n",
       "      <td>7.903054e-01</td>\n",
       "    </tr>\n",
       "    <tr>\n",
       "      <th>2</th>\n",
       "      <td>{'x_Tm1_PriceChg': 'x_Tm1_PriceChg_c3', 'x_Tm4...</td>\n",
       "      <td>2.423265e-01</td>\n",
       "    </tr>\n",
       "    <tr>\n",
       "      <th>3</th>\n",
       "      <td>{'x_Tm1_PriceChg': 'x_Tm1_PriceChg_c3', 'x_Tm4...</td>\n",
       "      <td>2.047599e-01</td>\n",
       "    </tr>\n",
       "    <tr>\n",
       "      <th>4</th>\n",
       "      <td>{'x_Tm1_PriceChg': 'x_Tm1_PriceChg_c3', 'x_Tm4...</td>\n",
       "      <td>1.140776e-01</td>\n",
       "    </tr>\n",
       "    <tr>\n",
       "      <th>...</th>\n",
       "      <td>...</td>\n",
       "      <td>...</td>\n",
       "    </tr>\n",
       "    <tr>\n",
       "      <th>74</th>\n",
       "      <td>{'x_Tm1_PriceChg': 'x_Tm1_PriceChg_c3', 'x_Tm4...</td>\n",
       "      <td>1.464999e-11</td>\n",
       "    </tr>\n",
       "    <tr>\n",
       "      <th>75</th>\n",
       "      <td>{'x_Tm1_PriceChg': 'x_Tm1_PriceChg_c3', 'x_Tm4...</td>\n",
       "      <td>7.919811e-12</td>\n",
       "    </tr>\n",
       "    <tr>\n",
       "      <th>76</th>\n",
       "      <td>{'x_Tm1_PriceChg': 'x_Tm1_PriceChg_c3', 'x_Tm4...</td>\n",
       "      <td>6.385002e-12</td>\n",
       "    </tr>\n",
       "    <tr>\n",
       "      <th>77</th>\n",
       "      <td>{'x_Tm1_PriceChg': 'x_Tm1_PriceChg_c3', 'x_Tm4...</td>\n",
       "      <td>5.099959e-12</td>\n",
       "    </tr>\n",
       "    <tr>\n",
       "      <th>78</th>\n",
       "      <td>{'x_Tm1_PriceChg': 'x_Tm1_PriceChg_c4', 'x_Tm4...</td>\n",
       "      <td>3.340555e-12</td>\n",
       "    </tr>\n",
       "  </tbody>\n",
       "</table>\n",
       "<p>79 rows × 2 columns</p>\n",
       "</div>"
      ],
      "text/plain": [
       "                                                 rule        weight\n",
       "0   {'x_Tm1_PriceChg': 'x_Tm1_PriceChg_c3', 'x_Tm4...  6.728894e+01\n",
       "1   {'x_Tm1_PriceChg': 'x_Tm1_PriceChg_c3', 'x_Tm4...  7.903054e-01\n",
       "2   {'x_Tm1_PriceChg': 'x_Tm1_PriceChg_c3', 'x_Tm4...  2.423265e-01\n",
       "3   {'x_Tm1_PriceChg': 'x_Tm1_PriceChg_c3', 'x_Tm4...  2.047599e-01\n",
       "4   {'x_Tm1_PriceChg': 'x_Tm1_PriceChg_c3', 'x_Tm4...  1.140776e-01\n",
       "..                                                ...           ...\n",
       "74  {'x_Tm1_PriceChg': 'x_Tm1_PriceChg_c3', 'x_Tm4...  1.464999e-11\n",
       "75  {'x_Tm1_PriceChg': 'x_Tm1_PriceChg_c3', 'x_Tm4...  7.919811e-12\n",
       "76  {'x_Tm1_PriceChg': 'x_Tm1_PriceChg_c3', 'x_Tm4...  6.385002e-12\n",
       "77  {'x_Tm1_PriceChg': 'x_Tm1_PriceChg_c3', 'x_Tm4...  5.099959e-12\n",
       "78  {'x_Tm1_PriceChg': 'x_Tm1_PriceChg_c4', 'x_Tm4...  3.340555e-12\n",
       "\n",
       "[79 rows x 2 columns]"
      ]
     },
     "execution_count": 9,
     "metadata": {},
     "output_type": "execute_result"
    }
   ],
   "source": [
    "\n",
    "\n",
    "count = 0 \n",
    "\n",
    "for row in tqdm(range(len(ftraindf))): \n",
    "    \n",
    "    rule = {} \n",
    "    \n",
    "    instance_cols = [] \n",
    "    \n",
    "    for feature in selected: \n",
    "        cols = column_dictionary[feature]\n",
    "        max_x_cluster = ftraindf[cols].iloc[row].idxmax()\n",
    "        rule[feature] = max_x_cluster\n",
    "    \n",
    "    minA_value = ftraindf[list(rule.values())].iloc[row].min() \n",
    "    \n",
    "    # dealing with y \n",
    "    max_y_cluster = pred_results.iloc[row].idxmax() \n",
    "    maxC_value = pred_results.iloc[row].max() \n",
    "    rule[target] = max_y_cluster\n",
    "    \n",
    "    # hebbian weight\n",
    "    weight = minA_value * maxC_value\n",
    "    \n",
    "    \n",
    "    \n",
    "    # update weights (yay)\n",
    "    \n",
    "    # check if rule exists\n",
    "    if rule in fuzzy_rule_base: \n",
    "        \n",
    "        # identify index \n",
    "        index = fuzzy_rule_base.index(rule)\n",
    "        updated_weight = hebbian_weights[index] + weight\n",
    "        \n",
    "        # applying decaying factor        \n",
    "        hebbian_weights = hebbian_weights*decaying_factor\n",
    "        \n",
    "        # update instance weight \n",
    "        hebbian_weights[index] = updated_weight\n",
    "    \n",
    "    else: \n",
    "        \n",
    "        # applying decaying factor \n",
    "        hebbian_weights = hebbian_weights*decaying_factor\n",
    "        \n",
    "        # get instance weight \n",
    "        updated_weight = weight\n",
    "        \n",
    "        # append rule & respective weight \n",
    "        fuzzy_rule_base.append(rule)\n",
    "        hebbian_weights = np.append(hebbian_weights, updated_weight)\n",
    "    \n",
    "#     count += 1\n",
    "#     if count == 10: break\n",
    "\n",
    "# delete the dummy elements\n",
    "fuzzy_rule_base = fuzzy_rule_base[1:]\n",
    "hebbian_weights = np.delete(hebbian_weights, [0])\n",
    "\n",
    "hebbian_data = {\n",
    "    'rule': fuzzy_rule_base, \n",
    "    'weight': hebbian_weights\n",
    "}\n",
    "\n",
    "hebbian = pd.DataFrame(hebbian_data)\n",
    "hebbian = hebbian.sort_values(['weight'], ascending = False).reset_index(drop = True)\n",
    "hebbian\n"
   ]
  },
  {
   "cell_type": "code",
   "execution_count": 10,
   "id": "243fce77",
   "metadata": {},
   "outputs": [],
   "source": [
    "hebbian.to_csv(f'Tp{plus_target}.csv')"
   ]
  },
  {
   "cell_type": "code",
   "execution_count": 11,
   "id": "7639eee4",
   "metadata": {},
   "outputs": [
    {
     "data": {
      "text/plain": [
       "{'x_Tm1_PriceChg': 'x_Tm1_PriceChg_c3',\n",
       " 'x_Tm4_PriceChg': 'x_Tm4_PriceChg_c3',\n",
       " 'x_Tm7_PRoc1': 'x_Tm7_PRoc1_c2',\n",
       " 'x_Tm5_PRoc1': 'x_Tm5_PRoc1_c2',\n",
       " 'x_Tm3_PRoc1': 'x_Tm3_PRoc1_c2',\n",
       " 'x_Tm3_PriceChg': 'x_Tm3_PriceChg_c3',\n",
       " 'y_Tp13_PriceChg': 'y_Tp13_PriceChg_c3'}"
      ]
     },
     "execution_count": 11,
     "metadata": {},
     "output_type": "execute_result"
    }
   ],
   "source": [
    "hebbian['rule'][0]"
   ]
  },
  {
   "cell_type": "code",
   "execution_count": null,
   "id": "90918029",
   "metadata": {},
   "outputs": [],
   "source": []
  }
 ],
 "metadata": {
  "kernelspec": {
   "display_name": "Python 3 (ipykernel)",
   "language": "python",
   "name": "python3"
  },
  "language_info": {
   "codemirror_mode": {
    "name": "ipython",
    "version": 3
   },
   "file_extension": ".py",
   "mimetype": "text/x-python",
   "name": "python",
   "nbconvert_exporter": "python",
   "pygments_lexer": "ipython3",
   "version": "3.9.7"
  }
 },
 "nbformat": 4,
 "nbformat_minor": 5
}
