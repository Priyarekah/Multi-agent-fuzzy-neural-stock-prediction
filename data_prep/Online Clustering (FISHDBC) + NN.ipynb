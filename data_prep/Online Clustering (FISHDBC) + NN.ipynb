{
 "cells": [
  {
   "cell_type": "markdown",
   "id": "b10879ab",
   "metadata": {},
   "source": [
    "FISHDBC (Flexible, Incremental, Scalable and Hierarchical density-based clustering algorithm)\n",
    "\n",
    "It is density-based and approximates HDBSCAN, which is an evolution of DBSCAN\n",
    "\n",
    "- Flexible: allows users to define distance function \n",
    "- Incremental & Scalable: avoids O(n^2) of other hierarchical clustering methods. Lightweight computation to upsdate the clusters when few data points are added\n",
    "- Hierarchical: produces a 'flat' clustering that can be expanded to a tree structure, so users can split/ merge clusters in sub-super clusters during data exploration"
   ]
  },
  {
   "cell_type": "code",
   "execution_count": 1,
   "id": "dc86705b",
   "metadata": {},
   "outputs": [],
   "source": [
    "import collections\n",
    "import itertools\n",
    "\n",
    "import numpy as np\n",
    "import numpy.linalg\n",
    "import matplotlib.pyplot as plt\n",
    "\n",
    "from flexible_clustering import FISHDBC\n",
    "\n",
    "import pandas as pd"
   ]
  },
  {
   "cell_type": "code",
   "execution_count": 2,
   "id": "1f99f407",
   "metadata": {},
   "outputs": [],
   "source": [
    "import tensorflow as tf"
   ]
  },
  {
   "cell_type": "markdown",
   "id": "845db304",
   "metadata": {},
   "source": [
    "# Iris FISHDBC"
   ]
  },
  {
   "cell_type": "code",
   "execution_count": 4,
   "id": "37763f11",
   "metadata": {},
   "outputs": [],
   "source": [
    "import sklearn.datasets\n",
    "from sklearn.model_selection import train_test_split"
   ]
  },
  {
   "cell_type": "code",
   "execution_count": 5,
   "id": "b1f86cf6",
   "metadata": {},
   "outputs": [],
   "source": [
    "iris = datasets.load_iris()\n",
    "\n",
    "X = iris['data']\n",
    "y = iris['target']\n",
    "\n",
    "df = pd.DataFrame(X)\n",
    "df['Class'] = y\n",
    "\n",
    "df.columns=['F1', 'F2', 'F3', 'F4', 'Class']"
   ]
  },
  {
   "cell_type": "code",
   "execution_count": 6,
   "id": "658984f8",
   "metadata": {},
   "outputs": [],
   "source": [
    "from tensorflow.keras.models import Sequential\n",
    "from tensorflow.keras.layers import Dense, Dropout, BatchNormalization\n",
    "from sklearn.metrics import accuracy_score"
   ]
  },
  {
   "cell_type": "code",
   "execution_count": 7,
   "id": "8eb8ab92",
   "metadata": {},
   "outputs": [],
   "source": [
    "X = df.iloc[:, :-1]\n",
    "y = df.iloc[:, -1]\n",
    "\n",
    "X_train, X_test, y_train, y_test = train_test_split(X, y, test_size=0.2, random_state=42)\n",
    "X_train = np.array(X_train)\n",
    "X_test = np.array(X_test)\n",
    "\n",
    "y_encoded = pd.get_dummies(y_train)\n",
    "y_encoded = np.array(y_encoded)"
   ]
  },
  {
   "cell_type": "markdown",
   "id": "40b60751",
   "metadata": {},
   "source": [
    "### Functions for visualising/ creating projections"
   ]
  },
  {
   "cell_type": "code",
   "execution_count": 8,
   "id": "872b6845",
   "metadata": {},
   "outputs": [],
   "source": [
    "from scipy.stats import norm\n",
    "import statistics"
   ]
  },
  {
   "cell_type": "code",
   "execution_count": 9,
   "id": "7e02f069",
   "metadata": {},
   "outputs": [],
   "source": [
    "# Gets the datapoints and centroid coordinates for a particular cluster\n",
    "def get_data_centroid(X, y_pred, cluster_label):\n",
    "    datapoints = X[y_pred==cluster_label]\n",
    "    centroid_coord = np.mean(datapoints, axis=0) \n",
    "    return datapoints, centroid_coord\n",
    "\n",
    "# Gets the mean and std of a particular cluster (for 1 dimension only)\n",
    "def mean_std(cluster_data, dim):\n",
    "    points = cluster_data[:,dim]\n",
    "    return statistics.mean(points), statistics.stdev(points)\n",
    "\n",
    "# Gets the data required for each dimension (for all clusters)\n",
    "def get_dimension_dict(X, num_clusters, dim, y_pred):\n",
    "    dim_dict = {}\n",
    "    \n",
    "    for i in range(num_clusters):\n",
    "        dim_dict[\"cluster\"+str(i)] = {}\n",
    "        data, centroid = get_data_centroid(X, y_pred, i)\n",
    "        data_mean, data_std = mean_std(data, dim)\n",
    "        dim_dict[\"cluster\"+str(i)][\"data\"] = data\n",
    "        dim_dict[\"cluster\"+str(i)][\"centroid\"] = centroid\n",
    "        dim_dict[\"cluster\"+str(i)][\"mean\"] = data_mean\n",
    "        dim_dict[\"cluster\"+str(i)][\"std\"] = data_std\n",
    "        \n",
    "    return dim_dict\n",
    "\n",
    "# Plot the gaussian projections of each cluster on the specified dimension\n",
    "def plot_projection(dim_dict, num_clusters, title, show_vertical=False):\n",
    "    \n",
    "    plt.subplot(1,1,1)\n",
    "    plt.title(title)\n",
    "    for i in range(num_clusters):\n",
    "        mean = dim_dict[\"cluster\"+str(i)][\"mean\"]\n",
    "        std = dim_dict[\"cluster\"+str(i)][\"std\"]\n",
    "        # if all datapoints same value (no pdf)\n",
    "        if show_vertical == True:\n",
    "            if std == 0:\n",
    "                plt.axvline(x=mean, ymin=0, ymax=1, color='black', label=\"Cluster #\" + str(i))\n",
    "                continue\n",
    "        x = np.linspace(mean - 6*std, mean+6*std, 100)\n",
    "        y = norm.pdf(x, mean, std)\n",
    "        plt.plot(x, y/max(y), label=\"Cluster #\"+str(i))\n",
    "        \n",
    "    plt.legend(bbox_to_anchor=(1.35, 0.7))"
   ]
  },
  {
   "cell_type": "code",
   "execution_count": 10,
   "id": "7f1740df",
   "metadata": {},
   "outputs": [],
   "source": [
    "def distance(x, y):\n",
    "    return numpy.linalg.norm(x - y)"
   ]
  },
  {
   "cell_type": "markdown",
   "id": "69ecd09d",
   "metadata": {},
   "source": [
    "### Functions for creating memberships"
   ]
  },
  {
   "cell_type": "code",
   "execution_count": 11,
   "id": "ef787449",
   "metadata": {},
   "outputs": [],
   "source": [
    "def dimension_projection(data, y_pred, title, dim):\n",
    "    num_outliers = (np.sum(np.array(y_pred) == -1, axis=0))\n",
    "    num_clusters = (len(set(y_pred)) - (1 if -1 in y_pred else 0))\n",
    "    print('Number of noise points: ', num_outliers)\n",
    "    print(\"Number of clusters: \", num_clusters)\n",
    "\n",
    "    unique = pd.DataFrame(np.unique(y_pred, return_counts = True))\n",
    "    print(\"Unqiue Clusters: \")\n",
    "    display(unique)\n",
    "\n",
    "    print(\"Centroids: \")\n",
    "    for i in range(num_clusters):\n",
    "        print(\"centroid\", str(i), \": \", get_data_centroid(data, y_pred, i)[1])\n",
    "\n",
    "    dim_dict = get_dimension_dict(data, num_clusters, dim, y_pred)\n",
    "    plot_projection(dim_dict, num_clusters, title)\n",
    "\n",
    "    return num_clusters, dim_dict"
   ]
  },
  {
   "cell_type": "code",
   "execution_count": 12,
   "id": "3e401321",
   "metadata": {},
   "outputs": [],
   "source": [
    "def output_fuzzy_memberships(dim_dict, num_clusters, dim_data_pt):\n",
    "    fuzzy_memberships = []\n",
    "    for i in range(num_clusters):\n",
    "        mean = dim_dict[\"cluster\"+str(i)][\"mean\"]\n",
    "        std = dim_dict[\"cluster\"+str(i)][\"std\"]\n",
    "        if std == 0:\n",
    "            if dim_data_pt == mean:\n",
    "                fuzzy_memberships.append(1)\n",
    "            else:\n",
    "                fuzzy_memberships.append(0)\n",
    "            continue\n",
    "        pdf = norm(mean, std).pdf(dim_data_pt)\n",
    "        max_y = norm(mean, std).pdf(mean)\n",
    "        fuzzy_memberships.append(pdf/max_y)\n",
    "        \n",
    "    return fuzzy_memberships"
   ]
  },
  {
   "cell_type": "markdown",
   "id": "3379fd16",
   "metadata": {},
   "source": [
    "# Localised (Dim 1)"
   ]
  },
  {
   "cell_type": "code",
   "execution_count": 13,
   "id": "9fd66e17",
   "metadata": {},
   "outputs": [],
   "source": [
    "F1 = df[['F1']].values\n",
    "true_labels = iris['target']"
   ]
  },
  {
   "cell_type": "code",
   "execution_count": 14,
   "id": "eaa57f85",
   "metadata": {
    "scrolled": true
   },
   "outputs": [
    {
     "name": "stdout",
     "output_type": "stream",
     "text": [
      "IN FISHDBC initiated!\n",
      "In FISHDBC update function!\n",
      "updating mst...\n",
      "IN updating mst!\n",
      "IN updating mst!\n",
      "In unionfind.pyx init!\n",
      "Union Find:  <flexible_clustering.unionfind.UnionFind object at 0x7f8319ccb2d0>\n",
      "num of added points:  50\n",
      "total data now:  50\n",
      "IN cluster function!\n",
      "IN updating mst!\n",
      "In FISHDBC update function!\n",
      "updating mst...\n",
      "IN updating mst!\n",
      "In unionfind.pyx init!\n",
      "Union Find:  <flexible_clustering.unionfind.UnionFind object at 0x7f8330967690>\n",
      "IN updating mst!\n",
      "In unionfind.pyx init!\n",
      "Union Find:  <flexible_clustering.unionfind.UnionFind object at 0x7f8320de46e0>\n",
      "num of added points:  50\n",
      "total data now:  100\n",
      "IN cluster function!\n",
      "IN updating mst!\n",
      "In FISHDBC update function!\n",
      "updating mst...\n",
      "IN updating mst!\n",
      "In unionfind.pyx init!\n",
      "Union Find:  <flexible_clustering.unionfind.UnionFind object at 0x7f8320de2e10>\n",
      "IN updating mst!\n",
      "In unionfind.pyx init!\n",
      "Union Find:  <flexible_clustering.unionfind.UnionFind object at 0x7f8319cef2d0>\n",
      "num of added points:  50\n",
      "total data now:  150\n",
      "IN cluster function!\n",
      "IN updating mst!\n"
     ]
    }
   ],
   "source": [
    "fishdbc = FISHDBC(distance)\n",
    "\n",
    "# plt.figure(figsize=(9, 9))\n",
    "# plt.gca().set_aspect('equal')\n",
    "\n",
    "n_iters = 3\n",
    "for points in np.split(F1, n_iters):\n",
    "    fishdbc.update(points)\n",
    "    print(\"num of added points: \", len(points))\n",
    "    nknown = len(fishdbc.data)\n",
    "    print(\"total data now: \", nknown)\n",
    "    labels, probs, stabilities, ctree, slt, mst = fishdbc.cluster()\n",
    "    clusters = collections.defaultdict(set)\n",
    "    for parent, child, lambda_val, child_size in ctree[::-1]:\n",
    "        if child_size == 1:\n",
    "            clusters[parent].add(child)\n",
    "        else:\n",
    "            assert len(clusters[child]) == child_size\n",
    "            clusters[parent].update(clusters[child])\n",
    "    clusters = sorted(clusters.items())\n",
    "    xknown, yknown, labels_known = F1[:nknown], F1[:nknown], true_labels[:nknown]\n",
    "    color = ['rgbcmyk'[l % 7] for l in labels_known]\n",
    "#     plt.scatter(xknown, yknown, c=color, linewidth=0)\n",
    "#     plt.show(block=False)"
   ]
  },
  {
   "cell_type": "code",
   "execution_count": 15,
   "id": "ed87bba9",
   "metadata": {},
   "outputs": [
    {
     "data": {
      "text/plain": [
       "(array([-1,  0,  1,  2,  3,  4,  5,  6,  7,  8,  9, 10, 11, 12, 13, 14]),\n",
       " array([26,  6, 14, 13,  5, 11,  7,  8,  9,  6,  6,  6,  7,  7,  9, 10]))"
      ]
     },
     "execution_count": 15,
     "metadata": {},
     "output_type": "execute_result"
    }
   ],
   "source": [
    "# clustering result\n",
    "np.unique(labels, return_counts=True)"
   ]
  },
  {
   "cell_type": "code",
   "execution_count": 16,
   "id": "ed44fa1c",
   "metadata": {},
   "outputs": [
    {
     "name": "stdout",
     "output_type": "stream",
     "text": [
      "Number of noise points:  26\n",
      "Number of clusters:  15\n"
     ]
    }
   ],
   "source": [
    "y_pred = labels\n",
    "num_outliers = (np.sum(np.array(y_pred) == -1, axis=0))\n",
    "num_clusters = (len(set(y_pred)) - (1 if -1 in y_pred else 0))\n",
    "print('Number of noise points: ', num_outliers)\n",
    "print(\"Number of clusters: \", num_clusters)"
   ]
  },
  {
   "cell_type": "code",
   "execution_count": 17,
   "id": "16427dfe",
   "metadata": {},
   "outputs": [
    {
     "data": {
      "image/png": "[encoded data removed]",
      "text/plain": [
       "<Figure size 432x288 with 1 Axes>"
      ]
     },
     "metadata": {
      "needs_background": "light"
     },
     "output_type": "display_data"
    }
   ],
   "source": [
    "dim = 0\n",
    "dim_dict = get_dimension_dict(F1, num_clusters, dim, y_pred)\n",
    "plot_projection(dim_dict, num_clusters, \"Projection on F1\", True)"
   ]
  },
  {
   "cell_type": "code",
   "execution_count": 18,
   "id": "5af573c1",
   "metadata": {},
   "outputs": [
    {
     "data": {
      "text/plain": [
       "[9.585870003332139e-96,\n",
       " 1.476436133918306e-73,\n",
       " 2.289535116589241e-129,\n",
       " 0.0,\n",
       " 2.844374938884006e-264,\n",
       " 0,\n",
       " 0,\n",
       " 5.745367715223622e-66,\n",
       " 0,\n",
       " 0,\n",
       " 0,\n",
       " 0,\n",
       " 1.4253570710566696e-10,\n",
       " 1,\n",
       " 0]"
      ]
     },
     "execution_count": 18,
     "metadata": {},
     "output_type": "execute_result"
    }
   ],
   "source": [
    "output_fuzzy_memberships(dim_dict, num_clusters, 5.1)"
   ]
  },
  {
   "cell_type": "code",
   "execution_count": 19,
   "id": "ee6b688f",
   "metadata": {},
   "outputs": [],
   "source": [
    "train_F1_data = list(X_train[:, 0])\n",
    "test_F1_data = list(X_test[:, 0])\n",
    "\n",
    "train_F1_fuzzified = []\n",
    "for i in train_F1_data:\n",
    "    fuzzified = output_fuzzy_memberships(dim_dict, num_clusters, i)\n",
    "    train_F1_fuzzified.append(fuzzified)\n",
    "\n",
    "test_F1_fuzzified = []\n",
    "for i in test_F1_data:\n",
    "    fuzzified = output_fuzzy_memberships(dim_dict, num_clusters, i)\n",
    "    test_F1_fuzzified.append(fuzzified)"
   ]
  },
  {
   "cell_type": "markdown",
   "id": "29642990",
   "metadata": {},
   "source": [
    "# Localied (Dim 2)"
   ]
  },
  {
   "cell_type": "code",
   "execution_count": 20,
   "id": "c0a2923d",
   "metadata": {},
   "outputs": [],
   "source": [
    "F2 = df[['F2']].values"
   ]
  },
  {
   "cell_type": "code",
   "execution_count": 21,
   "id": "78247ba5",
   "metadata": {
    "scrolled": true
   },
   "outputs": [
    {
     "name": "stdout",
     "output_type": "stream",
     "text": [
      "IN FISHDBC initiated!\n",
      "In FISHDBC update function!\n",
      "updating mst...\n",
      "IN updating mst!\n",
      "IN updating mst!\n",
      "In unionfind.pyx init!\n",
      "Union Find:  <flexible_clustering.unionfind.UnionFind object at 0x7f83309d9b90>\n",
      "num of added points:  50\n",
      "total data now:  50\n",
      "IN cluster function!\n",
      "IN updating mst!\n",
      "In FISHDBC update function!\n",
      "updating mst...\n",
      "IN updating mst!\n",
      "In unionfind.pyx init!\n",
      "Union Find:  <flexible_clustering.unionfind.UnionFind object at 0x7f8314747a00>\n",
      "IN updating mst!\n",
      "In unionfind.pyx init!\n",
      "Union Find:  <flexible_clustering.unionfind.UnionFind object at 0x7f8330a27a00>\n",
      "num of added points:  50\n",
      "total data now:  100\n",
      "IN cluster function!\n",
      "IN updating mst!\n",
      "In FISHDBC update function!\n",
      "updating mst...\n",
      "IN updating mst!\n",
      "In unionfind.pyx init!\n",
      "Union Find:  <flexible_clustering.unionfind.UnionFind object at 0x7f8330a270a0>\n",
      "IN updating mst!\n",
      "In unionfind.pyx init!\n",
      "Union Find:  <flexible_clustering.unionfind.UnionFind object at 0x7f8330a17b90>\n",
      "num of added points:  50\n",
      "total data now:  150\n",
      "IN cluster function!\n",
      "IN updating mst!\n"
     ]
    }
   ],
   "source": [
    "fishdbc = FISHDBC(distance)\n",
    "\n",
    "# plt.figure(figsize=(9, 9))\n",
    "# plt.gca().set_aspect('equal')\n",
    "\n",
    "n_iters = 3\n",
    "for points in np.split(F2, n_iters):\n",
    "    fishdbc.update(points)\n",
    "    print(\"num of added points: \", len(points))\n",
    "    nknown = len(fishdbc.data)\n",
    "    print(\"total data now: \", nknown)\n",
    "    labels, probs, stabilities, ctree, slt, mst = fishdbc.cluster()\n",
    "    clusters = collections.defaultdict(set)\n",
    "    for parent, child, lambda_val, child_size in ctree[::-1]:\n",
    "        if child_size == 1:\n",
    "            clusters[parent].add(child)\n",
    "        else:\n",
    "            assert len(clusters[child]) == child_size\n",
    "            clusters[parent].update(clusters[child])\n",
    "    clusters = sorted(clusters.items())\n",
    "    xknown, yknown, labels_known = F2[:nknown], F2[:nknown], true_labels[:nknown]\n",
    "    color = ['rgbcmyk'[l % 7] for l in labels_known]\n",
    "#     plt.scatter(xknown, yknown, c=color, linewidth=0)\n",
    "#     plt.show(block=False)"
   ]
  },
  {
   "cell_type": "code",
   "execution_count": 22,
   "id": "ad61c37e",
   "metadata": {},
   "outputs": [
    {
     "name": "stdout",
     "output_type": "stream",
     "text": [
      "(array([-1,  0,  1,  2,  3,  4,  5,  6,  7,  8,  9, 10, 11]), array([24, 10,  8, 14,  9,  9,  7, 12, 13,  6,  6, 26,  6]))\n",
      "Number of noise points:  24\n",
      "Number of clusters:  12\n"
     ]
    }
   ],
   "source": [
    "# clustering result\n",
    "print(np.unique(labels, return_counts=True))\n",
    "\n",
    "y_pred = labels\n",
    "num_outliers = (np.sum(np.array(y_pred) == -1, axis=0))\n",
    "num_clusters = (len(set(y_pred)) - (1 if -1 in y_pred else 0))\n",
    "print('Number of noise points: ', num_outliers)\n",
    "print(\"Number of clusters: \", num_clusters)"
   ]
  },
  {
   "cell_type": "code",
   "execution_count": 23,
   "id": "54966349",
   "metadata": {},
   "outputs": [
    {
     "data": {
      "image/png": "[encoded data removed]",
      "text/plain": [
       "<Figure size 432x288 with 1 Axes>"
      ]
     },
     "metadata": {
      "needs_background": "light"
     },
     "output_type": "display_data"
    }
   ],
   "source": [
    "dim = 0\n",
    "dim_dict = get_dimension_dict(F2, num_clusters, dim, y_pred)\n",
    "plot_projection(dim_dict, num_clusters, \"Projection on F2\", True)"
   ]
  },
  {
   "cell_type": "code",
   "execution_count": 24,
   "id": "f2435aed",
   "metadata": {},
   "outputs": [],
   "source": [
    "train_F2_data = list(X_train[:, 1])\n",
    "test_F2_data = list(X_test[:, 1])\n",
    "\n",
    "train_F2_fuzzified = []\n",
    "for i in train_F2_data:\n",
    "    fuzzified = output_fuzzy_memberships(dim_dict, num_clusters, i)\n",
    "    train_F2_fuzzified.append(fuzzified)\n",
    "\n",
    "test_F2_fuzzified = []\n",
    "for i in test_F2_data:\n",
    "    fuzzified = output_fuzzy_memberships(dim_dict, num_clusters, i)\n",
    "    test_F2_fuzzified.append(fuzzified)"
   ]
  },
  {
   "cell_type": "markdown",
   "id": "69099c77",
   "metadata": {},
   "source": [
    "# Localised (Dim 3)"
   ]
  },
  {
   "cell_type": "code",
   "execution_count": 25,
   "id": "9ed31534",
   "metadata": {},
   "outputs": [],
   "source": [
    "F3 = df[['F3']].values"
   ]
  },
  {
   "cell_type": "code",
   "execution_count": 26,
   "id": "9cca7931",
   "metadata": {
    "scrolled": true
   },
   "outputs": [
    {
     "name": "stdout",
     "output_type": "stream",
     "text": [
      "IN FISHDBC initiated!\n",
      "In FISHDBC update function!\n",
      "updating mst...\n",
      "IN updating mst!\n",
      "IN updating mst!\n",
      "In unionfind.pyx init!\n",
      "Union Find:  <flexible_clustering.unionfind.UnionFind object at 0x7f8330a8f690>\n",
      "num of added points:  50\n",
      "total data now:  50\n",
      "IN cluster function!\n",
      "IN updating mst!\n",
      "In FISHDBC update function!\n",
      "updating mst...\n",
      "IN updating mst!\n",
      "In unionfind.pyx init!\n",
      "Union Find:  <flexible_clustering.unionfind.UnionFind object at 0x7f8319d9bc80>\n",
      "IN updating mst!\n",
      "In unionfind.pyx init!\n",
      "Union Find:  <flexible_clustering.unionfind.UnionFind object at 0x7f8330abfaa0>\n",
      "num of added points:  50\n",
      "total data now:  100\n",
      "IN cluster function!\n",
      "IN updating mst!\n",
      "In FISHDBC update function!\n",
      "updating mst...\n",
      "IN updating mst!\n",
      "In unionfind.pyx init!\n",
      "Union Find:  <flexible_clustering.unionfind.UnionFind object at 0x7f833098a0a0>\n",
      "IN updating mst!\n",
      "In unionfind.pyx init!\n",
      "Union Find:  <flexible_clustering.unionfind.UnionFind object at 0x7f8319dd2cd0>\n",
      "num of added points:  50\n",
      "total data now:  150\n",
      "IN cluster function!\n",
      "IN updating mst!\n"
     ]
    }
   ],
   "source": [
    "fishdbc = FISHDBC(distance)\n",
    "\n",
    "# plt.figure(figsize=(9, 9))\n",
    "# plt.gca().set_aspect('equal')\n",
    "\n",
    "n_iters = 3\n",
    "for points in np.split(F3, n_iters):\n",
    "    fishdbc.update(points)\n",
    "    print(\"num of added points: \", len(points))\n",
    "    nknown = len(fishdbc.data)\n",
    "    print(\"total data now: \", nknown)\n",
    "    labels, probs, stabilities, ctree, slt, mst = fishdbc.cluster()\n",
    "    clusters = collections.defaultdict(set)\n",
    "    for parent, child, lambda_val, child_size in ctree[::-1]:\n",
    "        if child_size == 1:\n",
    "            clusters[parent].add(child)\n",
    "        else:\n",
    "            assert len(clusters[child]) == child_size\n",
    "            clusters[parent].update(clusters[child])\n",
    "    clusters = sorted(clusters.items())\n",
    "    xknown, yknown, labels_known = F3[:nknown], F3[:nknown], true_labels[:nknown]\n",
    "    color = ['rgbcmyk'[l % 7] for l in labels_known]\n",
    "#     plt.scatter(xknown, yknown, c=color, linewidth=0)\n",
    "#     plt.show(block=False)"
   ]
  },
  {
   "cell_type": "code",
   "execution_count": 27,
   "id": "492b5df9",
   "metadata": {},
   "outputs": [
    {
     "name": "stdout",
     "output_type": "stream",
     "text": [
      "(array([-1,  0,  1,  2,  3,  4,  5,  6,  7,  8,  9, 10, 11]), array([29, 11, 13, 13,  7,  9, 10,  6, 11,  9,  8,  9, 15]))\n",
      "Number of noise points:  29\n",
      "Number of clusters:  12\n"
     ]
    }
   ],
   "source": [
    "# clustering result\n",
    "print(np.unique(labels, return_counts=True))\n",
    "\n",
    "y_pred = labels\n",
    "num_outliers = (np.sum(np.array(y_pred) == -1, axis=0))\n",
    "num_clusters = (len(set(y_pred)) - (1 if -1 in y_pred else 0))\n",
    "print('Number of noise points: ', num_outliers)\n",
    "print(\"Number of clusters: \", num_clusters)"
   ]
  },
  {
   "cell_type": "code",
   "execution_count": 28,
   "id": "62232b1f",
   "metadata": {},
   "outputs": [
    {
     "data": {
      "image/png": "[encoded data removed]",
      "text/plain": [
       "<Figure size 432x288 with 1 Axes>"
      ]
     },
     "metadata": {
      "needs_background": "light"
     },
     "output_type": "display_data"
    }
   ],
   "source": [
    "dim = 0\n",
    "dim_dict = get_dimension_dict(F3, num_clusters, dim, y_pred)\n",
    "plot_projection(dim_dict, num_clusters, \"Projection on F3\", True)"
   ]
  },
  {
   "cell_type": "code",
   "execution_count": 29,
   "id": "b2b13b5b",
   "metadata": {},
   "outputs": [],
   "source": [
    "train_F3_data = list(X_train[:, 2])\n",
    "test_F3_data = list(X_test[:, 2])\n",
    "\n",
    "train_F3_fuzzified = []\n",
    "for i in train_F3_data:\n",
    "    fuzzified = output_fuzzy_memberships(dim_dict, num_clusters, i)\n",
    "    train_F3_fuzzified.append(fuzzified)\n",
    "\n",
    "test_F3_fuzzified = []\n",
    "for i in test_F3_data:\n",
    "    fuzzified = output_fuzzy_memberships(dim_dict, num_clusters, i)\n",
    "    test_F3_fuzzified.append(fuzzified)"
   ]
  },
  {
   "cell_type": "markdown",
   "id": "2b928a2f",
   "metadata": {},
   "source": [
    "# Localised (Dim 4)"
   ]
  },
  {
   "cell_type": "code",
   "execution_count": 30,
   "id": "da97bca8",
   "metadata": {},
   "outputs": [],
   "source": [
    "F4 = df[['F4']].values"
   ]
  },
  {
   "cell_type": "code",
   "execution_count": 31,
   "id": "a1933240",
   "metadata": {
    "scrolled": true
   },
   "outputs": [
    {
     "name": "stdout",
     "output_type": "stream",
     "text": [
      "IN FISHDBC initiated!\n",
      "In FISHDBC update function!\n",
      "updating mst...\n",
      "IN updating mst!\n",
      "IN updating mst!\n",
      "In unionfind.pyx init!\n",
      "Union Find:  <flexible_clustering.unionfind.UnionFind object at 0x7f8319da09b0>\n",
      "num of added points:  50\n",
      "total data now:  50\n",
      "IN cluster function!\n",
      "IN updating mst!\n",
      "In FISHDBC update function!\n",
      "updating mst...\n",
      "IN updating mst!\n",
      "In unionfind.pyx init!\n",
      "Union Find:  <flexible_clustering.unionfind.UnionFind object at 0x7f8319e1bb90>\n",
      "IN updating mst!\n",
      "In unionfind.pyx init!\n",
      "Union Find:  <flexible_clustering.unionfind.UnionFind object at 0x7f8319cdecd0>\n",
      "num of added points:  50\n",
      "total data now:  100\n",
      "IN cluster function!\n",
      "IN updating mst!\n",
      "In FISHDBC update function!\n",
      "updating mst...\n",
      "IN updating mst!\n",
      "In unionfind.pyx init!\n",
      "Union Find:  <flexible_clustering.unionfind.UnionFind object at 0x7f8319cdecd0>\n",
      "IN updating mst!\n",
      "In unionfind.pyx init!\n",
      "Union Find:  <flexible_clustering.unionfind.UnionFind object at 0x7f83147b6d70>\n",
      "num of added points:  50\n",
      "total data now:  150\n",
      "IN cluster function!\n",
      "IN updating mst!\n"
     ]
    }
   ],
   "source": [
    "fishdbc = FISHDBC(distance)\n",
    "\n",
    "# plt.figure(figsize=(9, 9))\n",
    "# plt.gca().set_aspect('equal')\n",
    "\n",
    "n_iters = 3\n",
    "for points in np.split(F4, n_iters):\n",
    "    fishdbc.update(points)\n",
    "    print(\"num of added points: \", len(points))\n",
    "    nknown = len(fishdbc.data)\n",
    "    print(\"total data now: \", nknown)\n",
    "    labels, probs, stabilities, ctree, slt, mst = fishdbc.cluster()\n",
    "    clusters = collections.defaultdict(set)\n",
    "    for parent, child, lambda_val, child_size in ctree[::-1]:\n",
    "        if child_size == 1:\n",
    "            clusters[parent].add(child)\n",
    "        else:\n",
    "            assert len(clusters[child]) == child_size\n",
    "            clusters[parent].update(clusters[child])\n",
    "    clusters = sorted(clusters.items())\n",
    "    xknown, yknown, labels_known = F4[:nknown], F4[:nknown], true_labels[:nknown]\n",
    "    color = ['rgbcmyk'[l % 7] for l in labels_known]\n",
    "#     plt.scatter(xknown, yknown, c=color, linewidth=0)\n",
    "#     plt.show(block=False)"
   ]
  },
  {
   "cell_type": "code",
   "execution_count": 32,
   "id": "e834bc1b",
   "metadata": {},
   "outputs": [
    {
     "name": "stdout",
     "output_type": "stream",
     "text": [
      "(array([-1,  0,  1,  2,  3,  4,  5,  6,  7,  8,  9, 10, 11, 12, 13]), array([ 7,  6,  8,  6, 11,  6, 17,  7,  8,  6, 29,  7, 12,  7, 13]))\n",
      "Number of noise points:  7\n",
      "Number of clusters:  14\n"
     ]
    }
   ],
   "source": [
    "# clustering result\n",
    "print(np.unique(labels, return_counts=True))\n",
    "\n",
    "y_pred = labels\n",
    "num_outliers = (np.sum(np.array(y_pred) == -1, axis=0))\n",
    "num_clusters = (len(set(y_pred)) - (1 if -1 in y_pred else 0))\n",
    "print('Number of noise points: ', num_outliers)\n",
    "print(\"Number of clusters: \", num_clusters)"
   ]
  },
  {
   "cell_type": "code",
   "execution_count": 33,
   "id": "08ae766a",
   "metadata": {},
   "outputs": [
    {
     "data": {
      "image/png": "[encoded data removed]",
      "text/plain": [
       "<Figure size 432x288 with 1 Axes>"
      ]
     },
     "metadata": {
      "needs_background": "light"
     },
     "output_type": "display_data"
    }
   ],
   "source": [
    "dim = 0\n",
    "dim_dict = get_dimension_dict(F4, num_clusters, dim, y_pred)\n",
    "plot_projection(dim_dict, num_clusters, \"Projection on F4\", True)"
   ]
  },
  {
   "cell_type": "code",
   "execution_count": 34,
   "id": "f1a062e3",
   "metadata": {},
   "outputs": [],
   "source": [
    "train_F4_data = list(X_train[:, 3])\n",
    "test_F4_data = list(X_test[:, 3])\n",
    "\n",
    "train_F4_fuzzified = []\n",
    "for i in train_F4_data:\n",
    "    fuzzified = output_fuzzy_memberships(dim_dict, num_clusters, i)\n",
    "    train_F4_fuzzified.append(fuzzified)\n",
    "\n",
    "test_F4_fuzzified = []\n",
    "for i in test_F4_data:\n",
    "    fuzzified = output_fuzzy_memberships(dim_dict, num_clusters, i)\n",
    "    test_F4_fuzzified.append(fuzzified)"
   ]
  },
  {
   "cell_type": "markdown",
   "id": "08175d4d",
   "metadata": {},
   "source": [
    "# Fuzzification of inputs"
   ]
  },
  {
   "cell_type": "code",
   "execution_count": 35,
   "id": "e459c407",
   "metadata": {},
   "outputs": [],
   "source": [
    "train_all_fuzzified = []\n",
    "for i in range(len(train_F1_fuzzified)):\n",
    "    one_data = []\n",
    "    one_data.extend(train_F1_fuzzified[i])\n",
    "    one_data.extend(train_F2_fuzzified[i])\n",
    "    one_data.extend(train_F3_fuzzified[i])\n",
    "    one_data.extend(train_F4_fuzzified[i])\n",
    "    train_all_fuzzified.append(one_data)\n",
    "\n",
    "test_all_fuzzified = []\n",
    "for i in range(len(test_F1_fuzzified)):\n",
    "    one_data = []\n",
    "    one_data.extend(test_F1_fuzzified[i])\n",
    "    one_data.extend(test_F2_fuzzified[i])\n",
    "    one_data.extend(test_F3_fuzzified[i])\n",
    "    one_data.extend(test_F4_fuzzified[i])\n",
    "    test_all_fuzzified.append(one_data)"
   ]
  },
  {
   "cell_type": "code",
   "execution_count": 36,
   "id": "41d4d6fd",
   "metadata": {},
   "outputs": [],
   "source": [
    "X_train_fuzzified = np.array(train_all_fuzzified)\n",
    "X_test_fuzzified= np.array(test_all_fuzzified)"
   ]
  },
  {
   "cell_type": "code",
   "execution_count": 37,
   "id": "38d49d1b",
   "metadata": {},
   "outputs": [
    {
     "name": "stdout",
     "output_type": "stream",
     "text": [
      "Train on 108 samples, validate on 12 samples\n",
      "Epoch 1/100\n",
      "108/108 - 1s - loss: 1.1023 - accuracy: 0.2315 - val_loss: 1.1036 - val_accuracy: 0.2500\n",
      "Epoch 2/100\n",
      "108/108 - 0s - loss: 1.0764 - accuracy: 0.2870 - val_loss: 1.0922 - val_accuracy: 0.2500\n",
      "Epoch 3/100\n",
      "108/108 - 0s - loss: 1.0543 - accuracy: 0.3981 - val_loss: 1.0807 - val_accuracy: 0.3333\n",
      "Epoch 4/100\n",
      "108/108 - 0s - loss: 1.0333 - accuracy: 0.5278 - val_loss: 1.0687 - val_accuracy: 0.5000\n",
      "Epoch 5/100\n",
      "108/108 - 0s - loss: 1.0122 - accuracy: 0.5741 - val_loss: 1.0563 - val_accuracy: 0.5833\n",
      "Epoch 6/100\n",
      "108/108 - 0s - loss: 0.9919 - accuracy: 0.6481 - val_loss: 1.0444 - val_accuracy: 0.6667\n",
      "Epoch 7/100\n",
      "108/108 - 0s - loss: 0.9704 - accuracy: 0.6759 - val_loss: 1.0333 - val_accuracy: 0.7500\n",
      "Epoch 8/100\n",
      "108/108 - 0s - loss: 0.9478 - accuracy: 0.7222 - val_loss: 1.0211 - val_accuracy: 0.7500\n",
      "Epoch 9/100\n",
      "108/108 - 0s - loss: 0.9240 - accuracy: 0.7315 - val_loss: 1.0080 - val_accuracy: 0.7500\n",
      "Epoch 10/100\n",
      "108/108 - 0s - loss: 0.8984 - accuracy: 0.7593 - val_loss: 0.9927 - val_accuracy: 0.7500\n",
      "Epoch 11/100\n",
      "108/108 - 0s - loss: 0.8703 - accuracy: 0.7685 - val_loss: 0.9746 - val_accuracy: 0.7500\n",
      "Epoch 12/100\n",
      "108/108 - 0s - loss: 0.8426 - accuracy: 0.7870 - val_loss: 0.9556 - val_accuracy: 0.7500\n",
      "Epoch 13/100\n",
      "108/108 - 0s - loss: 0.8111 - accuracy: 0.7778 - val_loss: 0.9338 - val_accuracy: 0.7500\n",
      "Epoch 14/100\n",
      "108/108 - 0s - loss: 0.7793 - accuracy: 0.7778 - val_loss: 0.9095 - val_accuracy: 0.7500\n",
      "Epoch 15/100\n",
      "108/108 - 0s - loss: 0.7464 - accuracy: 0.7963 - val_loss: 0.8845 - val_accuracy: 0.7500\n",
      "Epoch 16/100\n",
      "108/108 - 0s - loss: 0.7147 - accuracy: 0.8056 - val_loss: 0.8576 - val_accuracy: 0.7500\n",
      "Epoch 17/100\n",
      "108/108 - 0s - loss: 0.6820 - accuracy: 0.8241 - val_loss: 0.8295 - val_accuracy: 0.7500\n",
      "Epoch 18/100\n",
      "108/108 - 0s - loss: 0.6506 - accuracy: 0.8241 - val_loss: 0.7998 - val_accuracy: 0.8333\n",
      "Epoch 19/100\n",
      "108/108 - 0s - loss: 0.6196 - accuracy: 0.8333 - val_loss: 0.7696 - val_accuracy: 0.8333\n",
      "Epoch 20/100\n",
      "108/108 - 0s - loss: 0.5887 - accuracy: 0.8426 - val_loss: 0.7381 - val_accuracy: 0.8333\n",
      "Epoch 21/100\n",
      "108/108 - 0s - loss: 0.5578 - accuracy: 0.8426 - val_loss: 0.7033 - val_accuracy: 0.8333\n",
      "Epoch 22/100\n",
      "108/108 - 0s - loss: 0.5273 - accuracy: 0.8611 - val_loss: 0.6704 - val_accuracy: 0.8333\n",
      "Epoch 23/100\n",
      "108/108 - 0s - loss: 0.4964 - accuracy: 0.8796 - val_loss: 0.6377 - val_accuracy: 0.8333\n",
      "Epoch 24/100\n",
      "108/108 - 0s - loss: 0.4673 - accuracy: 0.9074 - val_loss: 0.6049 - val_accuracy: 0.8333\n",
      "Epoch 25/100\n",
      "108/108 - 0s - loss: 0.4371 - accuracy: 0.9259 - val_loss: 0.5719 - val_accuracy: 0.9167\n",
      "Epoch 26/100\n",
      "108/108 - 0s - loss: 0.4065 - accuracy: 0.9259 - val_loss: 0.5385 - val_accuracy: 0.9167\n",
      "Epoch 27/100\n",
      "108/108 - 0s - loss: 0.3778 - accuracy: 0.9444 - val_loss: 0.5044 - val_accuracy: 0.9167\n",
      "Epoch 28/100\n",
      "108/108 - 0s - loss: 0.3483 - accuracy: 0.9630 - val_loss: 0.4755 - val_accuracy: 0.9167\n",
      "Epoch 29/100\n",
      "108/108 - 0s - loss: 0.3208 - accuracy: 0.9630 - val_loss: 0.4447 - val_accuracy: 0.9167\n",
      "Epoch 30/100\n",
      "108/108 - 0s - loss: 0.2944 - accuracy: 0.9722 - val_loss: 0.4168 - val_accuracy: 0.9167\n",
      "Epoch 31/100\n",
      "108/108 - 0s - loss: 0.2685 - accuracy: 0.9722 - val_loss: 0.3941 - val_accuracy: 0.9167\n",
      "Epoch 32/100\n",
      "108/108 - 0s - loss: 0.2457 - accuracy: 0.9722 - val_loss: 0.3725 - val_accuracy: 0.9167\n",
      "Epoch 33/100\n",
      "108/108 - 0s - loss: 0.2241 - accuracy: 0.9722 - val_loss: 0.3552 - val_accuracy: 0.9167\n",
      "Epoch 34/100\n",
      "108/108 - 0s - loss: 0.2046 - accuracy: 0.9722 - val_loss: 0.3413 - val_accuracy: 0.9167\n",
      "Epoch 35/100\n",
      "108/108 - 0s - loss: 0.1875 - accuracy: 0.9722 - val_loss: 0.3278 - val_accuracy: 0.9167\n",
      "Epoch 36/100\n",
      "108/108 - 0s - loss: 0.1716 - accuracy: 0.9722 - val_loss: 0.3189 - val_accuracy: 0.9167\n",
      "Epoch 37/100\n",
      "108/108 - 0s - loss: 0.1571 - accuracy: 0.9722 - val_loss: 0.3111 - val_accuracy: 0.9167\n",
      "Epoch 38/100\n",
      "108/108 - 0s - loss: 0.1454 - accuracy: 0.9815 - val_loss: 0.3073 - val_accuracy: 0.9167\n",
      "Epoch 39/100\n",
      "108/108 - 0s - loss: 0.1341 - accuracy: 0.9815 - val_loss: 0.3060 - val_accuracy: 0.9167\n",
      "Epoch 40/100\n",
      "108/108 - 0s - loss: 0.1244 - accuracy: 0.9815 - val_loss: 0.3048 - val_accuracy: 0.9167\n",
      "Epoch 41/100\n",
      "108/108 - 0s - loss: 0.1156 - accuracy: 0.9815 - val_loss: 0.3048 - val_accuracy: 0.9167\n",
      "Epoch 42/100\n",
      "108/108 - 0s - loss: 0.1075 - accuracy: 0.9815 - val_loss: 0.3017 - val_accuracy: 0.9167\n",
      "Epoch 43/100\n",
      "108/108 - 0s - loss: 0.1008 - accuracy: 0.9815 - val_loss: 0.3014 - val_accuracy: 0.9167\n",
      "Epoch 44/100\n",
      "108/108 - 0s - loss: 0.0957 - accuracy: 0.9907 - val_loss: 0.3015 - val_accuracy: 0.9167\n",
      "Epoch 45/100\n",
      "108/108 - 0s - loss: 0.0902 - accuracy: 0.9907 - val_loss: 0.3098 - val_accuracy: 0.9167\n",
      "Epoch 46/100\n",
      "108/108 - 0s - loss: 0.0843 - accuracy: 0.9907 - val_loss: 0.3170 - val_accuracy: 0.9167\n",
      "Epoch 47/100\n",
      "108/108 - 0s - loss: 0.0800 - accuracy: 0.9907 - val_loss: 0.3218 - val_accuracy: 0.9167\n",
      "Epoch 48/100\n",
      "108/108 - 0s - loss: 0.0750 - accuracy: 0.9907 - val_loss: 0.3299 - val_accuracy: 0.9167\n",
      "Epoch 49/100\n",
      "108/108 - 0s - loss: 0.0717 - accuracy: 0.9907 - val_loss: 0.3390 - val_accuracy: 0.9167\n",
      "Epoch 50/100\n",
      "108/108 - 0s - loss: 0.0682 - accuracy: 0.9907 - val_loss: 0.3462 - val_accuracy: 0.9167\n",
      "Epoch 51/100\n",
      "108/108 - 0s - loss: 0.0651 - accuracy: 0.9907 - val_loss: 0.3476 - val_accuracy: 0.9167\n",
      "Epoch 52/100\n",
      "108/108 - 0s - loss: 0.0618 - accuracy: 0.9907 - val_loss: 0.3505 - val_accuracy: 0.9167\n",
      "Epoch 53/100\n",
      "108/108 - 0s - loss: 0.0588 - accuracy: 0.9907 - val_loss: 0.3510 - val_accuracy: 0.9167\n",
      "Epoch 54/100\n",
      "108/108 - 0s - loss: 0.0567 - accuracy: 0.9907 - val_loss: 0.3542 - val_accuracy: 0.9167\n",
      "Epoch 55/100\n",
      "108/108 - 0s - loss: 0.0538 - accuracy: 0.9907 - val_loss: 0.3572 - val_accuracy: 0.9167\n",
      "Epoch 56/100\n",
      "108/108 - 0s - loss: 0.0515 - accuracy: 0.9907 - val_loss: 0.3616 - val_accuracy: 0.9167\n",
      "Epoch 57/100\n",
      "108/108 - 0s - loss: 0.0493 - accuracy: 0.9907 - val_loss: 0.3671 - val_accuracy: 0.9167\n",
      "Epoch 58/100\n",
      "108/108 - 0s - loss: 0.0474 - accuracy: 0.9907 - val_loss: 0.3740 - val_accuracy: 0.9167\n",
      "Epoch 59/100\n",
      "108/108 - 0s - loss: 0.0453 - accuracy: 0.9907 - val_loss: 0.3783 - val_accuracy: 0.9167\n",
      "Epoch 60/100\n",
      "108/108 - 0s - loss: 0.0435 - accuracy: 0.9907 - val_loss: 0.3841 - val_accuracy: 0.9167\n",
      "Epoch 61/100\n",
      "108/108 - 0s - loss: 0.0420 - accuracy: 0.9907 - val_loss: 0.3945 - val_accuracy: 0.9167\n",
      "Epoch 62/100\n",
      "108/108 - 0s - loss: 0.0398 - accuracy: 0.9907 - val_loss: 0.4031 - val_accuracy: 0.9167\n",
      "Epoch 63/100\n",
      "108/108 - 0s - loss: 0.0383 - accuracy: 0.9907 - val_loss: 0.4092 - val_accuracy: 0.9167\n",
      "Epoch 64/100\n",
      "108/108 - 0s - loss: 0.0368 - accuracy: 0.9907 - val_loss: 0.4158 - val_accuracy: 0.9167\n",
      "Epoch 65/100\n",
      "108/108 - 0s - loss: 0.0352 - accuracy: 0.9907 - val_loss: 0.4231 - val_accuracy: 0.9167\n",
      "Epoch 66/100\n",
      "108/108 - 0s - loss: 0.0337 - accuracy: 0.9907 - val_loss: 0.4267 - val_accuracy: 0.9167\n",
      "Epoch 67/100\n",
      "108/108 - 0s - loss: 0.0323 - accuracy: 0.9907 - val_loss: 0.4333 - val_accuracy: 0.9167\n",
      "Epoch 68/100\n",
      "108/108 - 0s - loss: 0.0310 - accuracy: 0.9907 - val_loss: 0.4399 - val_accuracy: 0.9167\n",
      "Epoch 69/100\n",
      "108/108 - 0s - loss: 0.0296 - accuracy: 0.9907 - val_loss: 0.4473 - val_accuracy: 0.9167\n",
      "Epoch 70/100\n",
      "108/108 - 0s - loss: 0.0285 - accuracy: 0.9907 - val_loss: 0.4545 - val_accuracy: 0.9167\n",
      "Epoch 71/100\n",
      "108/108 - 0s - loss: 0.0275 - accuracy: 0.9907 - val_loss: 0.4618 - val_accuracy: 0.9167\n",
      "Epoch 72/100\n",
      "108/108 - 0s - loss: 0.0264 - accuracy: 0.9907 - val_loss: 0.4662 - val_accuracy: 0.9167\n",
      "Epoch 73/100\n",
      "108/108 - 0s - loss: 0.0252 - accuracy: 0.9907 - val_loss: 0.4719 - val_accuracy: 0.9167\n",
      "Epoch 74/100\n",
      "108/108 - 0s - loss: 0.0243 - accuracy: 1.0000 - val_loss: 0.4806 - val_accuracy: 0.9167\n",
      "Epoch 75/100\n",
      "108/108 - 0s - loss: 0.0234 - accuracy: 1.0000 - val_loss: 0.4896 - val_accuracy: 0.9167\n",
      "Epoch 76/100\n",
      "108/108 - 0s - loss: 0.0225 - accuracy: 1.0000 - val_loss: 0.5006 - val_accuracy: 0.9167\n",
      "Epoch 77/100\n",
      "108/108 - 0s - loss: 0.0215 - accuracy: 1.0000 - val_loss: 0.5094 - val_accuracy: 0.9167\n",
      "Epoch 78/100\n",
      "108/108 - 0s - loss: 0.0207 - accuracy: 1.0000 - val_loss: 0.5163 - val_accuracy: 0.9167\n",
      "Epoch 79/100\n",
      "108/108 - 0s - loss: 0.0200 - accuracy: 1.0000 - val_loss: 0.5220 - val_accuracy: 0.9167\n",
      "Epoch 80/100\n",
      "108/108 - 0s - loss: 0.0193 - accuracy: 1.0000 - val_loss: 0.5279 - val_accuracy: 0.9167\n"
     ]
    },
    {
     "name": "stdout",
     "output_type": "stream",
     "text": [
      "Epoch 81/100\n",
      "108/108 - 0s - loss: 0.0184 - accuracy: 1.0000 - val_loss: 0.5353 - val_accuracy: 0.9167\n",
      "Epoch 82/100\n",
      "108/108 - 0s - loss: 0.0179 - accuracy: 1.0000 - val_loss: 0.5438 - val_accuracy: 0.9167\n",
      "Epoch 83/100\n",
      "108/108 - 0s - loss: 0.0171 - accuracy: 1.0000 - val_loss: 0.5528 - val_accuracy: 0.9167\n",
      "Epoch 84/100\n",
      "108/108 - 0s - loss: 0.0164 - accuracy: 1.0000 - val_loss: 0.5600 - val_accuracy: 0.9167\n",
      "Epoch 85/100\n",
      "108/108 - 0s - loss: 0.0160 - accuracy: 1.0000 - val_loss: 0.5660 - val_accuracy: 0.9167\n",
      "Epoch 86/100\n",
      "108/108 - 0s - loss: 0.0153 - accuracy: 1.0000 - val_loss: 0.5725 - val_accuracy: 0.9167\n",
      "Epoch 87/100\n",
      "108/108 - 0s - loss: 0.0146 - accuracy: 1.0000 - val_loss: 0.5783 - val_accuracy: 0.9167\n",
      "Epoch 88/100\n",
      "108/108 - 0s - loss: 0.0141 - accuracy: 1.0000 - val_loss: 0.5855 - val_accuracy: 0.9167\n",
      "Epoch 89/100\n",
      "108/108 - 0s - loss: 0.0136 - accuracy: 1.0000 - val_loss: 0.5945 - val_accuracy: 0.9167\n",
      "Epoch 90/100\n",
      "108/108 - 0s - loss: 0.0131 - accuracy: 1.0000 - val_loss: 0.6021 - val_accuracy: 0.9167\n",
      "Epoch 91/100\n",
      "108/108 - 0s - loss: 0.0127 - accuracy: 1.0000 - val_loss: 0.6103 - val_accuracy: 0.9167\n",
      "Epoch 92/100\n",
      "108/108 - 0s - loss: 0.0122 - accuracy: 1.0000 - val_loss: 0.6181 - val_accuracy: 0.9167\n",
      "Epoch 93/100\n",
      "108/108 - 0s - loss: 0.0118 - accuracy: 1.0000 - val_loss: 0.6262 - val_accuracy: 0.9167\n",
      "Epoch 94/100\n",
      "108/108 - 0s - loss: 0.0114 - accuracy: 1.0000 - val_loss: 0.6334 - val_accuracy: 0.9167\n",
      "Epoch 95/100\n",
      "108/108 - 0s - loss: 0.0111 - accuracy: 1.0000 - val_loss: 0.6389 - val_accuracy: 0.9167\n",
      "Epoch 96/100\n",
      "108/108 - 0s - loss: 0.0107 - accuracy: 1.0000 - val_loss: 0.6438 - val_accuracy: 0.9167\n",
      "Epoch 97/100\n",
      "108/108 - 0s - loss: 0.0104 - accuracy: 1.0000 - val_loss: 0.6492 - val_accuracy: 0.9167\n",
      "Epoch 98/100\n",
      "108/108 - 0s - loss: 0.0100 - accuracy: 1.0000 - val_loss: 0.6581 - val_accuracy: 0.9167\n",
      "Epoch 99/100\n",
      "108/108 - 0s - loss: 0.0096 - accuracy: 1.0000 - val_loss: 0.6654 - val_accuracy: 0.9167\n",
      "Epoch 100/100\n",
      "108/108 - 0s - loss: 0.0093 - accuracy: 1.0000 - val_loss: 0.6706 - val_accuracy: 0.9167\n"
     ]
    }
   ],
   "source": [
    "model = Sequential()\n",
    "\n",
    "model.add(Dense(36, activation='tanh')) # input size is the total num_clusters from each dimension\n",
    "model.add(Dense(16, activation='relu'))\n",
    "model.add(Dense(16, activation='relu'))\n",
    "model.add(Dense(3, activation='softmax'))\n",
    "\n",
    "model.compile(loss='categorical_crossentropy', optimizer='adam', metrics=['accuracy'])\n",
    "\n",
    "# early_stopping_callback = tf.keras.callbacks.EarlyStopping(monitor = \"val_accuracy\", patience = 10)\n",
    "\n",
    "# fit network\n",
    "history = model.fit(X_train_fuzzified, y_encoded, epochs=100, validation_split = 0.1, verbose=2)"
   ]
  },
  {
   "cell_type": "code",
   "execution_count": 38,
   "id": "96dcc719",
   "metadata": {},
   "outputs": [],
   "source": [
    "y_pred_probs = model.predict(X_test_fuzzified)\n",
    "y_pred = np.argmax(y_pred_probs, axis = 1)"
   ]
  },
  {
   "cell_type": "code",
   "execution_count": 39,
   "id": "24216e4a",
   "metadata": {},
   "outputs": [
    {
     "data": {
      "text/plain": [
       "1.0"
      ]
     },
     "execution_count": 39,
     "metadata": {},
     "output_type": "execute_result"
    }
   ],
   "source": [
    "accuracy_score(y_test, y_pred)"
   ]
  },
  {
   "cell_type": "code",
   "execution_count": 40,
   "id": "a622e7f2",
   "metadata": {
    "scrolled": true
   },
   "outputs": [
    {
     "data": {
      "text/html": [
       "<div>\n",
       "<style scoped>\n",
       "    .dataframe tbody tr th:only-of-type {\n",
       "        vertical-align: middle;\n",
       "    }\n",
       "\n",
       "    .dataframe tbody tr th {\n",
       "        vertical-align: top;\n",
       "    }\n",
       "\n",
       "    .dataframe thead th {\n",
       "        text-align: right;\n",
       "    }\n",
       "</style>\n",
       "<table border=\"1\" class=\"dataframe\">\n",
       "  <thead>\n",
       "    <tr style=\"text-align: right;\">\n",
       "      <th></th>\n",
       "      <th>Actual</th>\n",
       "      <th>Predicted</th>\n",
       "    </tr>\n",
       "  </thead>\n",
       "  <tbody>\n",
       "    <tr>\n",
       "      <th>73</th>\n",
       "      <td>1</td>\n",
       "      <td>1</td>\n",
       "    </tr>\n",
       "    <tr>\n",
       "      <th>18</th>\n",
       "      <td>0</td>\n",
       "      <td>0</td>\n",
       "    </tr>\n",
       "    <tr>\n",
       "      <th>118</th>\n",
       "      <td>2</td>\n",
       "      <td>2</td>\n",
       "    </tr>\n",
       "    <tr>\n",
       "      <th>78</th>\n",
       "      <td>1</td>\n",
       "      <td>1</td>\n",
       "    </tr>\n",
       "    <tr>\n",
       "      <th>76</th>\n",
       "      <td>1</td>\n",
       "      <td>1</td>\n",
       "    </tr>\n",
       "    <tr>\n",
       "      <th>31</th>\n",
       "      <td>0</td>\n",
       "      <td>0</td>\n",
       "    </tr>\n",
       "    <tr>\n",
       "      <th>64</th>\n",
       "      <td>1</td>\n",
       "      <td>1</td>\n",
       "    </tr>\n",
       "    <tr>\n",
       "      <th>141</th>\n",
       "      <td>2</td>\n",
       "      <td>2</td>\n",
       "    </tr>\n",
       "    <tr>\n",
       "      <th>68</th>\n",
       "      <td>1</td>\n",
       "      <td>1</td>\n",
       "    </tr>\n",
       "    <tr>\n",
       "      <th>82</th>\n",
       "      <td>1</td>\n",
       "      <td>1</td>\n",
       "    </tr>\n",
       "    <tr>\n",
       "      <th>110</th>\n",
       "      <td>2</td>\n",
       "      <td>2</td>\n",
       "    </tr>\n",
       "    <tr>\n",
       "      <th>12</th>\n",
       "      <td>0</td>\n",
       "      <td>0</td>\n",
       "    </tr>\n",
       "    <tr>\n",
       "      <th>36</th>\n",
       "      <td>0</td>\n",
       "      <td>0</td>\n",
       "    </tr>\n",
       "    <tr>\n",
       "      <th>9</th>\n",
       "      <td>0</td>\n",
       "      <td>0</td>\n",
       "    </tr>\n",
       "    <tr>\n",
       "      <th>19</th>\n",
       "      <td>0</td>\n",
       "      <td>0</td>\n",
       "    </tr>\n",
       "    <tr>\n",
       "      <th>56</th>\n",
       "      <td>1</td>\n",
       "      <td>1</td>\n",
       "    </tr>\n",
       "    <tr>\n",
       "      <th>104</th>\n",
       "      <td>2</td>\n",
       "      <td>2</td>\n",
       "    </tr>\n",
       "    <tr>\n",
       "      <th>69</th>\n",
       "      <td>1</td>\n",
       "      <td>1</td>\n",
       "    </tr>\n",
       "    <tr>\n",
       "      <th>55</th>\n",
       "      <td>1</td>\n",
       "      <td>1</td>\n",
       "    </tr>\n",
       "    <tr>\n",
       "      <th>132</th>\n",
       "      <td>2</td>\n",
       "      <td>2</td>\n",
       "    </tr>\n",
       "    <tr>\n",
       "      <th>29</th>\n",
       "      <td>0</td>\n",
       "      <td>0</td>\n",
       "    </tr>\n",
       "    <tr>\n",
       "      <th>127</th>\n",
       "      <td>2</td>\n",
       "      <td>2</td>\n",
       "    </tr>\n",
       "    <tr>\n",
       "      <th>26</th>\n",
       "      <td>0</td>\n",
       "      <td>0</td>\n",
       "    </tr>\n",
       "    <tr>\n",
       "      <th>128</th>\n",
       "      <td>2</td>\n",
       "      <td>2</td>\n",
       "    </tr>\n",
       "    <tr>\n",
       "      <th>131</th>\n",
       "      <td>2</td>\n",
       "      <td>2</td>\n",
       "    </tr>\n",
       "    <tr>\n",
       "      <th>145</th>\n",
       "      <td>2</td>\n",
       "      <td>2</td>\n",
       "    </tr>\n",
       "    <tr>\n",
       "      <th>108</th>\n",
       "      <td>2</td>\n",
       "      <td>2</td>\n",
       "    </tr>\n",
       "    <tr>\n",
       "      <th>143</th>\n",
       "      <td>2</td>\n",
       "      <td>2</td>\n",
       "    </tr>\n",
       "    <tr>\n",
       "      <th>45</th>\n",
       "      <td>0</td>\n",
       "      <td>0</td>\n",
       "    </tr>\n",
       "    <tr>\n",
       "      <th>30</th>\n",
       "      <td>0</td>\n",
       "      <td>0</td>\n",
       "    </tr>\n",
       "  </tbody>\n",
       "</table>\n",
       "</div>"
      ],
      "text/plain": [
       "     Actual  Predicted\n",
       "73        1          1\n",
       "18        0          0\n",
       "118       2          2\n",
       "78        1          1\n",
       "76        1          1\n",
       "31        0          0\n",
       "64        1          1\n",
       "141       2          2\n",
       "68        1          1\n",
       "82        1          1\n",
       "110       2          2\n",
       "12        0          0\n",
       "36        0          0\n",
       "9         0          0\n",
       "19        0          0\n",
       "56        1          1\n",
       "104       2          2\n",
       "69        1          1\n",
       "55        1          1\n",
       "132       2          2\n",
       "29        0          0\n",
       "127       2          2\n",
       "26        0          0\n",
       "128       2          2\n",
       "131       2          2\n",
       "145       2          2\n",
       "108       2          2\n",
       "143       2          2\n",
       "45        0          0\n",
       "30        0          0"
      ]
     },
     "execution_count": 40,
     "metadata": {},
     "output_type": "execute_result"
    }
   ],
   "source": [
    "pd.DataFrame({\"Actual\" : y_test, \n",
    "              \"Predicted\" : y_pred})"
   ]
  },
  {
   "cell_type": "code",
   "execution_count": 41,
   "id": "7592e738",
   "metadata": {},
   "outputs": [],
   "source": [
    "# (1 + 0.966 + 0.866 + 0.933 + 0.9)/5"
   ]
  },
  {
   "cell_type": "code",
   "execution_count": null,
   "id": "88d704d8",
   "metadata": {},
   "outputs": [],
   "source": []
  }
 ],
 "metadata": {
  "kernelspec": {
   "display_name": "fishdbc-tf",
   "language": "python",
   "name": "fishdbc-tf"
  },
  "language_info": {
   "codemirror_mode": {
    "name": "ipython",
    "version": 3
   },
   "file_extension": ".py",
   "mimetype": "text/x-python",
   "name": "python",
   "nbconvert_exporter": "python",
   "pygments_lexer": "ipython3",
   "version": "3.7.11"
  }
 },
 "nbformat": 4,
 "nbformat_minor": 5
}
